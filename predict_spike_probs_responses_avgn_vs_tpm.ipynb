{
 "cells": [
  {
   "cell_type": "markdown",
   "metadata": {},
   "source": [
    "### Imports and directories"
   ]
  },
  {
   "cell_type": "code",
   "execution_count": 1,
   "metadata": {},
   "outputs": [],
   "source": [
    "import numpy as np\n",
    "import os\n",
    "from oe_acute import trial_utils as tu\n",
    "import matplotlib.pyplot as plt\n",
    "import matplotlib.cm as cm\n",
    "import pickle\n",
    "import tqdm\n",
    "import glob\n",
    "from scipy.ndimage import gaussian_filter1d\n",
    "from scipy.stats.stats import pearsonr \n",
    "\n",
    "import sys"
   ]
  },
  {
   "cell_type": "markdown",
   "metadata": {},
   "source": [
    "### Load data"
   ]
  },
  {
   "cell_type": "code",
   "execution_count": 2,
   "metadata": {},
   "outputs": [],
   "source": [
    "#exp_path = '/mnt/cube/btheilma/experiments/B1240/block3/'\n",
    "sort_path =  '/mnt/cube/btheilma/sorting/B1240/block3/'\n",
    "\n",
    "stim_path = '/mnt/cube/srrudrar/experiments/MET_prediction_expt/'\n",
    "\n",
    "exp_path1 = '/mnt/cube/srrudrar/experiments/B1240/block3/'"
   ]
  },
  {
   "cell_type": "code",
   "execution_count": 3,
   "metadata": {},
   "outputs": [],
   "source": [
    "d = 32"
   ]
  },
  {
   "cell_type": "code",
   "execution_count": 4,
   "metadata": {},
   "outputs": [],
   "source": [
    "exp_path = '/mnt/cube/srrudrar/raw_spec/B1240/32x32/stim_resp_32x32_{}/test_set_mne1/'.format(d)\n",
    "MNE_test_dset_pred = '/mnt/cube/srrudrar/raw_spec/B1240/32x32/stim_resp_32x32_{}/test_set_mne1/MNE_test_dset/'.format(d)  \n",
    "MNE_test_dset_sig = '/mnt/cube/srrudrar/avgn_model/B1240/32x32/stim_resp_32x32_{}/test_set_mne/MNE_test_dset/'.format(d) \n",
    "exp_path_s = '/mnt/cube/srrudrar/avgn_model/B1240/32x32/stim_resp_32x32_{}/test_set_mne/'.format(d)\n",
    "#MNE_test_dset_sig1 = '/mnt/cube/srrudrar/experiments/B1240/block3/MNE_test_dset/signal/'"
   ]
  },
  {
   "cell_type": "code",
   "execution_count": 5,
   "metadata": {},
   "outputs": [],
   "source": [
    "#units_to_process = [2, 5, 7, 16, 17, 21]   # good clusters\n",
    "#units_to_process = [0, 1, 3, 4, 6, 8, 9, 10, 11, 12, 13, 14, 15, 18, 19, 20, 22, 23]   # mua clusters\n",
    "ratings = [1,2,3]\n",
    "clusters = []\n",
    "for rating in ratings:\n",
    "    x = tu.get_clusters_by_rating(sort_path, rating)\n",
    "    clusters.extend(x)"
   ]
  },
  {
   "cell_type": "markdown",
   "metadata": {},
   "source": [
    "### Functions"
   ]
  },
  {
   "cell_type": "code",
   "execution_count": 6,
   "metadata": {},
   "outputs": [],
   "source": [
    "def predict_spiking_response(pfinal, stim_segs, sdim, n_trials=20):\n",
    "\n",
    "    '''\n",
    "    Given a pfinal parameter vector and stimulus segments, predict n_trials spike trains\n",
    "    stim_segs is an array nsegs x ndim\n",
    "    spikes is a binary array n_trials x nsegs\n",
    "    TODO: Specify first order or second order model\n",
    "    '''\n",
    "\n",
    "    a = pfinal[0]\n",
    "    h = pfinal[1:sdim+1]\n",
    "    J = np.reshape(pfinal[-1*sdim**2:], (sdim, sdim))\n",
    "\n",
    "    x = a + np.dot(stim_segs, h) + np.sum(stim_segs * (stim_segs.dot(J)), 1)\n",
    "    probs = 1.0 / (1.0 + np.exp(x))\n",
    "    spikes = np.less(np.random.rand(n_trials, len(probs)), probs).astype(int)\n",
    "    return spikes"
   ]
  },
  {
   "cell_type": "code",
   "execution_count": 7,
   "metadata": {},
   "outputs": [],
   "source": [
    "def predict_spiking_probability(pfinal, stim_segs, sdim, **kwargs):\n",
    "\n",
    "    '''\n",
    "    Given a pfinal parameter vector and stimulus segments, predict spiking probabilities\n",
    "    stim_segs is an array nsegs x ndim\n",
    "    spikes is a binary array n_trials x nsegs\n",
    "    '''\n",
    "\n",
    "    a = pfinal[0]\n",
    "    h = pfinal[1:sdim+1]\n",
    "    J = np.reshape(pfinal[-1*sdim**2:], (sdim, sdim))\n",
    "    x = a + np.dot(stim_segs, h) + np.sum(stim_segs * (stim_segs.dot(J)), 1)\n",
    "    probs = 1.0 / (1.0 + np.exp(x))\n",
    "    return probs\n",
    "\n",
    "def predict_spiking_prob_lin(pfinal, stim_segs, sdim, **kwargs):\n",
    "\n",
    "    '''\n",
    "    Given a pfinal parameter vector and stimulus segments, predict spiking probabilities\n",
    "    stim_segs is an array nsegs x ndim\n",
    "    spikes is a binary array n_trials x nsegs\n",
    "    '''\n",
    "\n",
    "    a = pfinal[0]\n",
    "    h = pfinal[1:sdim+1]\n",
    "    x = a + np.dot(stim_segs, h)\n",
    "    probs = 1.0 / (1.0 + np.exp(x))\n",
    "    return probs"
   ]
  },
  {
   "cell_type": "code",
   "execution_count": 8,
   "metadata": {},
   "outputs": [],
   "source": [
    "def evaluate_prediction(pfinal, stims_test, resps_test, sdim, **kwargs):\n",
    "    '''\n",
    "    Given a vector of MNE parameters pfinal, predict spiking probabilities using stims_test and the \n",
    "    MNE model, and compare these to the given 'resps_test' using pearson correlation\n",
    "    '''\n",
    "    \n",
    "    probs = predict_spiking_probability(pfinal, stims_test, sdim, **kwargs)\n",
    "    corr = pearsonr(probs, resps_test.flatten())\n",
    "    return probs, corr\n",
    "\n",
    "def evaluate_pred_lin(pfinal, stims_test, resps_test, sdim, **kwargs):\n",
    "    '''\n",
    "    Given a vector of MNE parameters pfinal, predict spiking probabilities using stims_test and the \n",
    "    MNE model, and compare these to the given 'resps_test' using pearson correlation\n",
    "    '''\n",
    "    \n",
    "    probs = predict_spiking_prob_lin(pfinal, stims_test, sdim, **kwargs)\n",
    "    corr = pearsonr(probs, resps_test.flatten())\n",
    "    return probs, corr"
   ]
  },
  {
   "cell_type": "code",
   "execution_count": 9,
   "metadata": {},
   "outputs": [],
   "source": [
    "def correlate_gaussian_spiketrains(sp1, sp2, tau):\n",
    "    '''\n",
    "    Compute the correlation of two gaussian smoothed spike trains\n",
    "    sp1, sp2 are lists of spike times, tau is the gaussian standard deviation\n",
    "    '''\n",
    "    diffmtx = sp2[:, np.newaxis] - sp1[np.newaxis, :]\n",
    "    n1 = len(sp1)\n",
    "    n2 = len(sp2)\n",
    "\n",
    "    corr = np.sum(np.exp(-0.5*(diffmtx**2 / (2*tau**2)))*(tau*np.sqrt(np.pi)))\n",
    "    return corr"
   ]
  },
  {
   "cell_type": "code",
   "execution_count": null,
   "metadata": {},
   "outputs": [],
   "source": []
  },
  {
   "cell_type": "markdown",
   "metadata": {},
   "source": [
    "### Corrs for all units"
   ]
  },
  {
   "cell_type": "code",
   "execution_count": 10,
   "metadata": {},
   "outputs": [],
   "source": [
    "corrs_full = []\n",
    "corrs_full_sig = []\n",
    "corrs_full_sig1 = []\n",
    "corrs_lin = []\n",
    "corrs_lin_sig = []\n",
    "corrs_lin_sig1 = []\n",
    "units = []\n",
    "\n",
    "for unit in clusters:\n",
    "    # pred corr\n",
    "    with open(os.path.join(MNE_test_dset_pred, 'unit-{}_MNE.pkl'.format(unit)), 'rb') as f:       #change\n",
    "        test_dict = pickle.load(f)\n",
    "    stims_test = test_dict['stims_test']\n",
    "    resps_test = test_dict['resps_test']\n",
    "    \n",
    "    with open(os.path.join(exp_path, 'all_1_2_3_MNEs_random_test.pkl'), 'rb') as f:       #change                        \n",
    "        pfinals = pickle.load(f)\n",
    "    pfinal = pfinals[unit]\n",
    "    \n",
    "    probs, corr = evaluate_prediction(pfinal, stims_test, resps_test, sdim=d)\n",
    "    probs_lin, corr_lin = evaluate_pred_lin(pfinal, stims_test, resps_test, sdim=d)\n",
    "    \n",
    "    # sig corr\n",
    "    with open(os.path.join(MNE_test_dset_sig, 'unit-{}_MNE.pkl'.format(unit)), 'rb') as f:\n",
    "        test_dict_sig = pickle.load(f)\n",
    "    stims_test_sig = test_dict_sig['stims_test']\n",
    "    resps_test_sig = test_dict_sig['resps_test']\n",
    "    \n",
    "    with open(os.path.join(exp_path_s, 'all_1_2_3_MNEs_random_test.pkl'), 'rb') as f:                          \n",
    "        pfinals_sig = pickle.load(f)\n",
    "    pfinal_sig = pfinals_sig[unit]\n",
    "    \n",
    "    probs_sig, corr_sig = evaluate_prediction(pfinal_sig, stims_test_sig, resps_test_sig, sdim=d)\n",
    "    probs_lin_sig, corr_lin_sig = evaluate_pred_lin(pfinal_sig, stims_test_sig, resps_test_sig, sdim=d)\n",
    "    \n",
    "    ## sig corr 1\n",
    "    #with open(os.path.join(MNE_test_dset_sig1, '_unit-{}_MNE.pkl'.format(unit)), 'rb') as f:\n",
    "    #    test_dict_sig1 = pickle.load(f)\n",
    "    #stims_test_sig1 = test_dict_sig1['stims_test']\n",
    "    #resps_test_sig1 = test_dict_sig1['resps_test']\n",
    "    #\n",
    "    #with open(os.path.join(exp_path1, 'all_1_2_3_MNEs_random_test.pkl'), 'rb') as f:                          \n",
    "    #    pfinals_sig1 = pickle.load(f)\n",
    "    #pfinal_sig1 = pfinals_sig1[unit]\n",
    "    #\n",
    "    #probs_sig1, corr_sig1 = evaluate_prediction(pfinal_sig1, stims_test_sig1, resps_test_sig1, sdim=320)\n",
    "    #probs_lin_sig1, corr_lin_sig1 = evaluate_pred_lin(pfinal_sig1, stims_test_sig1, resps_test_sig1, sdim=320)\n",
    "    \n",
    "    # form lists of correlations\n",
    "    corrs_full.append(corr[0])\n",
    "    corrs_lin.append(corr_lin[0])\n",
    "    corrs_full_sig.append(corr_sig[0])\n",
    "    corrs_lin_sig.append(corr_lin_sig[0])\n",
    "    #corrs_full_sig1.append(corr_sig1[0])\n",
    "    #corrs_lin_sig1.append(corr_lin_sig1[0])\n",
    "    units.append(unit)"
   ]
  },
  {
   "cell_type": "code",
   "execution_count": 11,
   "metadata": {},
   "outputs": [],
   "source": [
    "np.save('/mnt/cube/srrudrar/corrs/B1240/raw_spec_32x32/raw_spec_{}_full1.npy'.format(d), corrs_full)\n",
    "np.save('/mnt/cube/srrudrar/corrs/B1240/raw_spec_32x32/raw_spec_{}_lin1.npy'.format(d), corrs_lin)\n",
    "#np.save('/mnt/cube/srrudrar/corrs/B1240/tpm_32x32/tpm_{}_full.npy'.format(d), corrs_full)\n",
    "#np.save('/mnt/cube/srrudrar/corrs/B1240/tpm_32x32/tpm_{}_lin.npy'.format(d), corrs_lin)"
   ]
  },
  {
   "cell_type": "code",
   "execution_count": null,
   "metadata": {},
   "outputs": [],
   "source": [
    "### Only for neg corr values?\n",
    "ind = [i for i,v in enumerate(corrs_full_sig) if v <= 0]\n",
    "ind"
   ]
  },
  {
   "cell_type": "code",
   "execution_count": null,
   "metadata": {},
   "outputs": [],
   "source": [
    "corrs_full1 = corrs_full\n",
    "for index in sorted(ind, reverse=True):\n",
    "    del corrs_full1[index]\n",
    "\n",
    "corrs_full_sig1 = corrs_full_sig\n",
    "for index in sorted(ind, reverse=True):\n",
    "    del corrs_full_sig1[index]"
   ]
  },
  {
   "cell_type": "code",
   "execution_count": null,
   "metadata": {},
   "outputs": [],
   "source": []
  },
  {
   "cell_type": "markdown",
   "metadata": {},
   "source": [
    "### Plots"
   ]
  },
  {
   "cell_type": "code",
   "execution_count": 12,
   "metadata": {},
   "outputs": [
    {
     "data": {
      "image/png": "[encoded data removed]",
      "text/plain": [
       "<Figure size 432x288 with 1 Axes>"
      ]
     },
     "metadata": {
      "needs_background": "light"
     },
     "output_type": "display_data"
    }
   ],
   "source": [
    "# Plot\n",
    "fig = plt.figure()\n",
    "ax = fig.add_subplot(111)\n",
    "plt.scatter(corrs_full_sig, corrs_full, alpha=0.5)        ##change\n",
    "plt.plot([0, 0.9], [0, 0.9], color = 'black', linewidth = 2)\n",
    "ax.set_aspect('equal', adjustable='box')\n",
    "plt.title('avgn vs spec full {}'.format(d))                      ##change\n",
    "plt.xlabel('avgn_{}'.format(d))\n",
    "plt.ylabel('spec_{}'.format(d))                                  ##change\n",
    "plt.show()"
   ]
  },
  {
   "cell_type": "code",
   "execution_count": null,
   "metadata": {},
   "outputs": [],
   "source": [
    "# Plot\n",
    "fig = plt.figure()\n",
    "ax = fig.add_subplot(111)\n",
    "plt.scatter(corrs_lin_sig, corrs_lin, alpha=0.5)\n",
    "plt.plot([0, 0.9], [0, 0.9], color = 'black', linewidth = 2)\n",
    "ax.set_aspect('equal', adjustable='box')\n",
    "plt.title('avgn vs tpm linear {}'.format(d))\n",
    "plt.xlabel('avgn_{}'.format(d))\n",
    "plt.ylabel('tpm_{}'.format(d))\n",
    "plt.show()"
   ]
  },
  {
   "cell_type": "code",
   "execution_count": null,
   "metadata": {},
   "outputs": [],
   "source": [
    "diag1 = np.array([0,0])\n",
    "diag2 = np.array([0.9,0.9])\n",
    "perp_dist = []\n",
    "for i in range(len(corrs_full)):\n",
    "    p = np.array([corrs_full_sig1[i],corrs_full[i]])\n",
    "    d = np.cross(diag2 - diag1, p - diag1) / np.linalg.norm(diag2 - diag1)\n",
    "    if corrs_full_sig1[i] > corrs_full[i]:\n",
    "        perp_dist.append(-1*d)\n",
    "    else:\n",
    "        perp_dist.append(d)"
   ]
  },
  {
   "cell_type": "code",
   "execution_count": null,
   "metadata": {},
   "outputs": [],
   "source": [
    "from scipy.stats import norm\n",
    "import statistics\n",
    "\n",
    "perp_dist = np.asarray(perp_dist)\n",
    "plt.hist(perp_dist, 100)\n",
    "  \n",
    "# plotting mean line\n",
    "plt.axvline(perp_dist.mean(), color='k', linestyle='dashed', linewidth=2)\n",
    "  \n",
    "# showing the plot\n",
    "plt.show()"
   ]
  },
  {
   "cell_type": "code",
   "execution_count": null,
   "metadata": {},
   "outputs": [],
   "source": [
    "plt.plot(resp_test_sig1[0].flatten()[2750:3000], 'k', label='empirical response')\n",
    "plt.plot(probs[0][2750:3000], 'b', label='response modeled w/signal')\n",
    "#plt.legend()\n",
    "#plt.xlabel('time bins')\n",
    "#plt.ylabel('spiking probability')\n",
    "#plt.grid()\n",
    "plt.show()"
   ]
  },
  {
   "cell_type": "code",
   "execution_count": null,
   "metadata": {},
   "outputs": [],
   "source": []
  },
  {
   "cell_type": "code",
   "execution_count": null,
   "metadata": {},
   "outputs": [],
   "source": [
    "# Plot\n",
    "fig = plt.figure()\n",
    "ax = fig.add_subplot(111)\n",
    "plt.scatter(corrs_full_sig, corrs_full, alpha=0.5)\n",
    "plt.plot([0, 0.9], [0, 0.9], color = 'black', linewidth = 2)\n",
    "ax.set_aspect('equal', adjustable='box')\n",
    "plt.title('temporal model full')\n",
    "plt.xlabel('corr_sig')\n",
    "plt.ylabel('corr_tpm_pred')\n",
    "plt.show()"
   ]
  },
  {
   "cell_type": "code",
   "execution_count": null,
   "metadata": {},
   "outputs": [],
   "source": [
    "correlation_matrix = np.corrcoef(corrs_full_sig, corrs_full)\n",
    "correlation_xy = correlation_matrix[0,1]\n",
    "r_squared = correlation_xy**2\n",
    "print(r_squared)"
   ]
  },
  {
   "cell_type": "code",
   "execution_count": null,
   "metadata": {},
   "outputs": [],
   "source": [
    "import scipy\n",
    "scipy.stats.ttest_rel(corrs_full_sig, corrs_full)"
   ]
  },
  {
   "cell_type": "code",
   "execution_count": null,
   "metadata": {},
   "outputs": [],
   "source": [
    "np.mean(corrs_full)"
   ]
  },
  {
   "cell_type": "code",
   "execution_count": null,
   "metadata": {},
   "outputs": [],
   "source": [
    "# Plot\n",
    "fig = plt.figure()\n",
    "ax = fig.add_subplot(111)\n",
    "plt.scatter(corrs_lin_sig, corrs_lin, alpha=0.5)\n",
    "plt.plot([0, 0.9], [0, 0.9], color = 'black', linewidth = 2)\n",
    "ax.set_aspect('equal', adjustable='box')\n",
    "plt.title('temporal model linear')\n",
    "plt.xlabel('corr_sig')\n",
    "plt.ylabel('corr_tpm_pred')\n",
    "plt.show()"
   ]
  },
  {
   "cell_type": "code",
   "execution_count": null,
   "metadata": {},
   "outputs": [],
   "source": [
    "import math\n",
    "import numpy as np\n",
    "\n",
    "# Function to find distance\n",
    "def shortest_distance(x1, y1):      \n",
    "    p1=np.array([0,0])\n",
    "    p2=np.array([1,1])\n",
    "    p3=np.array([x1,y1])\n",
    "    d=np.cross(p2-p1,p3-p1)/np.linalg.norm(p2-p1)\n",
    "    #if x1>y1:\n",
    "    #    d = d*-1\n",
    "    return d"
   ]
  },
  {
   "cell_type": "code",
   "execution_count": null,
   "metadata": {},
   "outputs": [],
   "source": [
    "residual_full = []\n",
    "residual_lin = []\n",
    "\n",
    "for i in range(214):\n",
    "    d_full = shortest_distance(corrs_full_sig[i], corrs_full[i])\n",
    "    d_lin = shortest_distance(corrs_lin_sig[i], corrs_lin[i])\n",
    "    residual_full.append(d_full)\n",
    "    residual_lin.append(d_lin)"
   ]
  },
  {
   "cell_type": "code",
   "execution_count": null,
   "metadata": {},
   "outputs": [],
   "source": [
    "import matplotlib.gridspec as gridspec\n",
    "from scipy.stats import norm\n",
    "\n",
    "mu, std = norm.fit(residual_full)\n",
    "\n",
    "fig = plt.figure(constrained_layout=True, figsize=(9, 6))\n",
    "gs = fig.add_gridspec(1, 6)\n",
    "\n",
    "ax_res = fig.add_subplot(gs[0, :4])\n",
    "ax_res.scatter(corrs_full, residual_full)\n",
    "ax_res.grid(False)\n",
    "ax_res.axhline(y = mu, color='black', linestyle = '-')\n",
    "ax_res.tick_params(axis='x', labelsize=18)\n",
    "ax_res.tick_params(axis='y', labelsize=18)\n",
    "\n",
    "ax_hist = fig.add_subplot(gs[0, 4:])\n",
    "ax_hist.hist(residual_full, bins=30, orientation=\"horizontal\");\n",
    "ax_hist.grid(False)\n",
    "#ax_hist.axhline(y = mu, color='black', linestyle = '-')\n",
    "ax_hist.set_yticks([])\n",
    "ax_hist.tick_params(axis='x', labelsize=18)\n",
    "\n",
    "ax_res.set_title('Residual Plot: {:.2f} and {:.2f}'.format(mu, std), fontsize=24)\n",
    "ax_res.set_ylabel('residuals', fontsize=20)\n",
    "ax_res.set_xlabel('corr_tmp_pred', fontsize=20)"
   ]
  },
  {
   "cell_type": "code",
   "execution_count": null,
   "metadata": {},
   "outputs": [],
   "source": [
    "with open('/mnt/cube/srrudrar/temporal_model/figures/res_full_32.pkl', 'rb') as f:\n",
    "    f32 = pickle.load(f)\n",
    "with open('/mnt/cube/srrudrar/temporal_model/figures/res_lin_32.pkl', 'rb') as f:\n",
    "    l32 = pickle.load(f)\n",
    "    \n",
    "with open('/mnt/cube/srrudrar/temporal_model/figures/res_full_64.pkl', 'rb') as f:\n",
    "    f64 = pickle.load(f)\n",
    "with open('/mnt/cube/srrudrar/temporal_model/figures/res_lin_64.pkl', 'rb') as f:\n",
    "    l64 = pickle.load(f)\n",
    "    \n",
    "with open('/mnt/cube/srrudrar/temporal_model/figures/res_full_128.pkl', 'rb') as f:\n",
    "    f128 = pickle.load(f)\n",
    "with open('/mnt/cube/srrudrar/temporal_model/figures/res_lin_128.pkl', 'rb') as f:\n",
    "    l128 = pickle.load(f)\n",
    "    \n",
    "with open('/mnt/cube/srrudrar/temporal_model/figures/res_full_256.pkl', 'rb') as f:\n",
    "    f256 = pickle.load(f)\n",
    "with open('/mnt/cube/srrudrar/temporal_model/figures/res_lin_256.pkl', 'rb') as f:\n",
    "    l256 = pickle.load(f)    "
   ]
  },
  {
   "cell_type": "code",
   "execution_count": null,
   "metadata": {},
   "outputs": [],
   "source": [
    "mu_32 = np.mean(f32)\n",
    "mu_64 = np.mean(f64)\n",
    "mu_128 = np.mean(f128)\n",
    "mu_256 = np.mean(f256)\n",
    "\n",
    "std_32 = np.std(f32)\n",
    "std_64 = np.std(f64)\n",
    "std_128 = np.std(f128)\n",
    "std_256 = np.std(f256)"
   ]
  },
  {
   "cell_type": "code",
   "execution_count": null,
   "metadata": {},
   "outputs": [],
   "source": [
    "mu_32l = np.mean(l32)\n",
    "mu_64l = np.mean(l64)\n",
    "mu_128l = np.mean(l128)\n",
    "mu_256l = np.mean(l256)\n",
    "\n",
    "std_32l = np.std(l32)\n",
    "std_64l = np.std(l64)\n",
    "std_128l = np.std(l128)\n",
    "std_256l = np.std(l256)"
   ]
  },
  {
   "cell_type": "code",
   "execution_count": null,
   "metadata": {},
   "outputs": [],
   "source": [
    "with open('/mnt/cube/srrudrar/temporal_model/figures/res_full_avgn_128.pkl', 'rb') as f:\n",
    "    ae = pickle.load(f)"
   ]
  },
  {
   "cell_type": "code",
   "execution_count": null,
   "metadata": {},
   "outputs": [],
   "source": [
    "mu_ae = np.mean(ae)\n",
    "std_ae = np.std(ae)"
   ]
  },
  {
   "cell_type": "code",
   "execution_count": null,
   "metadata": {},
   "outputs": [],
   "source": [
    "# Create lists for the plot\n",
    "x_f = ['256', '128', '64', '32']\n",
    "x_pos = np.arange(len(x_f))\n",
    "CTEs = [mu_256l, mu_128l, mu_64l, mu_32l]\n",
    "error = [std_256l, std_128l, std_64l, std_32l]"
   ]
  },
  {
   "cell_type": "code",
   "execution_count": null,
   "metadata": {},
   "outputs": [],
   "source": [
    "# Build the plot\n",
    "fig, ax = plt.subplots()\n",
    "ax.bar(x_pos, CTEs, yerr=error, align='center', alpha=0.5, ecolor='black', capsize=10)\n",
    "ax.axhline(y = 0, color='black', linestyle = '-')\n",
    "ax.set_ylabel('residuals')\n",
    "ax.set_xticks(x_pos)\n",
    "ax.set_xticklabels(x_f)\n",
    "ax.set_title('Residuals linear model')\n",
    "\n",
    "ax.yaxis.grid(False)\n",
    "\n",
    "# Save the figure and show\n",
    "plt.tight_layout()\n",
    "plt.show()"
   ]
  },
  {
   "cell_type": "code",
   "execution_count": null,
   "metadata": {},
   "outputs": [],
   "source": [
    "# Create lists for the plot\n",
    "x_f = ['avgn 128', 'tmp 128']\n",
    "x_pos = np.arange(len(x_f))\n",
    "CTEs = [mu_ae, mu_128]\n",
    "error = [std_ae, std_128]"
   ]
  },
  {
   "cell_type": "code",
   "execution_count": null,
   "metadata": {},
   "outputs": [],
   "source": [
    "# Build the plot\n",
    "fig, ax = plt.subplots()\n",
    "ax.bar(x_pos, CTEs, yerr=error, align='center', alpha=0.5, ecolor='black', capsize=10)\n",
    "ax.axhline(y = 0, color='black', linestyle = '-')\n",
    "ax.set_ylabel('residuals')\n",
    "ax.set_xticks(x_pos)\n",
    "ax.set_xticklabels(x_f)\n",
    "ax.set_title('Residuals avgn vs tmp model 128 units')\n",
    "\n",
    "ax.yaxis.grid(False)\n",
    "\n",
    "# Save the figure and show\n",
    "plt.tight_layout()\n",
    "plt.show()"
   ]
  },
  {
   "cell_type": "code",
   "execution_count": null,
   "metadata": {},
   "outputs": [],
   "source": []
  },
  {
   "cell_type": "code",
   "execution_count": null,
   "metadata": {},
   "outputs": [],
   "source": []
  },
  {
   "cell_type": "code",
   "execution_count": null,
   "metadata": {},
   "outputs": [],
   "source": []
  },
  {
   "cell_type": "code",
   "execution_count": null,
   "metadata": {},
   "outputs": [],
   "source": [
    "diag1 = np.array([0,0])\n",
    "diag2 = np.array([0.9,0.9])\n",
    "perp_dist = []\n",
    "for i in range(len(corrs_full)):\n",
    "    p = np.array([corrs_full_sig[i],corrs_full[i]])\n",
    "    d = np.cross(diag2 - diag1, p - diag1) / np.linalg.norm(diag2 - diag1)\n",
    "    if corrs_full_sig[i] > corrs_full[i]:\n",
    "        perp_dist.append(-1*d)\n",
    "    else:\n",
    "        perp_dist.append(d)"
   ]
  },
  {
   "cell_type": "code",
   "execution_count": null,
   "metadata": {},
   "outputs": [],
   "source": [
    "from scipy.stats import norm\n",
    "import statistics\n",
    "\n",
    "perp_dist = np.asarray(perp_dist)\n",
    "plt.hist(perp_dist, 100)\n",
    "  \n",
    "# plotting mean line\n",
    "plt.axvline(perp_dist.mean(), color='k', linestyle='dashed', linewidth=2)\n",
    "  \n",
    "# showing the plot\n",
    "plt.show()"
   ]
  },
  {
   "cell_type": "code",
   "execution_count": null,
   "metadata": {},
   "outputs": [],
   "source": []
  },
  {
   "cell_type": "code",
   "execution_count": null,
   "metadata": {},
   "outputs": [],
   "source": []
  },
  {
   "cell_type": "code",
   "execution_count": null,
   "metadata": {},
   "outputs": [],
   "source": []
  },
  {
   "cell_type": "code",
   "execution_count": null,
   "metadata": {},
   "outputs": [],
   "source": []
  },
  {
   "cell_type": "code",
   "execution_count": null,
   "metadata": {},
   "outputs": [],
   "source": []
  },
  {
   "cell_type": "code",
   "execution_count": null,
   "metadata": {},
   "outputs": [],
   "source": []
  },
  {
   "cell_type": "code",
   "execution_count": null,
   "metadata": {},
   "outputs": [],
   "source": [
    "# Plot\n",
    "fig = plt.figure()\n",
    "ax = fig.add_subplot(111)\n",
    "plt.scatter(units, corrs_full, alpha=0.5)\n",
    "#plt.plot([0, 0.6], [0, 0.6], color = 'black', linewidth = 2)\n",
    "#ax.set_aspect('equal', adjustable='box')\n",
    "plt.title('B1240')\n",
    "plt.xlabel('unit')\n",
    "plt.ylabel('corr_full')\n",
    "plt.show()"
   ]
  },
  {
   "cell_type": "code",
   "execution_count": null,
   "metadata": {},
   "outputs": [],
   "source": [
    "# Plot\n",
    "fig = plt.figure()\n",
    "ax = fig.add_subplot(111)\n",
    "plt.scatter(units, corrs_full, alpha=0.5)\n",
    "#plt.plot([0, 0.6], [0, 0.6], color = 'black', linewidth = 2)\n",
    "#ax.set_aspect('equal', adjustable='box')\n",
    "plt.title('B1240')\n",
    "plt.xlabel('unit')\n",
    "plt.ylabel('corr_full')\n",
    "plt.show()"
   ]
  },
  {
   "cell_type": "code",
   "execution_count": null,
   "metadata": {},
   "outputs": [],
   "source": [
    "# Plot\n",
    "fig = plt.figure()\n",
    "ax = fig.add_subplot(111)\n",
    "plt.scatter(units, corrs_lin, alpha=0.5)\n",
    "#plt.plot([0, 0.6], [0, 0.6], color = 'black', linewidth = 2)\n",
    "#ax.set_aspect('equal', adjustable='box')\n",
    "plt.title('B1240')\n",
    "plt.xlabel('unit')\n",
    "plt.ylabel('corr_lin')\n",
    "plt.show()"
   ]
  },
  {
   "cell_type": "code",
   "execution_count": null,
   "metadata": {},
   "outputs": [],
   "source": [
    "# Plot\n",
    "fig = plt.figure()\n",
    "ax = fig.add_subplot(111)\n",
    "plt.scatter(units, corrs_lin, alpha=0.5)\n",
    "#plt.plot([0, 0.6], [0, 0.6], color = 'black', linewidth = 2)\n",
    "#ax.set_aspect('equal', adjustable='box')\n",
    "plt.title('B1240')\n",
    "plt.xlabel('unit')\n",
    "plt.ylabel('corr_lin')\n",
    "plt.show()"
   ]
  },
  {
   "cell_type": "code",
   "execution_count": null,
   "metadata": {},
   "outputs": [],
   "source": []
  },
  {
   "cell_type": "code",
   "execution_count": null,
   "metadata": {},
   "outputs": [],
   "source": []
  },
  {
   "cell_type": "code",
   "execution_count": null,
   "metadata": {},
   "outputs": [],
   "source": []
  },
  {
   "cell_type": "code",
   "execution_count": null,
   "metadata": {},
   "outputs": [],
   "source": [
    "for unit in units_to_process:\n",
    "    with open(os.path.join(test_data_path, '{}_leave/stim_resp_test.pkl'.format(unit)), 'rb') as f:\n",
    "        test_dict = pickle.load(f)\n",
    "\n",
    "    stims_test = test_dict['stims_test']\n",
    "    resps_test = test_dict['resps_test']\n",
    "\n",
    "    with open(os.path.join(exp_path, 'all_mua_MNEs_leave_first_stim.pkl'), 'rb') as f:                             #change\n",
    "        pfinals = pickle.load(f)\n",
    "\n",
    "    pfinal = np.mean(pfinals[unit], axis = 0)\n",
    "    probs, corr = evaluate_prediction(pfinal, stims_test, resps_test)\n",
    "    probs_lin, corr_lin = evaluate_pred_lin(pfinal, stims_test, resps_test)\n",
    "\n",
    "    prob_dict = {'probs':probs, 'probs_lin': probs_lin, 'corr': corr, 'corr_lin': corr_lin}\n",
    "    \n",
    "#    print(corr[0])\n",
    "    print(corr_lin[0])\n",
    "#\n",
    "#    with open(os.path.join(output_path, 'spike_prob_{}.pkl'.format(unit)), 'wb') as f:\n",
    "#        pickle.dump(prob_dict, f)"
   ]
  },
  {
   "cell_type": "code",
   "execution_count": null,
   "metadata": {},
   "outputs": [],
   "source": []
  },
  {
   "cell_type": "code",
   "execution_count": null,
   "metadata": {},
   "outputs": [],
   "source": []
  },
  {
   "cell_type": "code",
   "execution_count": null,
   "metadata": {},
   "outputs": [],
   "source": []
  },
  {
   "cell_type": "code",
   "execution_count": null,
   "metadata": {},
   "outputs": [],
   "source": []
  },
  {
   "cell_type": "code",
   "execution_count": null,
   "metadata": {},
   "outputs": [],
   "source": []
  },
  {
   "cell_type": "code",
   "execution_count": null,
   "metadata": {},
   "outputs": [],
   "source": []
  },
  {
   "cell_type": "code",
   "execution_count": null,
   "metadata": {},
   "outputs": [],
   "source": []
  },
  {
   "cell_type": "code",
   "execution_count": null,
   "metadata": {},
   "outputs": [],
   "source": [
    "unit = 2\n",
    "print(unit)\n",
    "unit_pred = []\n",
    "\n",
    "with open(os.path.join(test_data_path, '{}_leave/stim_resp_test.pkl'.format(unit)), 'rb') as f:\n",
    "    test_dict = pickle.load(f)\n",
    "\n",
    "stims_test = test_dict['stims_test']\n",
    "resps_test = test_dict['resps_test']\n",
    "\n",
    "with open(os.path.join(exp_path, 'all_good_MNEs_leave_first_stim.pkl'), 'rb') as f:\n",
    "    pfinals = pickle.load(f)\n",
    "\n",
    "pfinal_ = np.mean(pfinals[unit], axis = 0)\n",
    "probs, corr = evaluate_prediction(pfinal, stims_test, resps_test)\n",
    "probs_lin, corr_lin = evaluate_pred_lin(pfinal, stims_test, resps_test)\n",
    "\n",
    "prob_dict = {'probs':probs, 'probs_lin': probs_lin, 'corr': corr, 'corr_lin': corr_lin}\n",
    "\n",
    "with open(os.path.join(output_path, 'spike_prob_{}.pkl'.format(unit)), 'wb') as f:\n",
    "    pickle.dump(prob_dict, f)"
   ]
  },
  {
   "cell_type": "code",
   "execution_count": null,
   "metadata": {},
   "outputs": [],
   "source": [
    "unit = 2\n",
    "print(unit)\n",
    "unit_pred = []\n",
    "\n",
    "with open(os.path.join(resp_folder, 'G124-1 -1/good/{}_leave/stim_resp_test.pkl'.format(unit)), 'rb') as f:\n",
    "    test_dict = pickle.load(f)\n",
    "\n",
    "\n",
    "stim_segs = np.asarray([x.flatten() for x in stim_segs_list])\n",
    "\n",
    "### normalize stim_segs\n",
    "norm_stim_segs = (stim_segs - np.min(stim_segs)) / (np.max(stim_segs) - np.min(stim_segs))\n",
    "norm_stim_segs_1 = stim_segs\n",
    "norm_stim_segs_1 /= np.max(np.abs(norm_stim_segs_1),axis=0)\n",
    "\n",
    "resp_segs = segs_dict['resp']\n",
    "\n",
    "with open(os.path.join(exp_path, 'all_good_MNEs_leave_first_stim.pkl'), 'rb') as f:\n",
    "    pfinals = pickle.load(f)\n",
    "\n",
    "for jack, pfinal in enumerate(pfinals[unit]):\n",
    "    probs, probs_lin, spikes = predict_spiking_probability_response(pfinal, norm_stim_segs_1)\n",
    "    jack_dict = {'jack':jack, 'probs':probs, 'probs_lin':probs_lin, 'spikes':spikes}\n",
    "    unit_pred.append(jack_dict)\n",
    "\n",
    "#output_file = os.path.join(output_path, 'spike_probs_resp_leave_first_stim_unit_{}.pkl'.format(unit))    #change\n",
    "#with open(output_file, 'wb') as f:\n",
    "#    pickle.dump(unit_pred, f)    "
   ]
  },
  {
   "cell_type": "code",
   "execution_count": null,
   "metadata": {},
   "outputs": [],
   "source": [
    "np.min(stim_segs), np.max(stim_segs)"
   ]
  },
  {
   "cell_type": "code",
   "execution_count": null,
   "metadata": {},
   "outputs": [],
   "source": [
    "np.min(norm_stim_segs_1), np.max(norm_stim_segs_1)"
   ]
  },
  {
   "cell_type": "code",
   "execution_count": null,
   "metadata": {},
   "outputs": [],
   "source": [
    "np.min(full_segs), np.max(full_segs), np.mean(full_segs)"
   ]
  },
  {
   "cell_type": "code",
   "execution_count": null,
   "metadata": {},
   "outputs": [],
   "source": [
    "full_segs = unit_pred[0]['probs']\n",
    "lin_segs = unit_pred[0]['probs_lin']\n",
    "\n",
    "full_segs_1 = full_segs - 0.1\n",
    "\n",
    "for i in full_segs_1:\n",
    "    if i < 0:\n",
    "        i = 0\n",
    "\n",
    "norm_resp_segs = (resp_segs - np.min(resp_segs))/(np.max(resp_segs) - np.min(resp_segs))\n",
    "#norm_full_segs = (full_segs - np.min(full_segs))/(np.max(full_segs) - np.min(full_segs))\n",
    "#norm_lin_segs = (lin_segs - np.min(lin_segs))/(np.max(lin_segs) - np.min(lin_segs))\n"
   ]
  },
  {
   "cell_type": "code",
   "execution_count": null,
   "metadata": {},
   "outputs": [],
   "source": [
    "full = gaussian_filter1d(full_segs, 15)\n",
    "#orig = gaussian_filter1d(norm_resp_segs[20:], 15)\n",
    "orig = gaussian_filter1d(resp_segs[20:], 15)\n",
    "lin = gaussian_filter1d(lin_segs, 15)"
   ]
  },
  {
   "cell_type": "code",
   "execution_count": null,
   "metadata": {},
   "outputs": [],
   "source": [
    "from scipy.stats.stats import pearsonr  \n",
    "\n",
    "print(pearsonr(orig, full))\n",
    "print(np.corrcoef(orig, full))"
   ]
  },
  {
   "cell_type": "code",
   "execution_count": null,
   "metadata": {},
   "outputs": [],
   "source": [
    "print(pearsonr(norm_resp_segs[20:], full_segs))\n",
    "print(np.corrcoef(norm_resp_segs[20:], full_segs))"
   ]
  },
  {
   "cell_type": "code",
   "execution_count": null,
   "metadata": {},
   "outputs": [],
   "source": [
    "print(pearsonr(orig, lin))\n",
    "print(np.corrcoef(orig, lin))"
   ]
  },
  {
   "cell_type": "code",
   "execution_count": null,
   "metadata": {},
   "outputs": [],
   "source": [
    "plt.plot(norm_resp_segs[20:][2750:3000], 'k', label='original data')\n",
    "#plt.plot(full_segs_1[2700:2950], 'b', label='full data')\n",
    "plt.legend()\n",
    "plt.grid()\n",
    "plt.show()"
   ]
  },
  {
   "cell_type": "code",
   "execution_count": null,
   "metadata": {},
   "outputs": [],
   "source": [
    "plt.plot(full_segs_1[2700:2950], 'b', label='full data')\n",
    "plt.legend()\n",
    "plt.grid()\n",
    "plt.show()"
   ]
  },
  {
   "cell_type": "code",
   "execution_count": null,
   "metadata": {},
   "outputs": [],
   "source": [
    "plt.plot(lin, 'b', label='linear data')\n",
    "plt.legend()\n",
    "plt.grid()\n",
    "plt.show()"
   ]
  },
  {
   "cell_type": "code",
   "execution_count": null,
   "metadata": {},
   "outputs": [],
   "source": []
  },
  {
   "cell_type": "code",
   "execution_count": null,
   "metadata": {},
   "outputs": [],
   "source": []
  },
  {
   "cell_type": "code",
   "execution_count": null,
   "metadata": {},
   "outputs": [],
   "source": [
    "gaussian_filter1d([1.0, 2.0, 3.0, 4.0, 5.0], 1)\n",
    "array([ 1.42704095,  2.06782203,  3.        ,  3.93217797,  4.57295905])\n",
    "gaussian_filter1d([1.0, 2.0, 3.0, 4.0, 5.0], 4)\n",
    "array([ 2.91948343,  2.95023502,  3.        ,  3.04976498,  3.08051657])\n",
    "import matplotlib.pyplot as plt\n",
    "np.random.seed(280490)\n",
    "x = np.random.randn(101).cumsum()\n",
    "y3 = gaussian_filter1d(x, 3)\n",
    "y6 = gaussian_filter1d(x, 6)\n",
    "plt.plot(x, 'k', label='original data')\n",
    "plt.plot(y3, '--', label='filtered, sigma=3')\n",
    "plt.plot(y6, ':', label='filtered, sigma=6')\n",
    "plt.legend()\n",
    "plt.grid()\n",
    "plt.show()"
   ]
  },
  {
   "cell_type": "code",
   "execution_count": null,
   "metadata": {},
   "outputs": [],
   "source": []
  }
 ],
 "metadata": {
  "kernelspec": {
   "display_name": "Python 3",
   "language": "python",
   "name": "python3"
  },
  "language_info": {
   "codemirror_mode": {
    "name": "ipython",
    "version": 3
   },
   "file_extension": ".py",
   "mimetype": "text/x-python",
   "name": "python",
   "nbconvert_exporter": "python",
   "pygments_lexer": "ipython3",
   "version": "3.7.5"
  }
 },
 "nbformat": 4,
 "nbformat_minor": 4
}
