{
 "cells": [
  {
   "cell_type": "code",
   "execution_count": 1,
   "metadata": {},
   "outputs": [],
   "source": [
    "import os\n",
    "\n",
    "gpus = [0]\n",
    "os.environ['CUDA_VISIBLE_DEVICES']=','.join([str(i) for i in gpus])"
   ]
  },
  {
   "cell_type": "code",
   "execution_count": 2,
   "metadata": {},
   "outputs": [],
   "source": [
    "import tensorflow as tf \n",
    "import tensorflow.keras as keras\n",
    "import numpy as np \n",
    "#from oe_acute import MNE\n",
    "import pickle\n",
    "import sys\n",
    "import random\n",
    "#from AE import MDSAE as ae\n",
    "#from network_visualisation import plot_these_aud_weights\n",
    "#import network_visualisation\n",
    "#import quantify_aud_strfs\n",
    "import matplotlib.pyplot as plt"
   ]
  },
  {
   "cell_type": "code",
   "execution_count": 3,
   "metadata": {},
   "outputs": [],
   "source": [
    "bird = 'B1240'\n",
    "d = 256"
   ]
  },
  {
   "cell_type": "markdown",
   "metadata": {},
   "source": [
    "### Allocate GPUs"
   ]
  },
  {
   "cell_type": "code",
   "execution_count": 4,
   "metadata": {},
   "outputs": [],
   "source": [
    "gpus = [0] # Here I set CUDA to only see one GPU\n",
    "os.environ[\"CUDA_DEVICE_ORDER\"]=\"PCI_BUS_ID\"   # see issue #152\n",
    "os.environ[\"CUDA_VISIBLE_DEVICES\"]=','.join([str(i) for i in gpus])\n",
    "num_gpus = len(gpus) # number of GPUs to use\n",
    "if len(gpus) < 1:\n",
    "    num_gpus = 1 "
   ]
  },
  {
   "cell_type": "code",
   "execution_count": 5,
   "metadata": {},
   "outputs": [
    {
     "name": "stdout",
     "output_type": "stream",
     "text": [
      "['/device:GPU:0']\n"
     ]
    }
   ],
   "source": [
    "from tensorflow.python.client import device_lib\n",
    "local_device_protos = device_lib.list_local_devices()\n",
    "print( [x.name for x in local_device_protos if x.device_type == 'GPU'] )"
   ]
  },
  {
   "cell_type": "markdown",
   "metadata": {},
   "source": [
    "### Model function"
   ]
  },
  {
   "cell_type": "code",
   "execution_count": 6,
   "metadata": {},
   "outputs": [],
   "source": [
    "class Temporal_Specgram_CNN_Model(keras.Model):\n",
    "    def __init__(self, **kwargs):\n",
    "        super(Temporal_Specgram_CNN_Model, self).__init__()\n",
    "        self.__dict__.update(kwargs)\n",
    "        self.enc_1=keras.Sequential([\n",
    "            keras.Input(shape=(32, 32, 1)),\n",
    "#             keras.layers.Conv2D(filters=32, kernel_size=3, strides=(2, 2), activation=\"relu\",),\n",
    "            keras.layers.Conv2D(filters=64, kernel_size=3, strides=(1, 1), activation=\"relu\",),\n",
    "            tf.keras.layers.Flatten(),\n",
    "            \n",
    "            \n",
    "        ])\n",
    "        self.enc_dropout=tf.keras.layers.Dropout(0.5)\n",
    "        self.enc_2=tf.keras.layers.Dense(units=d,activation='sigmoid', kernel_regularizer=keras.regularizers.L1(10**-3.5),)\n",
    "        self.dec_recon=keras.Sequential([\n",
    "            tf.keras.layers.Dense(units=16 * 16 * 256, activation=\"relu\", kernel_regularizer=keras.regularizers.L1(10**-3.5)),\n",
    "            tf.keras.layers.Reshape(target_shape=(16, 16, 256)),\n",
    "#             tf.keras.layers.Conv2DTfranspose(\n",
    "#                 filters=16, kernel_size=2, strides=(2, 2),  activation=\"relu\", kernel_regularizer=keras.regularizers.L1(10**-3.5), \n",
    "#             ),\n",
    "            tf.keras.layers.Conv2DTranspose(\n",
    "                filters=8, kernel_size=2, strides=(2, 2), activation=\"relu\", kernel_regularizer=keras.regularizers.L1(10**-3.5)\n",
    "            ),\n",
    "            tf.keras.layers.Conv2DTranspose(\n",
    "                filters=1, kernel_size=1, strides=(1, 1), kernel_regularizer=keras.regularizers.L1(10**-3.5)\n",
    "            ),\n",
    "        ])\n",
    "        self.dec_pred=keras.Sequential([tf.keras.layers.Dense(units=32, kernel_regularizer=keras.regularizers.L1(10**-3.5))])\n",
    "        self.recon_losses=[]\n",
    "        self.pred_losses=[]\n",
    "    @tf.function\n",
    "    def get_loss(self, x_t, y_t):\n",
    "        #print(x_t)#.shape\n",
    "        x_hat, y_hat = self(tf.expand_dims(x_t, -1))\n",
    "        pred_losses=tf.reduce_mean(tf.square(y_t - y_hat))\n",
    "        \n",
    "        recon_losses=tf.reduce_mean(tf.square(x_t - tf.squeeze(x_hat, -1)))\n",
    "\n",
    "        \n",
    "        return pred_losses,recon_losses\n",
    "\n",
    "    @tf.function\n",
    "    def get_gradients(self, x_t, y_t):\n",
    "        with tf.GradientTape() as tape:\n",
    "            pred_losses,recon_losses = self.get_loss(x_t, y_t)\n",
    "            #tf.print(pred_losses, recon_losses)\n",
    "            loss=pred_losses+0.5*recon_losses\n",
    "            \n",
    "        return loss, tape.gradient(loss, self.enc_1.trainable_variables+self.enc_2.trainable_variables+self.dec_recon.trainable_variables+self.dec_pred.trainable_variables)\n",
    "    \n",
    "    @tf.function\n",
    "    def train_model(self, X_train, y_train):\n",
    "        loss, gradients = self.get_gradients(X_train, y_train)\n",
    "        self.optimizer.apply_gradients(zip(gradients, self.enc_1.trainable_variables+self.enc_2.trainable_variables+self.dec_recon.trainable_variables+self.dec_pred.trainable_variables))\n",
    "        return loss\n",
    "\n",
    "    @tf.function\n",
    "    def compute_test_loss(self, X_test, y_test):\n",
    "        x_hat, y_hat = self.predict(tf.expand_dims(X_test, -1))\n",
    "        pred_losses=tf.reduce_mean(tf.square(y_test - y_hat))\n",
    "        \n",
    "        recon_losses=tf.reduce_mean(tf.square(X_test - tf.squeeze(x_hat, -1)))\n",
    "\n",
    "        \n",
    "        return pred_losses,recon_losses\n",
    "\n",
    "\n",
    "    def call(self, input):\n",
    "        latent=self.enc_1(input)\n",
    "        latent=self.enc_dropout(latent, training=True)\n",
    "        latent=self.enc_2(latent)\n",
    "        return self.dec_recon(latent), self.dec_pred(latent)\n",
    "\n",
    "    def predict(self, input):\n",
    "        latent=self.enc_1(input)\n",
    "        latent=self.enc_dropout(latent, training=False)\n",
    "        latent=self.enc_2(latent)\n",
    "        return self.dec_recon(latent), self.dec_pred(latent)\n"
   ]
  },
  {
   "cell_type": "code",
   "execution_count": 7,
   "metadata": {},
   "outputs": [],
   "source": [
    "#model.enc."
   ]
  },
  {
   "cell_type": "code",
   "execution_count": 8,
   "metadata": {},
   "outputs": [],
   "source": [
    "#x_t, y_t = train_batch[0], train_batch[1]"
   ]
  },
  {
   "cell_type": "code",
   "execution_count": 9,
   "metadata": {},
   "outputs": [],
   "source": [
    "#pred_losses,recon_losses=model.get_loss(x_t, y_t)"
   ]
  },
  {
   "cell_type": "code",
   "execution_count": 10,
   "metadata": {},
   "outputs": [],
   "source": [
    "#pred_losses"
   ]
  },
  {
   "cell_type": "markdown",
   "metadata": {},
   "source": [
    "### Load data"
   ]
  },
  {
   "cell_type": "code",
   "execution_count": 11,
   "metadata": {},
   "outputs": [],
   "source": [
    "def extract_spec_data(x_path, y_path, random_seed=None, global_normalize=False):\n",
    "#def extract_spec_data(x_path1, x_path2, x_path3, x_path4, x_path5, y_path, random_seed=None):\n",
    "#def extract_spec_data(x_path1, x_path2, y_path, random_seed=None):\n",
    "    all_curr=np.load(x_path,allow_pickle=True)\n",
    "    #all_next=np.load(y_path,allow_pickle=True)\n",
    "    #all_curr1 = pickle.load(open(x_path1, 'rb'))\n",
    "    #all_curr2 = pickle.load(open(x_path2, 'rb'))\n",
    "    #all_curr3 = pickle.load(open(x_path3, 'rb'))\n",
    "    #all_curr4 = pickle.load(open(x_path4, 'rb'))\n",
    "    #all_curr5 = pickle.load(open(x_path5, 'rb'))\n",
    "\n",
    "    all_next=np.load(y_path,allow_pickle=True)\n",
    "    \n",
    "    x_array = all_curr\n",
    "    #x_array = np.concatenate((all_curr1, all_curr2, all_curr3, all_curr4, all_curr5), axis=0)\n",
    "    #x_array = np.concatenate((all_curr1, all_curr2), axis=0)\n",
    "    y_array = all_next\n",
    "\n",
    "    #x_array = np.vstack(all_curr)\n",
    "    #y_array = np.vstack(all_next)\n",
    "\n",
    "    if random_seed is None:\n",
    "        rand_idx=np.arange(0, np.shape(x_array)[0])\n",
    "    else:\n",
    "        np.random.seed(random_seed)\n",
    "        rand_idx=np.random.choice(range(np.shape(x_array)[0]), size=np.shape(x_array)[0],replace=False)\n",
    "    \n",
    "    split_train_idx, split_val_idx = rand_idx[np.shape(x_array)[0]//10:],rand_idx[:np.shape(x_array)[0]//10] \n",
    "    x_train, x_val=np.asarray(x_array)[split_train_idx], np.asarray(x_array)[split_val_idx]\n",
    "    y_train, y_val=np.asarray(y_array)[split_train_idx],np.asarray(y_array)[split_val_idx]\n",
    "    \n",
    "    #if global_normalize:\n",
    "    #    x_train=x_train/x_train.max()\n",
    "    #    y_train=y_train/y_train.max()\n",
    "    #    x_val=x_val/x_val.max()\n",
    "    #    y_val=y_val/y_val.max()\n",
    "    return x_train,y_train,x_val,y_val"
   ]
  },
  {
   "cell_type": "code",
   "execution_count": 12,
   "metadata": {},
   "outputs": [],
   "source": [
    "segs_path = '/mnt/cube/srrudrar/stim_preprocess/temporal_model/{}/segs_list_32.pkl'.format(bird, bird)     ###change\n",
    "#segs_path2 = '/mnt/cube/srrudrar/stim_preprocess/temporal_model/{}/segs_list_{}_32_part2.pkl'.format(bird, bird)     ###change\n",
    "#segs_path3 = '/mnt/cube/srrudrar/stim_preprocess/temporal_model/{}/segs_list_{}_32_part3.pkl'.format(bird, bird)     ###change\n",
    "#segs_path4 = '/mnt/cube/srrudrar/stim_preprocess/temporal_model/{}/segs_list_{}_32_part4.pkl'.format(bird, bird)     ###change\n",
    "#segs_path5 = '/mnt/cube/srrudrar/stim_preprocess/temporal_model/{}/segs_list_{}_32_part5.pkl'.format(bird, bird)     ###change\n",
    "next_path = '/mnt/cube/srrudrar/stim_preprocess/temporal_model/{}/next_list_32.pkl'.format(bird, bird)            ###change"
   ]
  },
  {
   "cell_type": "code",
   "execution_count": 13,
   "metadata": {},
   "outputs": [],
   "source": [
    "#x_train,y_train,x_val,y_val = extract_spec_data(segs_path, next_path, random_seed=0,global_normalize=True)\n",
    "x_train1,y_train1,x_val1,y_val1 = extract_spec_data(segs_path,next_path,random_seed=0)"
   ]
  },
  {
   "cell_type": "code",
   "execution_count": 14,
   "metadata": {},
   "outputs": [],
   "source": [
    "x_train = x_train1[:, :32, :]\n",
    "x_val = x_val1[:, :32, :]\n",
    "y_train = y_train1[:, :32]\n",
    "y_val = y_val1[:, :32]"
   ]
  },
  {
   "cell_type": "code",
   "execution_count": 15,
   "metadata": {},
   "outputs": [
    {
     "data": {
      "text/plain": [
       "((51357, 32, 32), (5706, 32, 32), (51357, 32))"
      ]
     },
     "execution_count": 15,
     "metadata": {},
     "output_type": "execute_result"
    }
   ],
   "source": [
    "np.shape(x_train), np.shape(x_val), np.shape(y_train)"
   ]
  },
  {
   "cell_type": "code",
   "execution_count": null,
   "metadata": {},
   "outputs": [],
   "source": []
  },
  {
   "cell_type": "markdown",
   "metadata": {},
   "source": [
    "### Training network"
   ]
  },
  {
   "cell_type": "code",
   "execution_count": 16,
   "metadata": {},
   "outputs": [
    {
     "name": "stdout",
     "output_type": "stream",
     "text": [
      "Epoch 0, Train-Loss 0.040806520730257034\n",
      "Epoch 1, Train-Loss 0.04200191795825958\n",
      "Epoch 2, Train-Loss 0.028570037335157394\n",
      "Epoch 3, Train-Loss 0.020732935518026352\n",
      "Epoch 4, Train-Loss 0.03017290309071541\n",
      "Epoch 5, Train-Loss 0.024003680795431137\n",
      "Epoch 6, Train-Loss 0.019875073805451393\n",
      "Epoch 7, Train-Loss 0.016067752614617348\n",
      "Epoch 8, Train-Loss 0.019748441874980927\n",
      "Epoch 9, Train-Loss 0.011057842522859573\n",
      "Epoch 10, Train-Loss 0.009344208985567093\n",
      "Epoch 11, Train-Loss 0.011613276787102222\n",
      "Epoch 12, Train-Loss 0.009030554443597794\n",
      "Epoch 13, Train-Loss 0.01164373941719532\n",
      "Epoch 14, Train-Loss 0.008892755024135113\n",
      "Epoch 15, Train-Loss 0.010286339558660984\n",
      "Epoch 16, Train-Loss 0.00837254524230957\n",
      "Epoch 17, Train-Loss 0.007879850454628468\n",
      "Epoch 18, Train-Loss 0.006967806722968817\n",
      "Epoch 19, Train-Loss 0.007603387348353863\n",
      "Epoch 20, Train-Loss 0.0067965202033519745\n",
      "Epoch 21, Train-Loss 0.007707543671131134\n",
      "Epoch 22, Train-Loss 0.007261364720761776\n",
      "Epoch 23, Train-Loss 0.007869957946240902\n",
      "Epoch 24, Train-Loss 0.00735091045498848\n",
      "Epoch 25, Train-Loss 0.006638323422521353\n",
      "Epoch 26, Train-Loss 0.0056200106628239155\n",
      "Epoch 27, Train-Loss 0.005853736307471991\n",
      "Epoch 28, Train-Loss 0.007221462205052376\n",
      "Epoch 29, Train-Loss 0.007284052670001984\n",
      "Epoch 30, Train-Loss 0.006754777394235134\n",
      "Epoch 31, Train-Loss 0.005170115269720554\n",
      "Epoch 32, Train-Loss 0.004732063040137291\n",
      "Epoch 33, Train-Loss 0.006883218418806791\n",
      "Epoch 34, Train-Loss 0.005644448101520538\n",
      "Epoch 35, Train-Loss 0.00608307309448719\n",
      "Epoch 36, Train-Loss 0.004691275767982006\n",
      "Epoch 37, Train-Loss 0.004869063384830952\n",
      "Epoch 38, Train-Loss 0.00643650908023119\n",
      "Epoch 39, Train-Loss 0.00528292078524828\n",
      "Epoch 40, Train-Loss 0.0055027371272444725\n",
      "Epoch 41, Train-Loss 0.008346614427864552\n",
      "Epoch 42, Train-Loss 0.004666867200285196\n",
      "Epoch 43, Train-Loss 0.00449305260553956\n",
      "Epoch 44, Train-Loss 0.00516465725377202\n",
      "Epoch 45, Train-Loss 0.005583140999078751\n",
      "Epoch 46, Train-Loss 0.004772895947098732\n",
      "Epoch 47, Train-Loss 0.004582839552313089\n",
      "Epoch 48, Train-Loss 0.004838576540350914\n",
      "Epoch 49, Train-Loss 0.005429548677057028\n",
      "Epoch 50, Train-Loss 0.004503059666603804\n",
      "Epoch 51, Train-Loss 0.005193385295569897\n",
      "Epoch 52, Train-Loss 0.004250778816640377\n",
      "Epoch 53, Train-Loss 0.004789258353412151\n",
      "Epoch 54, Train-Loss 0.00503899808973074\n",
      "Epoch 55, Train-Loss 0.004579624161124229\n",
      "Epoch 56, Train-Loss 0.004688676446676254\n",
      "Epoch 57, Train-Loss 0.004914901219308376\n",
      "Epoch 58, Train-Loss 0.004401959478855133\n",
      "Epoch 59, Train-Loss 0.004775453358888626\n",
      "Epoch 60, Train-Loss 0.004764510318636894\n",
      "Epoch 61, Train-Loss 0.00431278720498085\n",
      "Epoch 62, Train-Loss 0.004794130101799965\n",
      "Epoch 63, Train-Loss 0.004519548267126083\n",
      "Epoch 64, Train-Loss 0.0051592071540653706\n",
      "Epoch 65, Train-Loss 0.003967844881117344\n",
      "Epoch 66, Train-Loss 0.00435349065810442\n",
      "Epoch 67, Train-Loss 0.00400135200470686\n",
      "Epoch 68, Train-Loss 0.004017343744635582\n",
      "Epoch 69, Train-Loss 0.00454180920496583\n",
      "Epoch 70, Train-Loss 0.004656984470784664\n",
      "Epoch 71, Train-Loss 0.0041755568236112595\n",
      "Epoch 72, Train-Loss 0.004225295037031174\n",
      "Epoch 73, Train-Loss 0.004253141116350889\n",
      "Epoch 74, Train-Loss 0.004654367454349995\n",
      "Epoch 75, Train-Loss 0.004595096223056316\n",
      "Epoch 76, Train-Loss 0.0050348686054348946\n",
      "Epoch 77, Train-Loss 0.004936239682137966\n",
      "Epoch 78, Train-Loss 0.004776204004883766\n",
      "Epoch 79, Train-Loss 0.0040968721732497215\n",
      "Epoch 80, Train-Loss 0.00399488490074873\n",
      "Epoch 81, Train-Loss 0.0034669237211346626\n",
      "Epoch 82, Train-Loss 0.003512004856020212\n",
      "Epoch 83, Train-Loss 0.004651366733014584\n",
      "Epoch 84, Train-Loss 0.003992038778960705\n",
      "Epoch 85, Train-Loss 0.00478014163672924\n",
      "Epoch 86, Train-Loss 0.0038026701658964157\n",
      "Epoch 87, Train-Loss 0.004436784889549017\n",
      "Epoch 88, Train-Loss 0.003833702765405178\n",
      "Epoch 89, Train-Loss 0.003649601247161627\n",
      "Epoch 90, Train-Loss 0.004219804424792528\n",
      "Epoch 91, Train-Loss 0.003973468206822872\n",
      "Epoch 92, Train-Loss 0.0046070958487689495\n",
      "Epoch 93, Train-Loss 0.0040359580889344215\n",
      "Epoch 94, Train-Loss 0.0037798029370605946\n",
      "Epoch 95, Train-Loss 0.003459525527432561\n",
      "Epoch 96, Train-Loss 0.0037213792093098164\n",
      "Epoch 97, Train-Loss 0.0038876088801771402\n",
      "Epoch 98, Train-Loss 0.004081216640770435\n",
      "Epoch 99, Train-Loss 0.0034301732666790485\n",
      "Epoch 100, Train-Loss 0.004532633814960718\n",
      "Epoch 101, Train-Loss 0.004236905835568905\n",
      "Epoch 102, Train-Loss 0.004607140086591244\n",
      "Epoch 103, Train-Loss 0.004010252188891172\n",
      "Epoch 104, Train-Loss 0.003992326557636261\n",
      "Epoch 105, Train-Loss 0.003765096189454198\n",
      "Epoch 106, Train-Loss 0.00449759466573596\n",
      "Epoch 107, Train-Loss 0.0038580389227718115\n",
      "Epoch 108, Train-Loss 0.00373764312826097\n",
      "Epoch 109, Train-Loss 0.0036613577976822853\n",
      "Epoch 110, Train-Loss 0.004129891283810139\n",
      "Epoch 111, Train-Loss 0.003868310246616602\n",
      "Epoch 112, Train-Loss 0.004666249733418226\n",
      "Epoch 113, Train-Loss 0.0035713191609829664\n",
      "Epoch 114, Train-Loss 0.003966422751545906\n",
      "Epoch 115, Train-Loss 0.0038728569634258747\n",
      "Epoch 116, Train-Loss 0.003901120275259018\n",
      "Epoch 117, Train-Loss 0.0035248324275016785\n",
      "Epoch 118, Train-Loss 0.0035637510009109974\n",
      "Epoch 119, Train-Loss 0.0034385276958346367\n",
      "Epoch 120, Train-Loss 0.003500619437545538\n",
      "Epoch 121, Train-Loss 0.0033430992625653744\n",
      "Epoch 122, Train-Loss 0.003467635251581669\n",
      "Epoch 123, Train-Loss 0.003703936468809843\n",
      "Epoch 124, Train-Loss 0.0034147128462791443\n",
      "Epoch 125, Train-Loss 0.00411299429833889\n",
      "Epoch 126, Train-Loss 0.003304610028862953\n",
      "Epoch 127, Train-Loss 0.003208835143595934\n",
      "Epoch 128, Train-Loss 0.0032841572538018227\n",
      "Epoch 129, Train-Loss 0.0031203818507492542\n",
      "Epoch 130, Train-Loss 0.0040762759745121\n",
      "Epoch 131, Train-Loss 0.0036660023033618927\n",
      "Epoch 132, Train-Loss 0.0052039120346307755\n",
      "Epoch 133, Train-Loss 0.0034765093587338924\n",
      "Epoch 134, Train-Loss 0.00335124833509326\n",
      "Epoch 135, Train-Loss 0.003659830428659916\n",
      "Epoch 136, Train-Loss 0.003745398251339793\n",
      "Epoch 137, Train-Loss 0.00333208404481411\n",
      "Epoch 138, Train-Loss 0.0036831730976700783\n",
      "Epoch 139, Train-Loss 0.00438913656398654\n",
      "Epoch 140, Train-Loss 0.004218310583382845\n",
      "Epoch 141, Train-Loss 0.0033978642895817757\n",
      "Epoch 142, Train-Loss 0.003462649881839752\n",
      "Epoch 143, Train-Loss 0.004357645753771067\n",
      "Epoch 144, Train-Loss 0.002959270030260086\n",
      "Epoch 145, Train-Loss 0.0035378034226596355\n",
      "Epoch 146, Train-Loss 0.0035573686473071575\n",
      "Epoch 147, Train-Loss 0.0037225391715765\n",
      "Epoch 148, Train-Loss 0.0037470757961273193\n",
      "Epoch 149, Train-Loss 0.003299207426607609\n",
      "Epoch 150, Train-Loss 0.0030884065199643373\n",
      "Epoch 151, Train-Loss 0.0034064436331391335\n",
      "Epoch 152, Train-Loss 0.002607602160423994\n",
      "Epoch 153, Train-Loss 0.0033835507929325104\n",
      "Epoch 154, Train-Loss 0.003167717717587948\n",
      "Epoch 155, Train-Loss 0.0034444606862962246\n",
      "Epoch 156, Train-Loss 0.0034578689374029636\n",
      "Epoch 157, Train-Loss 0.003201942890882492\n",
      "Epoch 158, Train-Loss 0.003216516226530075\n",
      "Epoch 159, Train-Loss 0.0034619662910699844\n",
      "Epoch 160, Train-Loss 0.0034912158735096455\n",
      "Epoch 161, Train-Loss 0.003414152655750513\n",
      "Epoch 162, Train-Loss 0.0035648541525006294\n",
      "Epoch 163, Train-Loss 0.00411967933177948\n",
      "Epoch 164, Train-Loss 0.0036498457193374634\n",
      "Epoch 165, Train-Loss 0.003848049556836486\n",
      "Epoch 166, Train-Loss 0.0036059701815247536\n",
      "Epoch 167, Train-Loss 0.0032058944925665855\n",
      "Epoch 168, Train-Loss 0.0034544814843684435\n",
      "Epoch 169, Train-Loss 0.003326899604871869\n",
      "Epoch 170, Train-Loss 0.0029531652107834816\n",
      "Epoch 171, Train-Loss 0.0031584943644702435\n",
      "Epoch 172, Train-Loss 0.0032829763367772102\n",
      "Epoch 173, Train-Loss 0.003127309028059244\n",
      "Epoch 174, Train-Loss 0.003988984972238541\n",
      "Epoch 175, Train-Loss 0.003081798553466797\n",
      "Epoch 176, Train-Loss 0.003477261634543538\n",
      "Epoch 177, Train-Loss 0.003148481482639909\n",
      "Epoch 178, Train-Loss 0.003871499327942729\n",
      "Epoch 179, Train-Loss 0.0034468669909983873\n",
      "Epoch 180, Train-Loss 0.0032732668332755566\n",
      "Epoch 181, Train-Loss 0.00360103533603251\n",
      "Epoch 182, Train-Loss 0.003917469643056393\n",
      "Epoch 183, Train-Loss 0.0030300854705274105\n",
      "Epoch 184, Train-Loss 0.003401735331863165\n",
      "Epoch 185, Train-Loss 0.0031398055143654346\n",
      "Epoch 186, Train-Loss 0.0028929610271006823\n",
      "Epoch 187, Train-Loss 0.0034945940133184195\n",
      "Epoch 188, Train-Loss 0.003813152899965644\n",
      "Epoch 189, Train-Loss 0.0035656122490763664\n",
      "Epoch 190, Train-Loss 0.003558534663170576\n",
      "Epoch 191, Train-Loss 0.0032961273100227118\n",
      "Epoch 192, Train-Loss 0.0031808605417609215\n"
     ]
    },
    {
     "name": "stdout",
     "output_type": "stream",
     "text": [
      "Epoch 193, Train-Loss 0.0034488514065742493\n",
      "Epoch 194, Train-Loss 0.0029762848280370235\n",
      "Epoch 195, Train-Loss 0.0028624506667256355\n",
      "Epoch 196, Train-Loss 0.002692459849640727\n",
      "Epoch 197, Train-Loss 0.003600427880883217\n",
      "Epoch 198, Train-Loss 0.0028406628407537937\n",
      "Epoch 199, Train-Loss 0.003253828501328826\n",
      "Epoch 200, Train-Loss 0.0033348039723932743\n",
      "Epoch 201, Train-Loss 0.0028639063239097595\n",
      "Epoch 202, Train-Loss 0.0035345484502613544\n",
      "Epoch 203, Train-Loss 0.003287028055638075\n",
      "Epoch 204, Train-Loss 0.0031976266764104366\n",
      "Epoch 205, Train-Loss 0.0033937515690922737\n",
      "Epoch 206, Train-Loss 0.003808123990893364\n",
      "Epoch 207, Train-Loss 0.0032454945612698793\n",
      "Epoch 208, Train-Loss 0.002854736289009452\n",
      "Epoch 209, Train-Loss 0.0031533942092210054\n",
      "Epoch 210, Train-Loss 0.002855804516002536\n",
      "Epoch 211, Train-Loss 0.0034067188389599323\n",
      "Epoch 212, Train-Loss 0.0031382089946419\n",
      "Epoch 213, Train-Loss 0.0033327583223581314\n",
      "Epoch 214, Train-Loss 0.0032034488394856453\n",
      "Epoch 215, Train-Loss 0.0036702947691082954\n",
      "Epoch 216, Train-Loss 0.003255511401221156\n",
      "Epoch 217, Train-Loss 0.0033966652117669582\n",
      "Epoch 218, Train-Loss 0.0034371742513030767\n",
      "Epoch 219, Train-Loss 0.0031693028286099434\n",
      "Epoch 220, Train-Loss 0.0038070278242230415\n",
      "Epoch 221, Train-Loss 0.00355449877679348\n",
      "Epoch 222, Train-Loss 0.003417965956032276\n",
      "Epoch 223, Train-Loss 0.0035437168553471565\n",
      "Epoch 224, Train-Loss 0.0035312436521053314\n",
      "Epoch 225, Train-Loss 0.0032216007821261883\n",
      "Epoch 226, Train-Loss 0.002882920205593109\n",
      "Epoch 227, Train-Loss 0.002949865534901619\n",
      "Epoch 228, Train-Loss 0.0031080765184015036\n",
      "Epoch 229, Train-Loss 0.003273474983870983\n",
      "Epoch 230, Train-Loss 0.002858878578990698\n",
      "Epoch 231, Train-Loss 0.0035300040617585182\n",
      "Epoch 232, Train-Loss 0.0032374518923461437\n",
      "Epoch 233, Train-Loss 0.0027077780105173588\n",
      "Epoch 234, Train-Loss 0.0038146269507706165\n",
      "Epoch 235, Train-Loss 0.0034965742379426956\n",
      "Epoch 236, Train-Loss 0.0028220494277775288\n",
      "Epoch 237, Train-Loss 0.003228480461984873\n",
      "Epoch 238, Train-Loss 0.003269366454333067\n",
      "Epoch 239, Train-Loss 0.0034252568148076534\n",
      "Epoch 240, Train-Loss 0.003099597990512848\n",
      "Epoch 241, Train-Loss 0.004348520655184984\n",
      "Epoch 242, Train-Loss 0.0035337572917342186\n",
      "Epoch 243, Train-Loss 0.0032136195804923773\n",
      "Epoch 244, Train-Loss 0.0034041577018797398\n",
      "Epoch 245, Train-Loss 0.002847875002771616\n",
      "Epoch 246, Train-Loss 0.003270893357694149\n",
      "Epoch 247, Train-Loss 0.0037323515862226486\n",
      "Epoch 248, Train-Loss 0.002711761277168989\n",
      "Epoch 249, Train-Loss 0.003318328410387039\n",
      "Epoch 250, Train-Loss 0.0028422882314771414\n",
      "Epoch 251, Train-Loss 0.0028284292202442884\n",
      "Epoch 252, Train-Loss 0.0029904881957918406\n",
      "Epoch 253, Train-Loss 0.0026525617577135563\n",
      "Epoch 254, Train-Loss 0.002694130875170231\n",
      "Epoch 255, Train-Loss 0.0021886087488383055\n",
      "Epoch 256, Train-Loss 0.003123121801763773\n",
      "Epoch 257, Train-Loss 0.0028569588903337717\n",
      "Epoch 258, Train-Loss 0.002446977188810706\n",
      "Epoch 259, Train-Loss 0.0028684274293482304\n",
      "Epoch 260, Train-Loss 0.0028176670894026756\n",
      "Epoch 261, Train-Loss 0.0025888578966259956\n",
      "Epoch 262, Train-Loss 0.0026744231581687927\n",
      "Epoch 263, Train-Loss 0.0023913285695016384\n",
      "Epoch 264, Train-Loss 0.0027127210050821304\n",
      "Epoch 265, Train-Loss 0.002942995633929968\n",
      "Epoch 266, Train-Loss 0.0024373242631554604\n",
      "Epoch 267, Train-Loss 0.0027272701263427734\n",
      "Epoch 268, Train-Loss 0.0026212427765130997\n",
      "Epoch 269, Train-Loss 0.0026820972561836243\n",
      "Epoch 270, Train-Loss 0.002416847972199321\n",
      "Epoch 271, Train-Loss 0.002631059382110834\n",
      "Epoch 272, Train-Loss 0.002569016069173813\n",
      "Epoch 273, Train-Loss 0.002413762267678976\n",
      "Epoch 274, Train-Loss 0.0026604013983160257\n",
      "Epoch 275, Train-Loss 0.0027555644046515226\n",
      "Epoch 276, Train-Loss 0.00225282134488225\n",
      "Epoch 277, Train-Loss 0.002473304746672511\n",
      "Epoch 278, Train-Loss 0.0027056513354182243\n",
      "Epoch 279, Train-Loss 0.002890873234719038\n",
      "Epoch 280, Train-Loss 0.0026162457652390003\n",
      "Epoch 281, Train-Loss 0.0023436294868588448\n",
      "Epoch 282, Train-Loss 0.0023778120521456003\n",
      "Epoch 283, Train-Loss 0.0032669459469616413\n",
      "Epoch 284, Train-Loss 0.0025295293889939785\n",
      "Epoch 285, Train-Loss 0.0024663459043949842\n",
      "Epoch 286, Train-Loss 0.0026549797039479017\n",
      "Epoch 287, Train-Loss 0.002451073145493865\n",
      "Epoch 288, Train-Loss 0.002636183984577656\n",
      "Epoch 289, Train-Loss 0.002610814291983843\n",
      "Epoch 290, Train-Loss 0.0025196627248078585\n",
      "Epoch 291, Train-Loss 0.0024978569708764553\n",
      "Epoch 292, Train-Loss 0.0030113079119473696\n",
      "Epoch 293, Train-Loss 0.002677619457244873\n",
      "Epoch 294, Train-Loss 0.0026039450895041227\n",
      "Epoch 295, Train-Loss 0.0025208787992596626\n",
      "Epoch 296, Train-Loss 0.002671512309461832\n",
      "Epoch 297, Train-Loss 0.002756803994998336\n",
      "Epoch 298, Train-Loss 0.002435472793877125\n",
      "Epoch 299, Train-Loss 0.002561246044933796\n",
      "Epoch 300, Train-Loss 0.0022028754465281963\n",
      "Epoch 301, Train-Loss 0.002585155423730612\n",
      "Epoch 302, Train-Loss 0.0024110632948577404\n",
      "Epoch 303, Train-Loss 0.0024873872753232718\n",
      "Epoch 304, Train-Loss 0.002522821072489023\n",
      "Epoch 305, Train-Loss 0.0036279617343097925\n",
      "Epoch 306, Train-Loss 0.0025122719816863537\n",
      "Epoch 307, Train-Loss 0.002336798468604684\n",
      "Epoch 308, Train-Loss 0.0025987583212554455\n",
      "Epoch 309, Train-Loss 0.0026440811343491077\n",
      "Epoch 310, Train-Loss 0.0024464125744998455\n",
      "Epoch 311, Train-Loss 0.0029726019129157066\n",
      "Epoch 312, Train-Loss 0.0025489437393844128\n",
      "Epoch 313, Train-Loss 0.0025885470677167177\n",
      "Epoch 314, Train-Loss 0.002669921610504389\n",
      "Epoch 315, Train-Loss 0.002654168289154768\n",
      "Epoch 316, Train-Loss 0.002469593659043312\n",
      "Epoch 317, Train-Loss 0.002723963465541601\n",
      "Epoch 318, Train-Loss 0.0024387198500335217\n",
      "Epoch 319, Train-Loss 0.002726183272898197\n",
      "Epoch 320, Train-Loss 0.002726783510297537\n",
      "Epoch 321, Train-Loss 0.002249866258352995\n",
      "Epoch 322, Train-Loss 0.0024329018779098988\n",
      "Epoch 323, Train-Loss 0.0026969527825713158\n",
      "Epoch 324, Train-Loss 0.0020218610297888517\n",
      "Epoch 325, Train-Loss 0.002521389164030552\n",
      "Epoch 326, Train-Loss 0.002701300662010908\n",
      "Epoch 327, Train-Loss 0.0022284123115241528\n",
      "Epoch 328, Train-Loss 0.0024432619102299213\n",
      "Epoch 329, Train-Loss 0.002720535034313798\n",
      "Epoch 330, Train-Loss 0.002244147239252925\n",
      "Epoch 331, Train-Loss 0.0023486162535846233\n",
      "Epoch 332, Train-Loss 0.002700886921957135\n",
      "Epoch 333, Train-Loss 0.0021525798365473747\n",
      "Epoch 334, Train-Loss 0.002407953143119812\n",
      "Epoch 335, Train-Loss 0.0024075526744127274\n",
      "Epoch 336, Train-Loss 0.0023658303543925285\n",
      "Epoch 337, Train-Loss 0.0026148660108447075\n",
      "Epoch 338, Train-Loss 0.002251522382721305\n",
      "Epoch 339, Train-Loss 0.002960538724437356\n",
      "Epoch 340, Train-Loss 0.002664940431714058\n",
      "Epoch 341, Train-Loss 0.002191411331295967\n",
      "Epoch 342, Train-Loss 0.0020370124839246273\n",
      "Epoch 343, Train-Loss 0.0021546564530581236\n",
      "Epoch 344, Train-Loss 0.0023592275101691484\n",
      "Epoch 345, Train-Loss 0.0025274946819990873\n",
      "Epoch 346, Train-Loss 0.00262545351870358\n",
      "Epoch 347, Train-Loss 0.0022830157540738583\n",
      "Epoch 348, Train-Loss 0.0024524249602109194\n",
      "Epoch 349, Train-Loss 0.002748038386926055\n",
      "Epoch 350, Train-Loss 0.00585206039249897\n",
      "Epoch 351, Train-Loss 0.002111435867846012\n",
      "Epoch 352, Train-Loss 0.002319047227501869\n",
      "Epoch 353, Train-Loss 0.002481417264789343\n",
      "Epoch 354, Train-Loss 0.0021862939465790987\n",
      "Epoch 355, Train-Loss 0.0024863656144589186\n",
      "Epoch 356, Train-Loss 0.0024165885988622904\n",
      "Epoch 357, Train-Loss 0.002480260794982314\n",
      "Epoch 358, Train-Loss 0.002715806243941188\n",
      "Epoch 359, Train-Loss 0.003106391988694668\n",
      "Epoch 360, Train-Loss 0.0026436145417392254\n",
      "Epoch 361, Train-Loss 0.0023751556873321533\n",
      "Epoch 362, Train-Loss 0.002552999649196863\n",
      "Epoch 363, Train-Loss 0.002301741624251008\n",
      "Epoch 364, Train-Loss 0.001992085948586464\n",
      "Epoch 365, Train-Loss 0.002997711766511202\n",
      "Epoch 366, Train-Loss 0.0024514307733625174\n",
      "Epoch 367, Train-Loss 0.002056804019957781\n",
      "Epoch 368, Train-Loss 0.002567784395068884\n",
      "Epoch 369, Train-Loss 0.0023788977414369583\n",
      "Epoch 370, Train-Loss 0.0027014920487999916\n",
      "Epoch 371, Train-Loss 0.002393502974882722\n",
      "Epoch 372, Train-Loss 0.002362294355407357\n",
      "Epoch 373, Train-Loss 0.002395557938143611\n",
      "Epoch 374, Train-Loss 0.0022890963591635227\n",
      "Epoch 375, Train-Loss 0.0028571784496307373\n",
      "Epoch 376, Train-Loss 0.0023281986359506845\n",
      "Epoch 377, Train-Loss 0.0021457138936966658\n",
      "Epoch 378, Train-Loss 0.0024876848328858614\n",
      "Epoch 379, Train-Loss 0.002555037382990122\n",
      "Epoch 380, Train-Loss 0.0023669530637562275\n",
      "Epoch 381, Train-Loss 0.002242209855467081\n"
     ]
    },
    {
     "name": "stdout",
     "output_type": "stream",
     "text": [
      "Epoch 382, Train-Loss 0.0025423411279916763\n",
      "Epoch 383, Train-Loss 0.0026308693923056126\n",
      "Epoch 384, Train-Loss 0.0022720899432897568\n",
      "Epoch 385, Train-Loss 0.002573352074250579\n",
      "Epoch 386, Train-Loss 0.0022517754696309566\n",
      "Epoch 387, Train-Loss 0.0023414178285747766\n",
      "Epoch 388, Train-Loss 0.002599644009023905\n",
      "Epoch 389, Train-Loss 0.002408759668469429\n",
      "Epoch 390, Train-Loss 0.0023620440624654293\n",
      "Epoch 391, Train-Loss 0.0024382686242461205\n",
      "Epoch 392, Train-Loss 0.00253239250741899\n",
      "Epoch 393, Train-Loss 0.0026353541761636734\n",
      "Epoch 394, Train-Loss 0.002531664911657572\n",
      "Epoch 395, Train-Loss 0.002752631902694702\n",
      "Epoch 396, Train-Loss 0.0022269897162914276\n",
      "Epoch 397, Train-Loss 0.002100476296618581\n",
      "Epoch 398, Train-Loss 0.002462774980813265\n",
      "Epoch 399, Train-Loss 0.002560768276453018\n",
      "Epoch 400, Train-Loss 0.0026526423171162605\n",
      "Epoch 401, Train-Loss 0.002411983907222748\n",
      "Epoch 402, Train-Loss 0.0027821867261081934\n",
      "Epoch 403, Train-Loss 0.002499461406841874\n",
      "Epoch 404, Train-Loss 0.002489402424544096\n",
      "Epoch 405, Train-Loss 0.0024032508954405785\n",
      "Epoch 406, Train-Loss 0.0024570932146161795\n",
      "Epoch 407, Train-Loss 0.0028484459035098553\n",
      "Epoch 408, Train-Loss 0.0025014423299580812\n",
      "Epoch 409, Train-Loss 0.003110934980213642\n",
      "Epoch 410, Train-Loss 0.0024300585500895977\n",
      "Epoch 411, Train-Loss 0.0024087433703243732\n",
      "Epoch 412, Train-Loss 0.0022533335722982883\n",
      "Epoch 413, Train-Loss 0.0024621691554784775\n",
      "Epoch 414, Train-Loss 0.002388695254921913\n",
      "Epoch 415, Train-Loss 0.0022633401677012444\n",
      "Epoch 416, Train-Loss 0.0025280811823904514\n",
      "Epoch 417, Train-Loss 0.0023267162032425404\n",
      "Epoch 418, Train-Loss 0.0026395688764750957\n",
      "Epoch 419, Train-Loss 0.0026535559445619583\n",
      "Epoch 420, Train-Loss 0.0025883540511131287\n",
      "Epoch 421, Train-Loss 0.0025527148973196745\n",
      "Epoch 422, Train-Loss 0.002837452106177807\n",
      "Epoch 423, Train-Loss 0.001965397037565708\n",
      "Epoch 424, Train-Loss 0.0023367712274193764\n",
      "Epoch 425, Train-Loss 0.0018397208768874407\n",
      "Epoch 426, Train-Loss 0.0027266195975244045\n",
      "Epoch 427, Train-Loss 0.0023659435100853443\n",
      "Epoch 428, Train-Loss 0.002628467744216323\n",
      "Epoch 429, Train-Loss 0.002672904636710882\n",
      "Epoch 430, Train-Loss 0.0023714392445981503\n",
      "Epoch 431, Train-Loss 0.0024687140248715878\n",
      "Epoch 432, Train-Loss 0.0021285631228238344\n",
      "Epoch 433, Train-Loss 0.0022998619824647903\n",
      "Epoch 434, Train-Loss 0.002367432927712798\n",
      "Epoch 435, Train-Loss 0.0024476738180965185\n",
      "Epoch 436, Train-Loss 0.0024794586934149265\n",
      "Epoch 437, Train-Loss 0.0025719967670738697\n",
      "Epoch 438, Train-Loss 0.0024006820749491453\n",
      "Epoch 439, Train-Loss 0.002192495856434107\n",
      "Epoch 440, Train-Loss 0.0023266817443072796\n",
      "Epoch 441, Train-Loss 0.0026780031621456146\n",
      "Epoch 442, Train-Loss 0.0023652869276702404\n",
      "Epoch 443, Train-Loss 0.0022328351624310017\n",
      "Epoch 444, Train-Loss 0.0025271140038967133\n",
      "Epoch 445, Train-Loss 0.002043255139142275\n",
      "Epoch 446, Train-Loss 0.0024516915436834097\n",
      "Epoch 447, Train-Loss 0.002117720665410161\n",
      "Epoch 448, Train-Loss 0.002267114818096161\n",
      "Epoch 449, Train-Loss 0.0020706304349005222\n",
      "Epoch 450, Train-Loss 0.002602478489279747\n",
      "Epoch 451, Train-Loss 0.002034137723967433\n",
      "Epoch 452, Train-Loss 0.0026341350749135017\n",
      "Epoch 453, Train-Loss 0.002577992156147957\n",
      "Epoch 454, Train-Loss 0.0027930079959332943\n",
      "Epoch 455, Train-Loss 0.0025663634296506643\n",
      "Epoch 456, Train-Loss 0.0022249026224017143\n",
      "Epoch 457, Train-Loss 0.0024249423295259476\n",
      "Epoch 458, Train-Loss 0.002794839907437563\n",
      "Epoch 459, Train-Loss 0.002259264700114727\n",
      "Epoch 460, Train-Loss 0.002449802588671446\n",
      "Epoch 461, Train-Loss 0.002674118848517537\n",
      "Epoch 462, Train-Loss 0.0025386083871126175\n",
      "Epoch 463, Train-Loss 0.0023265364579856396\n",
      "Epoch 464, Train-Loss 0.0022725057788193226\n",
      "Epoch 465, Train-Loss 0.0023552817292511463\n",
      "Epoch 466, Train-Loss 0.002468331716954708\n",
      "Epoch 467, Train-Loss 0.0024464905727654696\n",
      "Epoch 468, Train-Loss 0.0021885698661208153\n",
      "Epoch 469, Train-Loss 0.0022867568768560886\n",
      "Epoch 470, Train-Loss 0.0025703744031488895\n",
      "Epoch 471, Train-Loss 0.002985481172800064\n",
      "Epoch 472, Train-Loss 0.002380669815465808\n",
      "Epoch 473, Train-Loss 0.0020035819616168737\n",
      "Epoch 474, Train-Loss 0.002289926866069436\n",
      "Epoch 475, Train-Loss 0.0024758223444223404\n",
      "Epoch 476, Train-Loss 0.001958065666258335\n",
      "Epoch 477, Train-Loss 0.0027707000263035297\n",
      "Epoch 478, Train-Loss 0.0023020319640636444\n",
      "Epoch 479, Train-Loss 0.0025962195359170437\n",
      "Epoch 480, Train-Loss 0.002308856463059783\n",
      "Epoch 481, Train-Loss 0.0023273350670933723\n",
      "Epoch 482, Train-Loss 0.002224852330982685\n",
      "Epoch 483, Train-Loss 0.00271425349637866\n",
      "Epoch 484, Train-Loss 0.002493265550583601\n",
      "Epoch 485, Train-Loss 0.002608239185065031\n",
      "Epoch 486, Train-Loss 0.0020637151319533587\n",
      "Epoch 487, Train-Loss 0.0022682317066937685\n",
      "Epoch 488, Train-Loss 0.0018688233103603125\n",
      "Epoch 489, Train-Loss 0.002686725929379463\n",
      "Epoch 490, Train-Loss 0.002806867938488722\n",
      "Epoch 491, Train-Loss 0.002633592812344432\n",
      "Epoch 492, Train-Loss 0.002430229913443327\n",
      "Epoch 493, Train-Loss 0.002341327490285039\n",
      "Epoch 494, Train-Loss 0.002609656658023596\n",
      "Epoch 495, Train-Loss 0.002640672028064728\n",
      "Epoch 496, Train-Loss 0.0022058519534766674\n",
      "Epoch 497, Train-Loss 0.0022039846517145634\n",
      "Epoch 498, Train-Loss 0.0027338883373886347\n",
      "Epoch 499, Train-Loss 0.0022271517664194107\n"
     ]
    },
    {
     "data": {
      "image/png": "[encoded data removed]",
      "text/plain": [
       "<Figure size 432x288 with 1 Axes>"
      ]
     },
     "metadata": {
      "needs_background": "light"
     },
     "output_type": "display_data"
    }
   ],
   "source": [
    "train_dset = tf.data.Dataset.from_tensor_slices((x_train.astype(np.float32), y_train.astype(np.float32)))\n",
    "train_dset = train_dset.shuffle(buffer_size=x_train.shape[0]+256).batch(64)\n",
    "test_losses = []\n",
    "\n",
    "optimizer = tf.optimizers.Adam(1e-3)\n",
    "model = Temporal_Specgram_CNN_Model(optimizer=optimizer)\n",
    "x_val, y_val = x_val.astype(np.float32), y_val.astype(np.float32)\n",
    "with tf.device('/device:gpu:0'):\n",
    "#     tf.print('Training Fold {}'.format(index))\n",
    "    #model.load_weights('./temporal_specgram_weights/initial')\n",
    "    for epoch in range(500):\n",
    "        if epoch>250:\n",
    "            model.optimizer.learning_rate=2e-4\n",
    "        for step, train_batch in enumerate(train_dset):\n",
    "            train_loss = model.train_model(train_batch[0], train_batch[1])\n",
    "\n",
    "        tf.print('Epoch {}, Train-Loss {}'.format(epoch, train_loss), output_stream=sys.stdout)\n",
    "        test_losses.append(model.compute_test_loss(x_val, y_val))\n",
    "        \n",
    "    plt.plot(test_losses)\n",
    "    plt.xlabel('Epochs')\n",
    "    plt.ylabel('Test Loss')\n",
    "    plt.title('Test Loss by Epoch: {} units'.format(256))\n",
    "    #plt.savefig('mnt/cube/srrudrar/temporal_model/loss_plots/{}units_loss.png'.format(256))"
   ]
  },
  {
   "cell_type": "code",
   "execution_count": 17,
   "metadata": {},
   "outputs": [
    {
     "ename": "ResourceExhaustedError",
     "evalue": "OOM when allocating tensor with shape[21357,64,30,30] and type float on /job:localhost/replica:0/task:0/device:GPU:0 by allocator GPU_0_bfc [Op:Conv2D]",
     "output_type": "error",
     "traceback": [
      "\u001b[0;31m---------------------------------------------------------------------------\u001b[0m",
      "\u001b[0;31mResourceExhaustedError\u001b[0m                    Traceback (most recent call last)",
      "\u001b[0;32m<ipython-input-17-b2114d02953f>\u001b[0m in \u001b[0;36m<module>\u001b[0;34m\u001b[0m\n\u001b[1;32m      4\u001b[0m     \u001b[0menc_train1\u001b[0m \u001b[0;34m=\u001b[0m \u001b[0mmodel\u001b[0m\u001b[0;34m.\u001b[0m\u001b[0menc_2\u001b[0m\u001b[0;34m(\u001b[0m\u001b[0mmodel\u001b[0m\u001b[0;34m.\u001b[0m\u001b[0menc_dropout\u001b[0m\u001b[0;34m(\u001b[0m\u001b[0mmodel\u001b[0m\u001b[0;34m.\u001b[0m\u001b[0menc_1\u001b[0m\u001b[0;34m(\u001b[0m\u001b[0mx_train\u001b[0m\u001b[0;34m[\u001b[0m\u001b[0;34m:\u001b[0m\u001b[0;36m15000\u001b[0m\u001b[0;34m,\u001b[0m\u001b[0;34m:\u001b[0m\u001b[0;34m,\u001b[0m\u001b[0;34m:\u001b[0m\u001b[0;34m]\u001b[0m\u001b[0;34m[\u001b[0m\u001b[0;34m:\u001b[0m\u001b[0;34m,\u001b[0m\u001b[0;34m:\u001b[0m\u001b[0;34m,\u001b[0m\u001b[0;34m:\u001b[0m\u001b[0;34m,\u001b[0m\u001b[0mnp\u001b[0m\u001b[0;34m.\u001b[0m\u001b[0mnewaxis\u001b[0m\u001b[0;34m]\u001b[0m\u001b[0;34m)\u001b[0m\u001b[0;34m)\u001b[0m\u001b[0;34m)\u001b[0m\u001b[0;34m\u001b[0m\u001b[0;34m\u001b[0m\u001b[0m\n\u001b[1;32m      5\u001b[0m     \u001b[0menc_train2\u001b[0m \u001b[0;34m=\u001b[0m \u001b[0mmodel\u001b[0m\u001b[0;34m.\u001b[0m\u001b[0menc_2\u001b[0m\u001b[0;34m(\u001b[0m\u001b[0mmodel\u001b[0m\u001b[0;34m.\u001b[0m\u001b[0menc_dropout\u001b[0m\u001b[0;34m(\u001b[0m\u001b[0mmodel\u001b[0m\u001b[0;34m.\u001b[0m\u001b[0menc_1\u001b[0m\u001b[0;34m(\u001b[0m\u001b[0mx_train\u001b[0m\u001b[0;34m[\u001b[0m\u001b[0;36m15000\u001b[0m\u001b[0;34m:\u001b[0m\u001b[0;36m30000\u001b[0m\u001b[0;34m,\u001b[0m\u001b[0;34m:\u001b[0m\u001b[0;34m,\u001b[0m\u001b[0;34m:\u001b[0m\u001b[0;34m]\u001b[0m\u001b[0;34m[\u001b[0m\u001b[0;34m:\u001b[0m\u001b[0;34m,\u001b[0m\u001b[0;34m:\u001b[0m\u001b[0;34m,\u001b[0m\u001b[0;34m:\u001b[0m\u001b[0;34m,\u001b[0m\u001b[0mnp\u001b[0m\u001b[0;34m.\u001b[0m\u001b[0mnewaxis\u001b[0m\u001b[0;34m]\u001b[0m\u001b[0;34m)\u001b[0m\u001b[0;34m)\u001b[0m\u001b[0;34m)\u001b[0m\u001b[0;34m\u001b[0m\u001b[0;34m\u001b[0m\u001b[0m\n\u001b[0;32m----> 6\u001b[0;31m     \u001b[0menc_train3\u001b[0m \u001b[0;34m=\u001b[0m \u001b[0mmodel\u001b[0m\u001b[0;34m.\u001b[0m\u001b[0menc_2\u001b[0m\u001b[0;34m(\u001b[0m\u001b[0mmodel\u001b[0m\u001b[0;34m.\u001b[0m\u001b[0menc_dropout\u001b[0m\u001b[0;34m(\u001b[0m\u001b[0mmodel\u001b[0m\u001b[0;34m.\u001b[0m\u001b[0menc_1\u001b[0m\u001b[0;34m(\u001b[0m\u001b[0mx_train\u001b[0m\u001b[0;34m[\u001b[0m\u001b[0;36m30000\u001b[0m\u001b[0;34m:\u001b[0m\u001b[0;34m,\u001b[0m\u001b[0;34m:\u001b[0m\u001b[0;34m,\u001b[0m\u001b[0;34m:\u001b[0m\u001b[0;34m]\u001b[0m\u001b[0;34m[\u001b[0m\u001b[0;34m:\u001b[0m\u001b[0;34m,\u001b[0m\u001b[0;34m:\u001b[0m\u001b[0;34m,\u001b[0m\u001b[0;34m:\u001b[0m\u001b[0;34m,\u001b[0m\u001b[0mnp\u001b[0m\u001b[0;34m.\u001b[0m\u001b[0mnewaxis\u001b[0m\u001b[0;34m]\u001b[0m\u001b[0;34m)\u001b[0m\u001b[0;34m)\u001b[0m\u001b[0;34m)\u001b[0m\u001b[0;34m\u001b[0m\u001b[0;34m\u001b[0m\u001b[0m\n\u001b[0m\u001b[1;32m      7\u001b[0m     \u001b[0;31m#enc_train4 = model.enc_2(model.enc_dropout(model.enc_1(x_train[45000:60000,:,:][:,:,:,np.newaxis])))\u001b[0m\u001b[0;34m\u001b[0m\u001b[0;34m\u001b[0m\u001b[0;34m\u001b[0m\u001b[0m\n\u001b[1;32m      8\u001b[0m     \u001b[0;31m#enc_train5 = model.enc_2(model.enc_dropout(model.enc_1(x_train[60000:80000,:,:][:,:,:,np.newaxis])))\u001b[0m\u001b[0;34m\u001b[0m\u001b[0;34m\u001b[0m\u001b[0;34m\u001b[0m\u001b[0m\n",
      "\u001b[0;32m~/anaconda3/envs/tensorflow2/lib/python3.7/site-packages/tensorflow/python/keras/engine/base_layer.py\u001b[0m in \u001b[0;36m__call__\u001b[0;34m(self, *args, **kwargs)\u001b[0m\n\u001b[1;32m   1010\u001b[0m         with autocast_variable.enable_auto_cast_variables(\n\u001b[1;32m   1011\u001b[0m             self._compute_dtype_object):\n\u001b[0;32m-> 1012\u001b[0;31m           \u001b[0moutputs\u001b[0m \u001b[0;34m=\u001b[0m \u001b[0mcall_fn\u001b[0m\u001b[0;34m(\u001b[0m\u001b[0minputs\u001b[0m\u001b[0;34m,\u001b[0m \u001b[0;34m*\u001b[0m\u001b[0margs\u001b[0m\u001b[0;34m,\u001b[0m \u001b[0;34m**\u001b[0m\u001b[0mkwargs\u001b[0m\u001b[0;34m)\u001b[0m\u001b[0;34m\u001b[0m\u001b[0;34m\u001b[0m\u001b[0m\n\u001b[0m\u001b[1;32m   1013\u001b[0m \u001b[0;34m\u001b[0m\u001b[0m\n\u001b[1;32m   1014\u001b[0m         \u001b[0;32mif\u001b[0m \u001b[0mself\u001b[0m\u001b[0;34m.\u001b[0m\u001b[0m_activity_regularizer\u001b[0m\u001b[0;34m:\u001b[0m\u001b[0;34m\u001b[0m\u001b[0;34m\u001b[0m\u001b[0m\n",
      "\u001b[0;32m~/anaconda3/envs/tensorflow2/lib/python3.7/site-packages/tensorflow/python/keras/engine/sequential.py\u001b[0m in \u001b[0;36mcall\u001b[0;34m(self, inputs, training, mask)\u001b[0m\n\u001b[1;32m    373\u001b[0m       \u001b[0;32mif\u001b[0m \u001b[0;32mnot\u001b[0m \u001b[0mself\u001b[0m\u001b[0;34m.\u001b[0m\u001b[0mbuilt\u001b[0m\u001b[0;34m:\u001b[0m\u001b[0;34m\u001b[0m\u001b[0;34m\u001b[0m\u001b[0m\n\u001b[1;32m    374\u001b[0m         \u001b[0mself\u001b[0m\u001b[0;34m.\u001b[0m\u001b[0m_init_graph_network\u001b[0m\u001b[0;34m(\u001b[0m\u001b[0mself\u001b[0m\u001b[0;34m.\u001b[0m\u001b[0minputs\u001b[0m\u001b[0;34m,\u001b[0m \u001b[0mself\u001b[0m\u001b[0;34m.\u001b[0m\u001b[0moutputs\u001b[0m\u001b[0;34m)\u001b[0m\u001b[0;34m\u001b[0m\u001b[0;34m\u001b[0m\u001b[0m\n\u001b[0;32m--> 375\u001b[0;31m       \u001b[0;32mreturn\u001b[0m \u001b[0msuper\u001b[0m\u001b[0;34m(\u001b[0m\u001b[0mSequential\u001b[0m\u001b[0;34m,\u001b[0m \u001b[0mself\u001b[0m\u001b[0;34m)\u001b[0m\u001b[0;34m.\u001b[0m\u001b[0mcall\u001b[0m\u001b[0;34m(\u001b[0m\u001b[0minputs\u001b[0m\u001b[0;34m,\u001b[0m \u001b[0mtraining\u001b[0m\u001b[0;34m=\u001b[0m\u001b[0mtraining\u001b[0m\u001b[0;34m,\u001b[0m \u001b[0mmask\u001b[0m\u001b[0;34m=\u001b[0m\u001b[0mmask\u001b[0m\u001b[0;34m)\u001b[0m\u001b[0;34m\u001b[0m\u001b[0;34m\u001b[0m\u001b[0m\n\u001b[0m\u001b[1;32m    376\u001b[0m \u001b[0;34m\u001b[0m\u001b[0m\n\u001b[1;32m    377\u001b[0m     \u001b[0moutputs\u001b[0m \u001b[0;34m=\u001b[0m \u001b[0minputs\u001b[0m  \u001b[0;31m# handle the corner case where self.layers is empty\u001b[0m\u001b[0;34m\u001b[0m\u001b[0;34m\u001b[0m\u001b[0m\n",
      "\u001b[0;32m~/anaconda3/envs/tensorflow2/lib/python3.7/site-packages/tensorflow/python/keras/engine/functional.py\u001b[0m in \u001b[0;36mcall\u001b[0;34m(self, inputs, training, mask)\u001b[0m\n\u001b[1;32m    423\u001b[0m     \"\"\"\n\u001b[1;32m    424\u001b[0m     return self._run_internal_graph(\n\u001b[0;32m--> 425\u001b[0;31m         inputs, training=training, mask=mask)\n\u001b[0m\u001b[1;32m    426\u001b[0m \u001b[0;34m\u001b[0m\u001b[0m\n\u001b[1;32m    427\u001b[0m   \u001b[0;32mdef\u001b[0m \u001b[0mcompute_output_shape\u001b[0m\u001b[0;34m(\u001b[0m\u001b[0mself\u001b[0m\u001b[0;34m,\u001b[0m \u001b[0minput_shape\u001b[0m\u001b[0;34m)\u001b[0m\u001b[0;34m:\u001b[0m\u001b[0;34m\u001b[0m\u001b[0;34m\u001b[0m\u001b[0m\n",
      "\u001b[0;32m~/anaconda3/envs/tensorflow2/lib/python3.7/site-packages/tensorflow/python/keras/engine/functional.py\u001b[0m in \u001b[0;36m_run_internal_graph\u001b[0;34m(self, inputs, training, mask)\u001b[0m\n\u001b[1;32m    558\u001b[0m \u001b[0;34m\u001b[0m\u001b[0m\n\u001b[1;32m    559\u001b[0m         \u001b[0margs\u001b[0m\u001b[0;34m,\u001b[0m \u001b[0mkwargs\u001b[0m \u001b[0;34m=\u001b[0m \u001b[0mnode\u001b[0m\u001b[0;34m.\u001b[0m\u001b[0mmap_arguments\u001b[0m\u001b[0;34m(\u001b[0m\u001b[0mtensor_dict\u001b[0m\u001b[0;34m)\u001b[0m\u001b[0;34m\u001b[0m\u001b[0;34m\u001b[0m\u001b[0m\n\u001b[0;32m--> 560\u001b[0;31m         \u001b[0moutputs\u001b[0m \u001b[0;34m=\u001b[0m \u001b[0mnode\u001b[0m\u001b[0;34m.\u001b[0m\u001b[0mlayer\u001b[0m\u001b[0;34m(\u001b[0m\u001b[0;34m*\u001b[0m\u001b[0margs\u001b[0m\u001b[0;34m,\u001b[0m \u001b[0;34m**\u001b[0m\u001b[0mkwargs\u001b[0m\u001b[0;34m)\u001b[0m\u001b[0;34m\u001b[0m\u001b[0;34m\u001b[0m\u001b[0m\n\u001b[0m\u001b[1;32m    561\u001b[0m \u001b[0;34m\u001b[0m\u001b[0m\n\u001b[1;32m    562\u001b[0m         \u001b[0;31m# Update tensor_dict.\u001b[0m\u001b[0;34m\u001b[0m\u001b[0;34m\u001b[0m\u001b[0;34m\u001b[0m\u001b[0m\n",
      "\u001b[0;32m~/anaconda3/envs/tensorflow2/lib/python3.7/site-packages/tensorflow/python/keras/engine/base_layer.py\u001b[0m in \u001b[0;36m__call__\u001b[0;34m(self, *args, **kwargs)\u001b[0m\n\u001b[1;32m   1010\u001b[0m         with autocast_variable.enable_auto_cast_variables(\n\u001b[1;32m   1011\u001b[0m             self._compute_dtype_object):\n\u001b[0;32m-> 1012\u001b[0;31m           \u001b[0moutputs\u001b[0m \u001b[0;34m=\u001b[0m \u001b[0mcall_fn\u001b[0m\u001b[0;34m(\u001b[0m\u001b[0minputs\u001b[0m\u001b[0;34m,\u001b[0m \u001b[0;34m*\u001b[0m\u001b[0margs\u001b[0m\u001b[0;34m,\u001b[0m \u001b[0;34m**\u001b[0m\u001b[0mkwargs\u001b[0m\u001b[0;34m)\u001b[0m\u001b[0;34m\u001b[0m\u001b[0;34m\u001b[0m\u001b[0m\n\u001b[0m\u001b[1;32m   1013\u001b[0m \u001b[0;34m\u001b[0m\u001b[0m\n\u001b[1;32m   1014\u001b[0m         \u001b[0;32mif\u001b[0m \u001b[0mself\u001b[0m\u001b[0;34m.\u001b[0m\u001b[0m_activity_regularizer\u001b[0m\u001b[0;34m:\u001b[0m\u001b[0;34m\u001b[0m\u001b[0;34m\u001b[0m\u001b[0m\n",
      "\u001b[0;32m~/anaconda3/envs/tensorflow2/lib/python3.7/site-packages/tensorflow/python/keras/layers/convolutional.py\u001b[0m in \u001b[0;36mcall\u001b[0;34m(self, inputs)\u001b[0m\n\u001b[1;32m    246\u001b[0m       \u001b[0minputs\u001b[0m \u001b[0;34m=\u001b[0m \u001b[0marray_ops\u001b[0m\u001b[0;34m.\u001b[0m\u001b[0mpad\u001b[0m\u001b[0;34m(\u001b[0m\u001b[0minputs\u001b[0m\u001b[0;34m,\u001b[0m \u001b[0mself\u001b[0m\u001b[0;34m.\u001b[0m\u001b[0m_compute_causal_padding\u001b[0m\u001b[0;34m(\u001b[0m\u001b[0minputs\u001b[0m\u001b[0;34m)\u001b[0m\u001b[0;34m)\u001b[0m\u001b[0;34m\u001b[0m\u001b[0;34m\u001b[0m\u001b[0m\n\u001b[1;32m    247\u001b[0m \u001b[0;34m\u001b[0m\u001b[0m\n\u001b[0;32m--> 248\u001b[0;31m     \u001b[0moutputs\u001b[0m \u001b[0;34m=\u001b[0m \u001b[0mself\u001b[0m\u001b[0;34m.\u001b[0m\u001b[0m_convolution_op\u001b[0m\u001b[0;34m(\u001b[0m\u001b[0minputs\u001b[0m\u001b[0;34m,\u001b[0m \u001b[0mself\u001b[0m\u001b[0;34m.\u001b[0m\u001b[0mkernel\u001b[0m\u001b[0;34m)\u001b[0m\u001b[0;34m\u001b[0m\u001b[0;34m\u001b[0m\u001b[0m\n\u001b[0m\u001b[1;32m    249\u001b[0m \u001b[0;34m\u001b[0m\u001b[0m\n\u001b[1;32m    250\u001b[0m     \u001b[0;32mif\u001b[0m \u001b[0mself\u001b[0m\u001b[0;34m.\u001b[0m\u001b[0muse_bias\u001b[0m\u001b[0;34m:\u001b[0m\u001b[0;34m\u001b[0m\u001b[0;34m\u001b[0m\u001b[0m\n",
      "\u001b[0;32m~/anaconda3/envs/tensorflow2/lib/python3.7/site-packages/tensorflow/python/util/dispatch.py\u001b[0m in \u001b[0;36mwrapper\u001b[0;34m(*args, **kwargs)\u001b[0m\n\u001b[1;32m    199\u001b[0m     \u001b[0;34m\"\"\"Call target, and fall back on dispatchers if there is a TypeError.\"\"\"\u001b[0m\u001b[0;34m\u001b[0m\u001b[0;34m\u001b[0m\u001b[0m\n\u001b[1;32m    200\u001b[0m     \u001b[0;32mtry\u001b[0m\u001b[0;34m:\u001b[0m\u001b[0;34m\u001b[0m\u001b[0;34m\u001b[0m\u001b[0m\n\u001b[0;32m--> 201\u001b[0;31m       \u001b[0;32mreturn\u001b[0m \u001b[0mtarget\u001b[0m\u001b[0;34m(\u001b[0m\u001b[0;34m*\u001b[0m\u001b[0margs\u001b[0m\u001b[0;34m,\u001b[0m \u001b[0;34m**\u001b[0m\u001b[0mkwargs\u001b[0m\u001b[0;34m)\u001b[0m\u001b[0;34m\u001b[0m\u001b[0;34m\u001b[0m\u001b[0m\n\u001b[0m\u001b[1;32m    202\u001b[0m     \u001b[0;32mexcept\u001b[0m \u001b[0;34m(\u001b[0m\u001b[0mTypeError\u001b[0m\u001b[0;34m,\u001b[0m \u001b[0mValueError\u001b[0m\u001b[0;34m)\u001b[0m\u001b[0;34m:\u001b[0m\u001b[0;34m\u001b[0m\u001b[0;34m\u001b[0m\u001b[0m\n\u001b[1;32m    203\u001b[0m       \u001b[0;31m# Note: convert_to_eager_tensor currently raises a ValueError, not a\u001b[0m\u001b[0;34m\u001b[0m\u001b[0;34m\u001b[0m\u001b[0;34m\u001b[0m\u001b[0m\n",
      "\u001b[0;32m~/anaconda3/envs/tensorflow2/lib/python3.7/site-packages/tensorflow/python/ops/nn_ops.py\u001b[0m in \u001b[0;36mconvolution_v2\u001b[0;34m(input, filters, strides, padding, data_format, dilations, name)\u001b[0m\n\u001b[1;32m   1018\u001b[0m       \u001b[0mdata_format\u001b[0m\u001b[0;34m=\u001b[0m\u001b[0mdata_format\u001b[0m\u001b[0;34m,\u001b[0m\u001b[0;34m\u001b[0m\u001b[0;34m\u001b[0m\u001b[0m\n\u001b[1;32m   1019\u001b[0m       \u001b[0mdilations\u001b[0m\u001b[0;34m=\u001b[0m\u001b[0mdilations\u001b[0m\u001b[0;34m,\u001b[0m\u001b[0;34m\u001b[0m\u001b[0;34m\u001b[0m\u001b[0m\n\u001b[0;32m-> 1020\u001b[0;31m       name=name)\n\u001b[0m\u001b[1;32m   1021\u001b[0m \u001b[0;34m\u001b[0m\u001b[0m\n\u001b[1;32m   1022\u001b[0m \u001b[0;34m\u001b[0m\u001b[0m\n",
      "\u001b[0;32m~/anaconda3/envs/tensorflow2/lib/python3.7/site-packages/tensorflow/python/ops/nn_ops.py\u001b[0m in \u001b[0;36mconvolution_internal\u001b[0;34m(input, filters, strides, padding, data_format, dilations, name, call_from_convolution, num_spatial_dims)\u001b[0m\n\u001b[1;32m   1148\u001b[0m           \u001b[0mdata_format\u001b[0m\u001b[0;34m=\u001b[0m\u001b[0mdata_format\u001b[0m\u001b[0;34m,\u001b[0m\u001b[0;34m\u001b[0m\u001b[0;34m\u001b[0m\u001b[0m\n\u001b[1;32m   1149\u001b[0m           \u001b[0mdilations\u001b[0m\u001b[0;34m=\u001b[0m\u001b[0mdilations\u001b[0m\u001b[0;34m,\u001b[0m\u001b[0;34m\u001b[0m\u001b[0;34m\u001b[0m\u001b[0m\n\u001b[0;32m-> 1150\u001b[0;31m           name=name)\n\u001b[0m\u001b[1;32m   1151\u001b[0m     \u001b[0;32melse\u001b[0m\u001b[0;34m:\u001b[0m\u001b[0;34m\u001b[0m\u001b[0;34m\u001b[0m\u001b[0m\n\u001b[1;32m   1152\u001b[0m       \u001b[0;32mif\u001b[0m \u001b[0mchannel_index\u001b[0m \u001b[0;34m==\u001b[0m \u001b[0;36m1\u001b[0m\u001b[0;34m:\u001b[0m\u001b[0;34m\u001b[0m\u001b[0;34m\u001b[0m\u001b[0m\n",
      "\u001b[0;32m~/anaconda3/envs/tensorflow2/lib/python3.7/site-packages/tensorflow/python/ops/nn_ops.py\u001b[0m in \u001b[0;36m_conv2d_expanded_batch\u001b[0;34m(input, filters, strides, padding, data_format, dilations, name)\u001b[0m\n\u001b[1;32m   2602\u001b[0m         \u001b[0mdata_format\u001b[0m\u001b[0;34m=\u001b[0m\u001b[0mdata_format\u001b[0m\u001b[0;34m,\u001b[0m\u001b[0;34m\u001b[0m\u001b[0;34m\u001b[0m\u001b[0m\n\u001b[1;32m   2603\u001b[0m         \u001b[0mdilations\u001b[0m\u001b[0;34m=\u001b[0m\u001b[0mdilations\u001b[0m\u001b[0;34m,\u001b[0m\u001b[0;34m\u001b[0m\u001b[0;34m\u001b[0m\u001b[0m\n\u001b[0;32m-> 2604\u001b[0;31m         name=name)\n\u001b[0m\u001b[1;32m   2605\u001b[0m   return squeeze_batch_dims(\n\u001b[1;32m   2606\u001b[0m       \u001b[0minput\u001b[0m\u001b[0;34m,\u001b[0m\u001b[0;34m\u001b[0m\u001b[0;34m\u001b[0m\u001b[0m\n",
      "\u001b[0;32m~/anaconda3/envs/tensorflow2/lib/python3.7/site-packages/tensorflow/python/ops/gen_nn_ops.py\u001b[0m in \u001b[0;36mconv2d\u001b[0;34m(input, filter, strides, padding, use_cudnn_on_gpu, explicit_paddings, data_format, dilations, name)\u001b[0m\n\u001b[1;32m    930\u001b[0m       \u001b[0;32mreturn\u001b[0m \u001b[0m_result\u001b[0m\u001b[0;34m\u001b[0m\u001b[0;34m\u001b[0m\u001b[0m\n\u001b[1;32m    931\u001b[0m     \u001b[0;32mexcept\u001b[0m \u001b[0m_core\u001b[0m\u001b[0;34m.\u001b[0m\u001b[0m_NotOkStatusException\u001b[0m \u001b[0;32mas\u001b[0m \u001b[0me\u001b[0m\u001b[0;34m:\u001b[0m\u001b[0;34m\u001b[0m\u001b[0;34m\u001b[0m\u001b[0m\n\u001b[0;32m--> 932\u001b[0;31m       \u001b[0m_ops\u001b[0m\u001b[0;34m.\u001b[0m\u001b[0mraise_from_not_ok_status\u001b[0m\u001b[0;34m(\u001b[0m\u001b[0me\u001b[0m\u001b[0;34m,\u001b[0m \u001b[0mname\u001b[0m\u001b[0;34m)\u001b[0m\u001b[0;34m\u001b[0m\u001b[0;34m\u001b[0m\u001b[0m\n\u001b[0m\u001b[1;32m    933\u001b[0m     \u001b[0;32mexcept\u001b[0m \u001b[0m_core\u001b[0m\u001b[0;34m.\u001b[0m\u001b[0m_FallbackException\u001b[0m\u001b[0;34m:\u001b[0m\u001b[0;34m\u001b[0m\u001b[0;34m\u001b[0m\u001b[0m\n\u001b[1;32m    934\u001b[0m       \u001b[0;32mpass\u001b[0m\u001b[0;34m\u001b[0m\u001b[0;34m\u001b[0m\u001b[0m\n",
      "\u001b[0;32m~/anaconda3/envs/tensorflow2/lib/python3.7/site-packages/tensorflow/python/framework/ops.py\u001b[0m in \u001b[0;36mraise_from_not_ok_status\u001b[0;34m(e, name)\u001b[0m\n\u001b[1;32m   6860\u001b[0m   \u001b[0mmessage\u001b[0m \u001b[0;34m=\u001b[0m \u001b[0me\u001b[0m\u001b[0;34m.\u001b[0m\u001b[0mmessage\u001b[0m \u001b[0;34m+\u001b[0m \u001b[0;34m(\u001b[0m\u001b[0;34m\" name: \"\u001b[0m \u001b[0;34m+\u001b[0m \u001b[0mname\u001b[0m \u001b[0;32mif\u001b[0m \u001b[0mname\u001b[0m \u001b[0;32mis\u001b[0m \u001b[0;32mnot\u001b[0m \u001b[0;32mNone\u001b[0m \u001b[0;32melse\u001b[0m \u001b[0;34m\"\"\u001b[0m\u001b[0;34m)\u001b[0m\u001b[0;34m\u001b[0m\u001b[0;34m\u001b[0m\u001b[0m\n\u001b[1;32m   6861\u001b[0m   \u001b[0;31m# pylint: disable=protected-access\u001b[0m\u001b[0;34m\u001b[0m\u001b[0;34m\u001b[0m\u001b[0;34m\u001b[0m\u001b[0m\n\u001b[0;32m-> 6862\u001b[0;31m   \u001b[0msix\u001b[0m\u001b[0;34m.\u001b[0m\u001b[0mraise_from\u001b[0m\u001b[0;34m(\u001b[0m\u001b[0mcore\u001b[0m\u001b[0;34m.\u001b[0m\u001b[0m_status_to_exception\u001b[0m\u001b[0;34m(\u001b[0m\u001b[0me\u001b[0m\u001b[0;34m.\u001b[0m\u001b[0mcode\u001b[0m\u001b[0;34m,\u001b[0m \u001b[0mmessage\u001b[0m\u001b[0;34m)\u001b[0m\u001b[0;34m,\u001b[0m \u001b[0;32mNone\u001b[0m\u001b[0;34m)\u001b[0m\u001b[0;34m\u001b[0m\u001b[0;34m\u001b[0m\u001b[0m\n\u001b[0m\u001b[1;32m   6863\u001b[0m   \u001b[0;31m# pylint: enable=protected-access\u001b[0m\u001b[0;34m\u001b[0m\u001b[0;34m\u001b[0m\u001b[0;34m\u001b[0m\u001b[0m\n\u001b[1;32m   6864\u001b[0m \u001b[0;34m\u001b[0m\u001b[0m\n",
      "\u001b[0;32m~/anaconda3/envs/tensorflow2/lib/python3.7/site-packages/six.py\u001b[0m in \u001b[0;36mraise_from\u001b[0;34m(value, from_value)\u001b[0m\n",
      "\u001b[0;31mResourceExhaustedError\u001b[0m: OOM when allocating tensor with shape[21357,64,30,30] and type float on /job:localhost/replica:0/task:0/device:GPU:0 by allocator GPU_0_bfc [Op:Conv2D]"
     ]
    }
   ],
   "source": [
    "with tf.device('/device:gpu:3'):\n",
    "    #model.save_weights('/mnt/cube/srrudrar/temporal_model/temporal_model_weights/temp_256_l1_3_5_500epoch_64batch.h5')\n",
    "    #predicted = model.full_model(x_val)\n",
    "    enc_train1 = model.enc_2(model.enc_dropout(model.enc_1(x_train[:15000,:,:][:,:,:,np.newaxis])))\n",
    "    enc_train2 = model.enc_2(model.enc_dropout(model.enc_1(x_train[15000:30000,:,:][:,:,:,np.newaxis])))\n",
    "    enc_train3 = model.enc_2(model.enc_dropout(model.enc_1(x_train[30000:,:,:][:,:,:,np.newaxis])))\n",
    "    #enc_train4 = model.enc_2(model.enc_dropout(model.enc_1(x_train[45000:60000,:,:][:,:,:,np.newaxis])))\n",
    "    #enc_train5 = model.enc_2(model.enc_dropout(model.enc_1(x_train[60000:80000,:,:][:,:,:,np.newaxis])))\n",
    "    #enc_train6 = model.enc_2(model.enc_dropout(model.enc_1(x_train[80000:,:,:][:,:,:,np.newaxis])))\n",
    "    enc_val = model.enc_2(model.enc_dropout(model.enc_1(x_val[:,:,:,np.newaxis])))\n",
    "    #tf.print(predicted.shape)\n",
    "    tf.print(enc_train1.shape)\n",
    "    tf.print(enc_train2.shape)\n",
    "    tf.print(enc_train3.shape)\n",
    "    tf.print(enc_val.shape)"
   ]
  },
  {
   "cell_type": "code",
   "execution_count": 29,
   "metadata": {},
   "outputs": [],
   "source": [
    "pred_test = np.vstack([model.dec_pred(enc_val)])"
   ]
  },
  {
   "cell_type": "code",
   "execution_count": 25,
   "metadata": {},
   "outputs": [],
   "source": [
    "pred_train = model.dec_pred(enc_train)"
   ]
  },
  {
   "cell_type": "code",
   "execution_count": 24,
   "metadata": {},
   "outputs": [],
   "source": [
    "enc_train = np.vstack([enc_train1, enc_train2, enc_train3])\n",
    "enc_val = np.vstack([enc_val])\n",
    "\n",
    "enc_train_reshape = np.reshape(enc_train, (len(enc_train),8,4))"
   ]
  },
  {
   "cell_type": "code",
   "execution_count": 26,
   "metadata": {},
   "outputs": [
    {
     "data": {
      "text/plain": [
       "((51357, 32), (51357, 32, 32), (5706, 32), (5706, 32, 32))"
      ]
     },
     "execution_count": 26,
     "metadata": {},
     "output_type": "execute_result"
    }
   ],
   "source": [
    "np.shape(enc_train), np.shape(x_train), np.shape(enc_val), np.shape(x_val)"
   ]
  },
  {
   "cell_type": "code",
   "execution_count": 30,
   "metadata": {},
   "outputs": [
    {
     "data": {
      "text/plain": [
       "((5706, 32), (5706, 32))"
      ]
     },
     "execution_count": 30,
     "metadata": {},
     "output_type": "execute_result"
    }
   ],
   "source": [
    "np.shape(pred_test), np.shape(y_val)"
   ]
  },
  {
   "cell_type": "code",
   "execution_count": 31,
   "metadata": {},
   "outputs": [
    {
     "data": {
      "text/plain": [
       "Text(0.5, 1.05, 'Mel Spectrogram')"
      ]
     },
     "execution_count": 31,
     "metadata": {},
     "output_type": "execute_result"
    },
    {
     "data": {
      "image/png": "[encoded data removed]",
      "text/plain": [
       "<Figure size 288x360 with 2 Axes>"
      ]
     },
     "metadata": {
      "needs_background": "light"
     },
     "output_type": "display_data"
    }
   ],
   "source": [
    "fig, ax = plt.subplots(nrows=1,ncols=1, figsize=(4,5))\n",
    "cax = ax.matshow(x_train[100], interpolation='nearest', aspect='auto', cmap=plt.cm.afmhot, origin='lower')\n",
    "fig.colorbar(cax)\n",
    "plt.title('Mel Spectrogram')"
   ]
  },
  {
   "cell_type": "code",
   "execution_count": 32,
   "metadata": {},
   "outputs": [
    {
     "data": {
      "text/plain": [
       "Text(0.5, 1.05, 'Mel Spectrogram')"
      ]
     },
     "execution_count": 32,
     "metadata": {},
     "output_type": "execute_result"
    },
    {
     "data": {
      "image/png": "[encoded data removed]",
      "text/plain": [
       "<Figure size 288x360 with 2 Axes>"
      ]
     },
     "metadata": {
      "needs_background": "light"
     },
     "output_type": "display_data"
    }
   ],
   "source": [
    "fig, ax = plt.subplots(nrows=1,ncols=1, figsize=(4,5))\n",
    "cax = ax.matshow(enc_train_reshape[100], interpolation='nearest', aspect='auto', cmap=plt.cm.afmhot, origin='lower')\n",
    "fig.colorbar(cax)\n",
    "plt.title('Mel Spectrogram')"
   ]
  },
  {
   "cell_type": "code",
   "execution_count": null,
   "metadata": {},
   "outputs": [],
   "source": []
  },
  {
   "cell_type": "code",
   "execution_count": 33,
   "metadata": {},
   "outputs": [],
   "source": [
    "resp_train = x_train1[:, 32:, :]\n",
    "spec_train = [x.flatten() for x in x_train]\n",
    "#enc_train\n",
    "\n",
    "resp_test = x_val1[:, 32:, :]\n",
    "spec_test = [x.flatten() for x in x_val]\n",
    "#enc_test = enc_val\n",
    "#x_val = x_val[:, :16, :]\n",
    "#y_train = y_train[:, :16]\n",
    "#y_val = y_val[:, :16]"
   ]
  },
  {
   "cell_type": "code",
   "execution_count": 34,
   "metadata": {},
   "outputs": [
    {
     "data": {
      "text/plain": [
       "((51357, 1024),\n",
       " (51357, 32),\n",
       " (51357, 214, 32),\n",
       " (5706, 1024),\n",
       " (5706, 32),\n",
       " (5706, 214, 32))"
      ]
     },
     "execution_count": 34,
     "metadata": {},
     "output_type": "execute_result"
    }
   ],
   "source": [
    "np.shape(spec_train), np.shape(enc_train), np.shape(resp_train), np.shape(spec_test), np.shape(enc_val), np.shape(resp_test)"
   ]
  },
  {
   "cell_type": "code",
   "execution_count": 35,
   "metadata": {},
   "outputs": [],
   "source": [
    "np.save('/mnt/cube/srrudrar/tcm_model/{}/32x32/stim_resp_32x32_{}/spec_train_{}.npy'.format(bird,d,d), spec_train)\n",
    "np.save('/mnt/cube/srrudrar/tcm_model/{}/32x32/stim_resp_32x32_{}/enc_train_{}.npy'.format(bird,d,d), enc_train)\n",
    "np.save('/mnt/cube/srrudrar/tcm_model/{}/32x32/stim_resp_32x32_{}/resp_train_{}.npy'.format(bird,d,d), resp_train)\n",
    "\n",
    "np.save('/mnt/cube/srrudrar/tcm_model/{}/32x32/stim_resp_32x32_{}/spec_test_{}.npy'.format(bird,d,d), spec_test)\n",
    "np.save('/mnt/cube/srrudrar/tcm_model/{}/32x32/stim_resp_32x32_{}/enc_test_{}.npy'.format(bird,d,d), enc_val)\n",
    "np.save('/mnt/cube/srrudrar/tcm_model/{}/32x32/stim_resp_32x32_{}/resp_test_{}.npy'.format(bird,d,d), resp_test)\n",
    "        \n",
    "np.save('/mnt/cube/srrudrar/tcm_model/{}/32x32/stim_resp_32x32_{}/y_train_{}.npy'.format(bird,d,d), y_train)\n",
    "np.save('/mnt/cube/srrudrar/tcm_model/{}/32x32/stim_resp_32x32_{}/y_test_{}.npy'.format(bird,d,d), y_val)\n",
    "\n",
    "np.save('/mnt/cube/srrudrar/tcm_model/{}/32x32/stim_resp_32x32_{}/pred_test_{}.npy'.format(bird,d,d), y_val)"
   ]
  },
  {
   "cell_type": "code",
   "execution_count": null,
   "metadata": {},
   "outputs": [],
   "source": []
  },
  {
   "cell_type": "code",
   "execution_count": null,
   "metadata": {},
   "outputs": [],
   "source": [
    "import json"
   ]
  },
  {
   "cell_type": "code",
   "execution_count": null,
   "metadata": {},
   "outputs": [],
   "source": [
    "json.dump([float(i[0].numpy()) for i in test_losses],open('pred_only_64_channels_dropout_test_loss.json', 'w'))"
   ]
  },
  {
   "cell_type": "code",
   "execution_count": null,
   "metadata": {},
   "outputs": [],
   "source": []
  }
 ],
 "metadata": {
  "kernelspec": {
   "display_name": "Python 3",
   "language": "python",
   "name": "python3"
  },
  "language_info": {
   "codemirror_mode": {
    "name": "ipython",
    "version": 3
   },
   "file_extension": ".py",
   "mimetype": "text/x-python",
   "name": "python",
   "nbconvert_exporter": "python",
   "pygments_lexer": "ipython3",
   "version": "3.7.10"
  }
 },
 "nbformat": 4,
 "nbformat_minor": 2
}
