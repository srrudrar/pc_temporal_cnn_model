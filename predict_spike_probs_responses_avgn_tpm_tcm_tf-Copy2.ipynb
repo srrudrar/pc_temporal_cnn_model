{
 "cells": [
  {
   "cell_type": "markdown",
   "metadata": {},
   "source": [
    "### Imports and directories"
   ]
  },
  {
   "cell_type": "code",
   "execution_count": 1,
   "metadata": {},
   "outputs": [],
   "source": [
    "import numpy as np\n",
    "import os\n",
    "from oe_acute import trial_utils as tu\n",
    "import matplotlib.pyplot as plt\n",
    "import matplotlib.cm as cm\n",
    "import pickle\n",
    "import tqdm\n",
    "import glob\n",
    "from scipy.ndimage import gaussian_filter1d\n",
    "from scipy.stats.stats import pearsonr \n",
    "\n",
    "import sys"
   ]
  },
  {
   "cell_type": "code",
   "execution_count": 2,
   "metadata": {},
   "outputs": [],
   "source": [
    "d=128"
   ]
  },
  {
   "cell_type": "code",
   "execution_count": 3,
   "metadata": {},
   "outputs": [],
   "source": [
    "exp_path_avgn = '/mnt/cube/srrudrar/avgn_model/B1240/32x32/stim_resp_32x32_{}/test_set_mne/'.format(d)\n",
    "exp_path_tpm = '/mnt/cube/srrudrar/temporal_model/B1240/32x32/stim_resp_32x32_{}/test_set_mne/'.format(d)\n",
    "exp_path_tcm = '/mnt/cube/srrudrar/temporal_cnn_model/B1240/32x32/stim_resp_32x32_{}/test_set_mne/'.format(d)\n",
    "exp_path_tf = '/mnt/cube/srrudrar/transformer_model/B1240/32x32/stim_resp_32x32_{}/test_set_mne/'.format(d)\n",
    "\n",
    "MNE_test_dset_avgn = '/mnt/cube/srrudrar/avgn_model/B1240/32x32/stim_resp_32x32_{}/test_set_mne/MNE_test_dset/'.format(d)\n",
    "MNE_test_dset_tpm = '/mnt/cube/srrudrar/temporal_model/B1240/32x32/stim_resp_32x32_{}/test_set_mne/MNE_test_dset/'.format(d) \n",
    "MNE_test_dset_tcm = '/mnt/cube/srrudrar/temporal_cnn_model/B1240/32x32/stim_resp_32x32_{}/test_set_mne/MNE_test_dset/'.format(d)\n",
    "MNE_test_dset_tf = '/mnt/cube/srrudrar/transformer_model/B1240/32x32/stim_resp_32x32_{}/test_set_mne/MNE_test_dset/'.format(d) "
   ]
  },
  {
   "cell_type": "code",
   "execution_count": 4,
   "metadata": {},
   "outputs": [],
   "source": [
    "sort_path =  '/mnt/cube/btheilma/sorting/B1240/block3/'\n",
    "ratings = [1,2,3]\n",
    "clusters = []\n",
    "for rating in ratings:\n",
    "    x = tu.get_clusters_by_rating(sort_path, rating)\n",
    "    clusters.extend(x)"
   ]
  },
  {
   "cell_type": "markdown",
   "metadata": {},
   "source": [
    "### Functions"
   ]
  },
  {
   "cell_type": "code",
   "execution_count": 5,
   "metadata": {},
   "outputs": [],
   "source": [
    "def predict_spiking_response(pfinal, stim_segs, sdim, n_trials=20):\n",
    "\n",
    "    '''\n",
    "    Given a pfinal parameter vector and stimulus segments, predict n_trials spike trains\n",
    "    stim_segs is an array nsegs x ndim\n",
    "    spikes is a binary array n_trials x nsegs\n",
    "    TODO: Specify first order or second order model\n",
    "    '''\n",
    "\n",
    "    a = pfinal[0]\n",
    "    h = pfinal[1:sdim+1]\n",
    "    J = np.reshape(pfinal[-1*sdim**2:], (sdim, sdim))\n",
    "\n",
    "    x = a + np.dot(stim_segs, h) + np.sum(stim_segs * (stim_segs.dot(J)), 1)\n",
    "    probs = 1.0 / (1.0 + np.exp(x))\n",
    "    spikes = np.less(np.random.rand(n_trials, len(probs)), probs).astype(int)\n",
    "    return spikes"
   ]
  },
  {
   "cell_type": "code",
   "execution_count": 6,
   "metadata": {},
   "outputs": [],
   "source": [
    "def predict_spiking_probability(pfinal, stim_segs, sdim, **kwargs):\n",
    "\n",
    "    '''\n",
    "    Given a pfinal parameter vector and stimulus segments, predict spiking probabilities\n",
    "    stim_segs is an array nsegs x ndim\n",
    "    spikes is a binary array n_trials x nsegs\n",
    "    '''\n",
    "\n",
    "    a = pfinal[0]\n",
    "    h = pfinal[1:sdim+1]\n",
    "    J = np.reshape(pfinal[-1*sdim**2:], (sdim, sdim))\n",
    "    x = a + np.dot(stim_segs, h) + np.sum(stim_segs * (stim_segs.dot(J)), 1)\n",
    "    probs = 1.0 / (1.0 + np.exp(x))\n",
    "    return probs\n",
    "\n",
    "def predict_spiking_prob_lin(pfinal, stim_segs, sdim, **kwargs):\n",
    "\n",
    "    '''\n",
    "    Given a pfinal parameter vector and stimulus segments, predict spiking probabilities\n",
    "    stim_segs is an array nsegs x ndim\n",
    "    spikes is a binary array n_trials x nsegs\n",
    "    '''\n",
    "\n",
    "    a = pfinal[0]\n",
    "    h = pfinal[1:sdim+1]\n",
    "    x = a + np.dot(stim_segs, h)\n",
    "    probs = 1.0 / (1.0 + np.exp(x))\n",
    "    return probs"
   ]
  },
  {
   "cell_type": "code",
   "execution_count": 7,
   "metadata": {},
   "outputs": [],
   "source": [
    "def evaluate_prediction(pfinal, stims_test, resps_test, sdim, **kwargs):\n",
    "    '''\n",
    "    Given a vector of MNE parameters pfinal, predict spiking probabilities using stims_test and the \n",
    "    MNE model, and compare these to the given 'resps_test' using pearson correlation\n",
    "    '''\n",
    "    \n",
    "    probs = predict_spiking_probability(pfinal, stims_test, sdim, **kwargs)\n",
    "    corr = pearsonr(probs, resps_test.flatten())\n",
    "    return probs, corr\n",
    "\n",
    "def evaluate_pred_lin(pfinal, stims_test, resps_test, sdim, **kwargs):\n",
    "    '''\n",
    "    Given a vector of MNE parameters pfinal, predict spiking probabilities using stims_test and the \n",
    "    MNE model, and compare these to the given 'resps_test' using pearson correlation\n",
    "    '''\n",
    "    \n",
    "    probs = predict_spiking_prob_lin(pfinal, stims_test, sdim, **kwargs)\n",
    "    corr = pearsonr(probs, resps_test.flatten())\n",
    "    return probs, corr"
   ]
  },
  {
   "cell_type": "code",
   "execution_count": 8,
   "metadata": {},
   "outputs": [],
   "source": [
    "def correlate_gaussian_spiketrains(sp1, sp2, tau):\n",
    "    '''\n",
    "    Compute the correlation of two gaussian smoothed spike trains\n",
    "    sp1, sp2 are lists of spike times, tau is the gaussian standard deviation\n",
    "    '''\n",
    "    diffmtx = sp2[:, np.newaxis] - sp1[np.newaxis, :]\n",
    "    n1 = len(sp1)\n",
    "    n2 = len(sp2)\n",
    "\n",
    "    corr = np.sum(np.exp(-0.5*(diffmtx**2 / (2*tau**2)))*(tau*np.sqrt(np.pi)))\n",
    "    return corr"
   ]
  },
  {
   "cell_type": "code",
   "execution_count": null,
   "metadata": {},
   "outputs": [],
   "source": []
  },
  {
   "cell_type": "markdown",
   "metadata": {},
   "source": [
    "### Corrs for all units"
   ]
  },
  {
   "cell_type": "code",
   "execution_count": 9,
   "metadata": {},
   "outputs": [],
   "source": [
    "corrs_full_avgn = []\n",
    "corrs_full_tpm = []\n",
    "corrs_full_tcm = []\n",
    "corrs_full_tf = []\n",
    "corrs_lin_avgn = []\n",
    "corrs_lin_tpm = []\n",
    "corrs_lin_tcm = []\n",
    "corrs_lin_tf = []\n",
    "units = []\n",
    "\n",
    "for unit in clusters:\n",
    "    ########################### avgn corr\n",
    "    with open(os.path.join(MNE_test_dset_avgn, 'unit-{}_MNE.pkl'.format(unit)), 'rb') as f:       #change\n",
    "        test_dict_avgn = pickle.load(f)\n",
    "    stims_test_avgn = test_dict_avgn['stims_test']\n",
    "    resps_test_avgn = test_dict_avgn['resps_test']\n",
    "    \n",
    "    with open(os.path.join(exp_path_avgn, 'all_1_2_3_MNEs_random_test.pkl'), 'rb') as f:       #change                        \n",
    "        pfinals_avgn = pickle.load(f)\n",
    "    pfinal_avgn = pfinals_avgn[unit]\n",
    "    \n",
    "    probs_avgn, corr_avgn = evaluate_prediction(pfinal_avgn, stims_test_avgn, resps_test_avgn, sdim=d)\n",
    "    probs_lin_avgn, corr_lin_avgn = evaluate_pred_lin(pfinal_avgn, stims_test_avgn, resps_test_avgn, sdim=d)\n",
    "    \n",
    "    \n",
    "    ################################ tpm corr\n",
    "    with open(os.path.join(MNE_test_dset_tpm, 'unit-{}_MNE.pkl'.format(unit)), 'rb') as f:       #change\n",
    "        test_dict_tpm = pickle.load(f)\n",
    "    stims_test_tpm = test_dict_tpm['stims_test']\n",
    "    resps_test_tpm = test_dict_tpm['resps_test']\n",
    "    \n",
    "    with open(os.path.join(exp_path_tpm, 'all_1_2_3_MNEs_random_test.pkl'), 'rb') as f:       #change                        \n",
    "        pfinals_tpm = pickle.load(f)\n",
    "    pfinal_tpm = pfinals_tpm[unit]\n",
    "    \n",
    "    probs_tpm, corr_tpm = evaluate_prediction(pfinal_tpm, stims_test_tpm, resps_test_tpm, sdim=d)\n",
    "    probs_lin_tpm, corr_lin_tpm = evaluate_pred_lin(pfinal_tpm, stims_test_tpm, resps_test_tpm, sdim=d)\n",
    "    \n",
    "    \n",
    "    ################################# tcm corr\n",
    "    with open(os.path.join(MNE_test_dset_tcm, 'unit-{}_MNE.pkl'.format(unit)), 'rb') as f:       #change\n",
    "        test_dict_tcm = pickle.load(f)\n",
    "    stims_test_tcm = test_dict_tcm['stims_test']\n",
    "    resps_test_tcm = test_dict_tcm['resps_test']\n",
    "    \n",
    "    with open(os.path.join(exp_path_tcm, 'all_1_2_3_MNEs_random_test.pkl'), 'rb') as f:       #change                        \n",
    "        pfinals_tcm = pickle.load(f)\n",
    "    pfinal_tcm = pfinals_tcm[unit]\n",
    "    \n",
    "    probs_tcm, corr_tcm = evaluate_prediction(pfinal_tcm, stims_test_tcm, resps_test_tcm, sdim=d)\n",
    "    probs_lin_tcm, corr_lin_tcm = evaluate_pred_lin(pfinal_tcm, stims_test_tcm, resps_test_tcm, sdim=d)\n",
    "    \n",
    "    \n",
    "    ################################# tf corr\n",
    "    with open(os.path.join(MNE_test_dset_tf,'unit-{}_MNE.pkl'.format(unit)), 'rb') as f:       #change\n",
    "        test_dict_tf= pickle.load(f)\n",
    "    stims_test_tf= test_dict_tf['stims_test']\n",
    "    resps_test_tf= test_dict_tf['resps_test']\n",
    "    \n",
    "    with open(os.path.join(exp_path_tf,'all_1_2_3_MNEs_random_test.pkl'), 'rb') as f:       #change                        \n",
    "        pfinals_tf= pickle.load(f)\n",
    "    pfinal_tf= pfinals_tf[unit]\n",
    "    \n",
    "    probs_tf, corr_tf = evaluate_prediction(pfinal_tf, stims_test_tf, resps_test_tf, sdim=d)\n",
    "    probs_lin_tf, corr_lin_tf = evaluate_pred_lin(pfinal_tf, stims_test_tf, resps_test_tf, sdim=d)\n",
    "    \n",
    "    ################################ form lists of correlations\n",
    "    corrs_full_avgn.append(corr_avgn[0])\n",
    "    corrs_lin_avgn.append(corr_lin_avgn[0])\n",
    "    corrs_full_tpm.append(corr_tpm[0])\n",
    "    corrs_lin_tpm.append(corr_lin_tpm[0])\n",
    "    corrs_full_tcm.append(corr_tcm[0])\n",
    "    corrs_lin_tcm.append(corr_lin_tcm[0])\n",
    "    corrs_full_tf.append(corr_tf[0])\n",
    "    corrs_lin_tf.append(corr_lin_tf[0])\n",
    "    units.append(unit)"
   ]
  },
  {
   "cell_type": "code",
   "execution_count": null,
   "metadata": {},
   "outputs": [],
   "source": [
    "np.shape(pfinal_avgn)"
   ]
  },
  {
   "cell_type": "code",
   "execution_count": 10,
   "metadata": {},
   "outputs": [],
   "source": [
    "np.save('/mnt/cube/srrudrar/corrs/B1240/tf_32x32/tf_128_full.npy', corrs_full_tf)\n",
    "np.save('/mnt/cube/srrudrar/corrs/B1240/tf_32x32/tf_128_lin.npy', corrs_lin_tf)\n",
    "\n",
    "#np.save('/mnt/cube/srrudrar/corrs/B1240/tpm_32x32/tpm_1024_full.npy', corrs_full_tpm)\n",
    "#np.save('/mnt/cube/srrudrar/corrs/B1240/tpm_32x32/tpm_1024_lin.npy', corrs_lin_tpm)\n",
    "\n",
    "#np.save('/mnt/cube/srrudrar/corrs/B1240/avgn_32x32/avgn_1024_full.npy', corrs_full_avgn)\n",
    "#np.save('/mnt/cube/srrudrar/corrs/B1240/avgn_32x32/avgn_1024_lin.npy', corrs_lin_avgn)"
   ]
  },
  {
   "cell_type": "code",
   "execution_count": null,
   "metadata": {},
   "outputs": [],
   "source": [
    "#corrs_full1 = corrs_full\n",
    "#for index in sorted(ind, reverse=True):\n",
    "#    del corrs_full1[index]\n",
    "#\n",
    "#corrs_full_sig1 = corrs_full_sig\n",
    "#for index in sorted(ind, reverse=True):\n",
    "#    del corrs_full_sig1[index]"
   ]
  },
  {
   "cell_type": "code",
   "execution_count": null,
   "metadata": {},
   "outputs": [],
   "source": []
  },
  {
   "cell_type": "markdown",
   "metadata": {},
   "source": [
    "### Plots"
   ]
  },
  {
   "cell_type": "code",
   "execution_count": 13,
   "metadata": {},
   "outputs": [
    {
     "data": {
      "image/png": "[encoded data removed]",
      "text/plain": [
       "<Figure size 432x288 with 1 Axes>"
      ]
     },
     "metadata": {
      "needs_background": "light"
     },
     "output_type": "display_data"
    }
   ],
   "source": [
    "# Plot\n",
    "fig = plt.figure()\n",
    "ax = fig.add_subplot(111)\n",
    "plt.scatter(corrs_full_avgn, corrs_full_tpm, alpha=0.5)        ##change\n",
    "plt.plot([0, 0.9], [0, 0.9], color = 'black', linewidth = 2)\n",
    "ax.set_aspect('equal', adjustable='box')\n",
    "plt.title('avgn vs tpm full {}'.format(d))                      ##change\n",
    "plt.xlabel('avgn_{}'.format(d))\n",
    "plt.ylabel('tpm_{}'.format(d))                                  ##change\n",
    "plt.show()"
   ]
  },
  {
   "cell_type": "code",
   "execution_count": null,
   "metadata": {},
   "outputs": [],
   "source": [
    "fig, (ax1, ax2, ax3) = plt.subplots(1, 2, 3)\n",
    "fig.suptitle('Horizontally stacked subplots')\n",
    "\n",
    "ax1.scatter(corrs_full_avgn, corrs_full_tpm, alpha=0.5)\n",
    "ax1.plot([0, 0.9], [0, 0.9], color = 'black', linewidth = 2)\n",
    "ax1.set_aspect('equal', adjustable='box')\n",
    "ax1.title('avgn vs tpm full {}'.format(d))\n",
    "\n",
    "ax2.scatter(corrs_full_avgn, corrs_full_tpm, alpha=0.5)\n",
    "ax2.plot([0, 0.9], [0, 0.9], color = 'black', linewidth = 2)\n",
    "ax2.set_aspect('equal', adjustable='box')\n",
    "ax2.title('avgn vs tpm full {}'.format(d))"
   ]
  },
  {
   "cell_type": "code",
   "execution_count": null,
   "metadata": {},
   "outputs": [],
   "source": [
    "# Plot\n",
    "fig = plt.figure()\n",
    "ax = fig.add_subplot(111)\n",
    "plt.scatter(corrs_full_avgn, corrs_full_tcm, alpha=0.5)\n",
    "plt.plot([0, 0.9], [0, 0.9], color = 'black', linewidth = 2)\n",
    "ax.set_aspect('equal', adjustable='box')\n",
    "plt.title('avgn vs tcm full {}'.format(d))\n",
    "plt.xlabel('avgn_{}'.format(d))\n",
    "plt.ylabel('tcm_{}'.format(d))\n",
    "plt.show()"
   ]
  },
  {
   "cell_type": "code",
   "execution_count": null,
   "metadata": {},
   "outputs": [],
   "source": [
    "# Plot\n",
    "fig = plt.figure()\n",
    "ax = fig.add_subplot(111)\n",
    "plt.scatter(corrs_lin_avgn, corrs_lin_tpm, alpha=0.5)\n",
    "plt.plot([0, 0.9], [0, 0.9], color = 'black', linewidth = 2)\n",
    "ax.set_aspect('equal', adjustable='box')\n",
    "plt.title('avgn vs tpm lin {}'.format(d))\n",
    "plt.xlabel('avgn_{}'.format(d))\n",
    "plt.ylabel('tpm_{}'.format(d))\n",
    "plt.show()"
   ]
  },
  {
   "cell_type": "code",
   "execution_count": null,
   "metadata": {},
   "outputs": [],
   "source": [
    "# Plot\n",
    "fig = plt.figure()\n",
    "ax = fig.add_subplot(111)\n",
    "plt.scatter(corrs_lin_avgn, corrs_lin_tcm, alpha=0.5)\n",
    "plt.plot([0, 0.9], [0, 0.9], color = 'black', linewidth = 2)\n",
    "ax.set_aspect('equal', adjustable='box')\n",
    "plt.title('avgn vs tcm lin {}'.format(d))\n",
    "plt.xlabel('avgn_{}'.format(d))\n",
    "plt.ylabel('tcm_{}'.format(d))\n",
    "plt.show()"
   ]
  },
  {
   "cell_type": "code",
   "execution_count": null,
   "metadata": {},
   "outputs": [],
   "source": []
  },
  {
   "cell_type": "code",
   "execution_count": null,
   "metadata": {},
   "outputs": [],
   "source": []
  },
  {
   "cell_type": "code",
   "execution_count": null,
   "metadata": {},
   "outputs": [],
   "source": [
    "d=1024"
   ]
  },
  {
   "cell_type": "code",
   "execution_count": null,
   "metadata": {},
   "outputs": [],
   "source": [
    "exp_path_avgn = '/mnt/cube/srrudrar/avgn_model/B1240/32x32/stim_resp_32x32_{}/test_set_mne/'.format(d)\n",
    "exp_path_tpm = '/mnt/cube/srrudrar/temporal_model/B1240/32x32/stim_resp_32x32_{}/test_set_mne/'.format(d)\n",
    "exp_path_tcm = '/mnt/cube/srrudrar/temporal_cnn_model/B1240/32x32/stim_resp_32x32_{}/test_set_mne/'.format(d)\n",
    "\n",
    "MNE_test_dset_avgn = '/mnt/cube/srrudrar/avgn_model/B1240/32x32/stim_resp_32x32_{}/test_set_mne/MNE_test_dset/'.format(d)\n",
    "MNE_test_dset_tpm = '/mnt/cube/srrudrar/temporal_model/B1240/32x32/stim_resp_32x32_{}/test_set_mne/MNE_test_dset/'.format(d) \n",
    "MNE_test_dset_tcm = '/mnt/cube/srrudrar/temporal_cnn_model/B1240/32x32/stim_resp_32x32_{}/test_set_mne/MNE_test_dset/'.format(d) "
   ]
  },
  {
   "cell_type": "code",
   "execution_count": null,
   "metadata": {},
   "outputs": [],
   "source": [
    "corrs_full_avgn = []\n",
    "corrs_full_tpm = []\n",
    "corrs_full_tcm = []\n",
    "corrs_lin_avgn = []\n",
    "corrs_lin_tpm = []\n",
    "corrs_lin_tcm = []\n",
    "units = []\n",
    "\n",
    "for unit in clusters:\n",
    "    ########################### avgn corr\n",
    "    with open(os.path.join(MNE_test_dset_avgn, 'unit-{}_MNE.pkl'.format(unit)), 'rb') as f:       #change\n",
    "        test_dict_avgn = pickle.load(f)\n",
    "    stims_test_avgn = test_dict_avgn['stims_test']\n",
    "    resps_test_avgn = test_dict_avgn['resps_test']\n",
    "    \n",
    "    with open(os.path.join(exp_path_avgn, 'all_1_2_3_MNEs_random_test.pkl'), 'rb') as f:       #change                        \n",
    "        pfinals_avgn = pickle.load(f)\n",
    "    pfinal_avgn = pfinals_avgn[unit]\n",
    "    \n",
    "    probs_avgn, corr_avgn = evaluate_prediction(pfinal_avgn, stims_test_avgn, resps_test_avgn, sdim=d)\n",
    "    probs_lin_avgn, corr_lin_avgn = evaluate_pred_lin(pfinal_avgn, stims_test_avgn, resps_test_avgn, sdim=d)\n",
    "    \n",
    "    \n",
    "    ################################ tpm corr\n",
    "    with open(os.path.join(MNE_test_dset_tpm, 'unit-{}_MNE.pkl'.format(unit)), 'rb') as f:       #change\n",
    "        test_dict_tpm = pickle.load(f)\n",
    "    stims_test_tpm = test_dict_tpm['stims_test']\n",
    "    resps_test_tpm = test_dict_tpm['resps_test']\n",
    "    \n",
    "    with open(os.path.join(exp_path_tpm, 'all_1_2_3_MNEs_random_test.pkl'), 'rb') as f:       #change                        \n",
    "        pfinals_tpm = pickle.load(f)\n",
    "    pfinal_tpm = pfinals_tpm[unit]\n",
    "    \n",
    "    probs_tpm, corr_tpm = evaluate_prediction(pfinal_tpm, stims_test_tpm, resps_test_tpm, sdim=d)\n",
    "    probs_lin_tpm, corr_lin_tpm = evaluate_pred_lin(pfinal_tpm, stims_test_tpm, resps_test_tpm, sdim=d)\n",
    "    \n",
    "    \n",
    "    ################################# tcm corr\n",
    "    with open(os.path.join(MNE_test_dset_tcm, 'unit-{}_MNE.pkl'.format(unit)), 'rb') as f:       #change\n",
    "        test_dict_tcm = pickle.load(f)\n",
    "    stims_test_tcm = test_dict_tcm['stims_test']\n",
    "    resps_test_tcm = test_dict_tcm['resps_test']\n",
    "    \n",
    "    with open(os.path.join(exp_path_tcm, 'all_1_2_3_MNEs_random_test.pkl'), 'rb') as f:       #change                        \n",
    "        pfinals_tcm = pickle.load(f)\n",
    "    pfinal_tcm = pfinals_tcm[unit]\n",
    "    \n",
    "    probs_tcm, corr_tcm = evaluate_prediction(pfinal_tcm, stims_test_tcm, resps_test_tcm, sdim=d)\n",
    "    probs_lin_tcm, corr_lin_tcm = evaluate_pred_lin(pfinal_tcm, stims_test_tcm, resps_test_tcm, sdim=d)\n",
    "    \n",
    "    \n",
    "    ################################ form lists of correlations\n",
    "    corrs_full_avgn.append(corr_avgn[0])\n",
    "    corrs_lin_avgn.append(corr_lin_avgn[0])\n",
    "    corrs_full_tpm.append(corr_tpm[0])\n",
    "    corrs_lin_tpm.append(corr_lin_tpm[0])\n",
    "    corrs_full_tcm.append(corr_tcm[0])\n",
    "    corrs_lin_tcm.append(corr_lin_tcm[0])\n",
    "    units.append(unit)"
   ]
  },
  {
   "cell_type": "code",
   "execution_count": null,
   "metadata": {},
   "outputs": [],
   "source": [
    "np.save('/mnt/cube/srrudrar/corrs/B1240/tcm_32x32/tcm_1024_full.npy', corrs_full_tcm)\n",
    "np.save('/mnt/cube/srrudrar/corrs/B1240/tcm_32x32/tcm_1024_lin.npy', corrs_lin_tcm)\n",
    "\n",
    "np.save('/mnt/cube/srrudrar/corrs/B1240/tpm_32x32/tpm_1024_full.npy', corrs_full_tpm)\n",
    "np.save('/mnt/cube/srrudrar/corrs/B1240/tpm_32x32/tpm_1024_lin.npy', corrs_lin_tpm)\n",
    "\n",
    "np.save('/mnt/cube/srrudrar/corrs/B1240/avgn_32x32/avgn_1024_full.npy', corrs_full_avgn)\n",
    "np.save('/mnt/cube/srrudrar/corrs/B1240/avgn_32x32/avgn_1024_lin.npy', corrs_lin_avgn)"
   ]
  },
  {
   "cell_type": "code",
   "execution_count": null,
   "metadata": {},
   "outputs": [],
   "source": [
    "# Plot\n",
    "fig = plt.figure()\n",
    "ax = fig.add_subplot(111)\n",
    "plt.scatter(corrs_full_avgn, corrs_full_tpm, alpha=0.5)\n",
    "plt.plot([0, 0.9], [0, 0.9], color = 'black', linewidth = 2)\n",
    "ax.set_aspect('equal', adjustable='box')\n",
    "plt.title('avgn vs tpm full {}'.format(d))\n",
    "plt.xlabel('avgn_{}'.format(d))\n",
    "plt.ylabel('tpm_{}'.format(d))\n",
    "plt.show()"
   ]
  },
  {
   "cell_type": "code",
   "execution_count": null,
   "metadata": {},
   "outputs": [],
   "source": [
    "# Plot\n",
    "fig = plt.figure()\n",
    "ax = fig.add_subplot(111)\n",
    "plt.scatter(corrs_full_avgn, corrs_full_tcm, alpha=0.5)\n",
    "plt.plot([0, 0.9], [0, 0.9], color = 'black', linewidth = 2)\n",
    "ax.set_aspect('equal', adjustable='box')\n",
    "plt.title('avgn vs tcm full {}'.format(d))\n",
    "plt.xlabel('avgn_{}'.format(d))\n",
    "plt.ylabel('tcm_{}'.format(d))\n",
    "plt.show()"
   ]
  },
  {
   "cell_type": "code",
   "execution_count": null,
   "metadata": {},
   "outputs": [],
   "source": [
    "# Plot\n",
    "fig = plt.figure()\n",
    "ax = fig.add_subplot(111)\n",
    "plt.scatter(corrs_lin_avgn, corrs_lin_tpm, alpha=0.5)\n",
    "plt.plot([0, 0.9], [0, 0.9], color = 'black', linewidth = 2)\n",
    "ax.set_aspect('equal', adjustable='box')\n",
    "plt.title('avgn vs tpm lin {}'.format(d))\n",
    "plt.xlabel('avgn_{}'.format(d))\n",
    "plt.ylabel('tpm_{}'.format(d))\n",
    "plt.show()"
   ]
  },
  {
   "cell_type": "code",
   "execution_count": null,
   "metadata": {},
   "outputs": [],
   "source": [
    "# Plot\n",
    "fig = plt.figure()\n",
    "ax = fig.add_subplot(111)\n",
    "plt.scatter(corrs_lin_avgn, corrs_lin_tcm, alpha=0.5)\n",
    "plt.plot([0, 0.9], [0, 0.9], color = 'black', linewidth = 2)\n",
    "ax.set_aspect('equal', adjustable='box')\n",
    "plt.title('avgn vs tcm lin {}'.format(d))\n",
    "plt.xlabel('avgn_{}'.format(d))\n",
    "plt.ylabel('tcm_{}'.format(d))\n",
    "plt.show()"
   ]
  },
  {
   "cell_type": "code",
   "execution_count": null,
   "metadata": {},
   "outputs": [],
   "source": []
  }
 ],
 "metadata": {
  "kernelspec": {
   "display_name": "Python 3",
   "language": "python",
   "name": "python3"
  },
  "language_info": {
   "codemirror_mode": {
    "name": "ipython",
    "version": 3
   },
   "file_extension": ".py",
   "mimetype": "text/x-python",
   "name": "python",
   "nbconvert_exporter": "python",
   "pygments_lexer": "ipython3",
   "version": "3.7.5"
  }
 },
 "nbformat": 4,
 "nbformat_minor": 4
}
