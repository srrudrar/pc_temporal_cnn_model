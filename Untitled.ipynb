{
 "cells": [
  {
   "cell_type": "code",
   "execution_count": 2,
   "metadata": {},
   "outputs": [],
   "source": [
    "import numpy as np\n",
    "import os\n",
    "from oe_acute import trial_utils as tu\n",
    "from oe_acute import MNE\n",
    "import matplotlib.pyplot as plt\n",
    "import matplotlib.cm as cm\n",
    "import pickle\n",
    "import tqdm\n",
    "import glob\n",
    "\n",
    "import sys\n",
    "#from oe_acute import pyMNE\n",
    "import pickle as pkl"
   ]
  },
  {
   "cell_type": "code",
   "execution_count": null,
   "metadata": {},
   "outputs": [],
   "source": [
    "pfinals = pkl.load(open(\"/mnt/cube/\"))"
   ]
  },
  {
   "cell_type": "code",
   "execution_count": null,
   "metadata": {},
   "outputs": [],
   "source": []
  },
  {
   "cell_type": "code",
   "execution_count": null,
   "metadata": {},
   "outputs": [],
   "source": [
    "def plot_MNE(pfinals, unit, bird, block, figure_output_path, n_eigvec_to_display=6, sdim=256, rf_shape=(16,16), color_map='jet'):\n",
    "\n",
    "    ''' \n",
    "    This function produces the MNE summary plot given a list of MNE output parameters (pfinals)\n",
    "    '''\n",
    "\n",
    "    os.makedirs(figure_output_path, exist_ok=True)\n",
    "    assert(sdim == (rf_shape[0]*rf_shape[1]))\n",
    "    a_avg = 0\n",
    "    j_avg = 0\n",
    "    n_jackknives = len(pfinals)\n",
    "    for jack, pfinal in enumerate(pfinals):\n",
    "        # extract a matrix\n",
    "        a = pfinal[1:sdim+1]\n",
    "        a = np.reshape(a,rf_shape)\n",
    "        a_avg += a\n",
    "        # extract J matrix\n",
    "        j = pfinal[-1*sdim**2:]\n",
    "        j = np.reshape(j,(sdim,sdim))\n",
    "        j_avg += j\n",
    "\n",
    "    a_avg /= n_jackknives\n",
    "    j_avg /= n_jackknives\n",
    "\n",
    "    eigval, eigvec = np.linalg.eig(j_avg)\n",
    "    # display recovered rf to generative rf\n",
    "    eigval_ixd = [(eigval[i],i) for i in range(len(eigval))]\n",
    "    eigval_ixd.sort()\n",
    "    sorted_eigval, permt = zip(*eigval_ixd)\n",
    "\n",
    "\n",
    "    topn_negative = [np.reshape(eigvec[:, permt[x]], rf_shape) for x in range(n_eigvec_to_display)]\n",
    "    topn_positive = [np.reshape(eigvec[:, permt[x]], rf_shape) for x in range(-1, -(n_eigvec_to_display+1), -1)]\n",
    "\n",
    "\n",
    "    fig = plt.figure(constrained_layout=True, figsize=(13.3, 10))\n",
    "    gs = fig.add_gridspec(4, n_eigvec_to_display)\n",
    "\n",
    "    neg_axs = []\n",
    "    pos_axs = []\n",
    "    for idx, v in enumerate(topn_negative):\n",
    "        ax = fig.add_subplot(gs[0, idx])\n",
    "        neg_axs.append(ax)\n",
    "        ax.imshow(v, cmap=color_map, interpolation=\"gaussian\", origin='lower', aspect='equal')\n",
    "        ax.set_title('{:.3f}'.format(sorted_eigval[idx]), fontsize=14)\n",
    "        ax.tick_params(labelbottom=False, labelleft=False, direction='in', bottom=False, left=False)\n",
    "\n",
    "\n",
    "    for idx, v in enumerate(topn_positive):\n",
    "        ax = fig.add_subplot(gs[1, idx])\n",
    "        neg_axs.append(ax)\n",
    "        ax.imshow(v, cmap=color_map, interpolation=\"gaussian\", origin='lower', aspect='equal')\n",
    "        ax.set_title('{:.3f}'.format(sorted_eigval[-(idx+1)]), fontsize=14)\n",
    "        ax.tick_params(labelbottom=False, labelleft=False, direction='in', bottom=False, left=False)\n",
    "\n",
    "\n",
    "    ax_eigs = fig.add_subplot(gs[2:, :3])\n",
    "    ax_eigs.plot(sorted_eigval, 'k.')\n",
    "    #ax_eigs.plot(sorted_eigval[:n_eigvec_to_display], 'rx')\n",
    "    #ax_eigs.plot(range(sdim-n_eigvec_to_display, sdim+1), sorted_eigval[-(n_eigvec_to_display+1):], 'rx')\n",
    "    ax_eigs.set_title('Sorted Eigenvalues of J Matrix', fontsize=18)\n",
    "    ax_eigs.set_ylabel('Value', fontsize=16)\n",
    "    ax_eigs.set_xlabel('Index', fontsize=16)\n",
    "    ax_eigs.tick_params(labelsize=14)\n",
    "\n",
    "    ax_a = fig.add_subplot(gs[2:, 3:])\n",
    "    ax_a.imshow(a_avg, cmap=color_map, interpolation=\"gaussian\", origin='lower', aspect='equal')\n",
    "    ax_a.set_title('Linear Feature', fontsize=18)\n",
    "    ax_a.tick_params(labelbottom=False, labelleft=False, direction='in', bottom=False, left=False)\n",
    "\n",
    "    fig.suptitle(\"{} Block: {} Unit: {}\".format(bird, block, unit), fontsize=20)\n",
    "\n",
    "    plt.show()\n",
    "    #fig_f = os.path.join(figure_output_path, 'MNEs_unit_{}.png'.format(unit))\n",
    "    #plt.savefig(fig_f)\n",
    "    #plt.close(fig)"
   ]
  },
  {
   "cell_type": "code",
   "execution_count": null,
   "metadata": {},
   "outputs": [],
   "source": [
    "MNE.plot_MNE(pfinal, unit, figure_output_path)"
   ]
  },
  {
   "cell_type": "code",
   "execution_count": null,
   "metadata": {},
   "outputs": [],
   "source": []
  }
 ],
 "metadata": {
  "kernelspec": {
   "display_name": "Python 3",
   "language": "python",
   "name": "python3"
  },
  "language_info": {
   "codemirror_mode": {
    "name": "ipython",
    "version": 3
   },
   "file_extension": ".py",
   "mimetype": "text/x-python",
   "name": "python",
   "nbconvert_exporter": "python",
   "pygments_lexer": "ipython3",
   "version": "3.7.5"
  }
 },
 "nbformat": 4,
 "nbformat_minor": 2
}
