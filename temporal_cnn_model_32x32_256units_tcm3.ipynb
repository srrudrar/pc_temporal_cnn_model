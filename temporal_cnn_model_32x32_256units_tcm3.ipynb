{
 "cells": [
  {
   "cell_type": "code",
   "execution_count": 1,
   "metadata": {},
   "outputs": [],
   "source": [
    "import os\n",
    "\n",
    "gpus = [2]\n",
    "os.environ['CUDA_VISIBLE_DEVICES']=','.join([str(i) for i in gpus])"
   ]
  },
  {
   "cell_type": "code",
   "execution_count": 2,
   "metadata": {},
   "outputs": [],
   "source": [
    "import tensorflow as tf \n",
    "import tensorflow.keras as keras\n",
    "import numpy as np \n",
    "#from oe_acute import MNE\n",
    "import pickle\n",
    "import sys\n",
    "import random\n",
    "#from AE import MDSAE as ae\n",
    "#from network_visualisation import plot_these_aud_weights\n",
    "#import network_visualisation\n",
    "#import quantify_aud_strfs\n",
    "import matplotlib.pyplot as plt"
   ]
  },
  {
   "cell_type": "markdown",
   "metadata": {},
   "source": [
    "### Allocate GPUs"
   ]
  },
  {
   "cell_type": "code",
   "execution_count": 3,
   "metadata": {},
   "outputs": [],
   "source": [
    "gpus = [2] # Here I set CUDA to only see one GPU\n",
    "os.environ[\"CUDA_DEVICE_ORDER\"]=\"PCI_BUS_ID\"   # see issue #152\n",
    "os.environ[\"CUDA_VISIBLE_DEVICES\"]=','.join([str(i) for i in gpus])\n",
    "num_gpus = len(gpus) # number of GPUs to use\n",
    "if len(gpus) < 1:\n",
    "    num_gpus = 1"
   ]
  },
  {
   "cell_type": "code",
   "execution_count": 4,
   "metadata": {},
   "outputs": [
    {
     "name": "stdout",
     "output_type": "stream",
     "text": [
      "['/device:GPU:0']\n"
     ]
    }
   ],
   "source": [
    "from tensorflow.python.client import device_lib\n",
    "local_device_protos = device_lib.list_local_devices()\n",
    "print( [x.name for x in local_device_protos if x.device_type == 'GPU'] )"
   ]
  },
  {
   "cell_type": "markdown",
   "metadata": {},
   "source": [
    "### Model function"
   ]
  },
  {
   "cell_type": "code",
   "execution_count": 5,
   "metadata": {},
   "outputs": [],
   "source": [
    "class Temporal_Specgram_CNN_Model(keras.Model):\n",
    "    def __init__(self, **kwargs):\n",
    "        super(Temporal_Specgram_CNN_Model, self).__init__()\n",
    "        self.__dict__.update(kwargs)\n",
    "        self.enc_1=keras.Sequential([\n",
    "            keras.Input(shape=(32, 32, 1)),\n",
    "#             keras.layers.Conv2D(filters=32, kernel_size=3, strides=(2, 2), activation=\"relu\",),\n",
    "            keras.layers.Conv2D(filters=64, kernel_size=3, strides=(1, 1), activation=\"relu\",),\n",
    "            tf.keras.layers.Flatten(),\n",
    "            tf.keras.layers.Dense(256, activation = 'relu'),\n",
    "        ])\n",
    "        self.enc_dropout=tf.keras.layers.Dropout(0.5)\n",
    "        self.dec_pred=keras.Sequential([\n",
    "            tf.keras.layers.Dense(units=8 * 8 * 256, activation=\"relu\", kernel_regularizer=keras.regularizers.L1(10**-3.5)),\n",
    "            tf.keras.layers.Reshape(target_shape=(8, 8, 256)),\n",
    "            tf.keras.layers.Conv2DTranspose(\n",
    "                filters=8, kernel_size=2, strides=(2, 2), activation=\"relu\", kernel_regularizer=keras.regularizers.L1(10**-3.5)\n",
    "            ),\n",
    "            tf.keras.layers.Conv2DTranspose(\n",
    "                filters=1, kernel_size=1, strides=(1, 1), kernel_regularizer=keras.regularizers.L1(10**-3.5)\n",
    "            ),\n",
    "            tf.keras.layers.Flatten(),\n",
    "            tf.keras.layers.Dense(units=32, kernel_regularizer=keras.regularizers.L1(10**-3.5)),\n",
    "        ])\n",
    "        self.pred_losses=[]\n",
    "    @tf.function\n",
    "    def get_loss(self, x_t, y_t):\n",
    "        #print(x_t)#.shape\n",
    "        y_hat = self(tf.expand_dims(x_t, -1))\n",
    "        pred_losses=tf.reduce_mean(tf.square(y_t - y_hat))             \n",
    "        return pred_losses\n",
    "\n",
    "    @tf.function\n",
    "    def get_gradients(self, x_t, y_t):\n",
    "        with tf.GradientTape() as tape:\n",
    "            pred_losses = self.get_loss(x_t, y_t)\n",
    "            #tf.print(pred_losses)\n",
    "            loss=pred_losses\n",
    "            \n",
    "        return loss, tape.gradient(loss, self.enc_1.trainable_variables+self.dec_pred.trainable_variables)\n",
    "    \n",
    "    @tf.function\n",
    "    def train_model(self, X_train, y_train):\n",
    "        loss, gradients = self.get_gradients(X_train, y_train)\n",
    "        self.optimizer.apply_gradients(zip(gradients, self.enc_1.trainable_variables+self.dec_pred.trainable_variables))\n",
    "        return loss\n",
    "\n",
    "    @tf.function\n",
    "    def compute_test_loss(self, X_test, y_test):\n",
    "        y_hat = self.predict(tf.expand_dims(X_test, -1))\n",
    "        pred_losses=tf.reduce_mean(tf.square(y_test - y_hat))          \n",
    "        return pred_losses\n",
    "\n",
    "    def call(self, input):\n",
    "        latent=self.enc_1(input)\n",
    "        latent=self.enc_dropout(latent, training=True)\n",
    "        return self.dec_pred(latent)\n",
    "\n",
    "    def predict(self, input):\n",
    "        latent=self.enc_1(input)\n",
    "        latent=self.enc_dropout(latent, training=False)\n",
    "        return self.dec_pred(latent)\n"
   ]
  },
  {
   "cell_type": "markdown",
   "metadata": {},
   "source": [
    "### Load data"
   ]
  },
  {
   "cell_type": "code",
   "execution_count": 6,
   "metadata": {},
   "outputs": [],
   "source": [
    "#def extract_spec_data(x_path, y_path, random_seed=None, global_normalize=False):\n",
    "def extract_spec_data(x_path, y_path, random_seed=None):\n",
    "    #all_curr=np.load(x_path,allow_pickle=True)\n",
    "    #all_next=np.load(y_path,allow_pickle=True)\n",
    "    all_curr = pickle.load(open(x_path, 'rb'))\n",
    "    all_next = pickle.load(open(y_path, 'rb'))\n",
    "    \n",
    "    x_array = all_curr\n",
    "    y_array = all_next\n",
    "\n",
    "    #x_array = np.vstack(all_curr)\n",
    "    #y_array = np.vstack(all_next)\n",
    "\n",
    "    if random_seed is None:\n",
    "        rand_idx=np.arange(0, np.shape(x_array)[0])\n",
    "    else:\n",
    "        np.random.seed(random_seed)\n",
    "        rand_idx=np.random.choice(range(np.shape(x_array)[0]), size=np.shape(x_array)[0],replace=False)\n",
    "    \n",
    "    split_train_idx, split_val_idx = rand_idx[np.shape(x_array)[0]//10:],rand_idx[:np.shape(x_array)[0]//10] \n",
    "    x_train, x_val=np.asarray(x_array)[split_train_idx], np.asarray(x_array)[split_val_idx]\n",
    "    y_train, y_val=np.asarray(y_array)[split_train_idx],np.asarray(y_array)[split_val_idx]\n",
    "    \n",
    "    #if global_normalize:\n",
    "    #    x_train=x_train/x_train.max()\n",
    "    #    y_train=y_train/y_train.max()\n",
    "    #    x_val=x_val/x_val.max()\n",
    "    #    y_val=y_val/y_val.max()\n",
    "    return x_train,y_train,x_val,y_val"
   ]
  },
  {
   "cell_type": "code",
   "execution_count": 7,
   "metadata": {},
   "outputs": [],
   "source": [
    "segs_path = '/mnt/cube/srrudrar/stim_preprocess/temporal_model/B1240/segs_list_32.pkl'\n",
    "next_path = '/mnt/cube/srrudrar/stim_preprocess/temporal_model/B1240/next_list_32.pkl'\n",
    "\n",
    "#x_train,y_train,x_val,y_val = extract_spec_data(segs_path, next_path, random_seed=0,global_normalize=True)\n",
    "x_train1,y_train1,x_val1,y_val1 = extract_spec_data(segs_path, next_path, random_seed=0)"
   ]
  },
  {
   "cell_type": "code",
   "execution_count": 8,
   "metadata": {},
   "outputs": [],
   "source": [
    "x_train = x_train1[:, :32, :]\n",
    "x_val = x_val1[:, :32, :]\n",
    "y_train = y_train1[:, :32]\n",
    "y_val = y_val1[:, :32]"
   ]
  },
  {
   "cell_type": "code",
   "execution_count": null,
   "metadata": {},
   "outputs": [],
   "source": []
  },
  {
   "cell_type": "markdown",
   "metadata": {},
   "source": [
    "### Training network"
   ]
  },
  {
   "cell_type": "code",
   "execution_count": 9,
   "metadata": {},
   "outputs": [
    {
     "name": "stdout",
     "output_type": "stream",
     "text": [
      "Epoch 0, Train-Loss 0.019223101437091827\n",
      "Epoch 1, Train-Loss 0.030225720256567\n",
      "Epoch 2, Train-Loss 0.032027214765548706\n",
      "Epoch 3, Train-Loss 0.03153172507882118\n",
      "Epoch 4, Train-Loss 0.02479943074285984\n",
      "Epoch 5, Train-Loss 0.03090149536728859\n",
      "Epoch 6, Train-Loss 0.013671708293259144\n",
      "Epoch 7, Train-Loss 0.0184788815677166\n",
      "Epoch 8, Train-Loss 0.01307882834225893\n",
      "Epoch 9, Train-Loss 0.019549250602722168\n",
      "Epoch 10, Train-Loss 0.010826537385582924\n",
      "Epoch 11, Train-Loss 0.015472816303372383\n",
      "Epoch 12, Train-Loss 0.015219619497656822\n",
      "Epoch 13, Train-Loss 0.010864516720175743\n",
      "Epoch 14, Train-Loss 0.006968673784285784\n",
      "Epoch 15, Train-Loss 0.015841372311115265\n",
      "Epoch 16, Train-Loss 0.016574924811720848\n",
      "Epoch 17, Train-Loss 0.007214629556983709\n",
      "Epoch 18, Train-Loss 0.011652510613203049\n",
      "Epoch 19, Train-Loss 0.010420067235827446\n",
      "Epoch 20, Train-Loss 0.011538563296198845\n",
      "Epoch 21, Train-Loss 0.012466239742934704\n",
      "Epoch 22, Train-Loss 0.011146933771669865\n",
      "Epoch 23, Train-Loss 0.012452224269509315\n",
      "Epoch 24, Train-Loss 0.011599707417190075\n",
      "Epoch 25, Train-Loss 0.00947064533829689\n",
      "Epoch 26, Train-Loss 0.009901951067149639\n",
      "Epoch 27, Train-Loss 0.007884488441050053\n",
      "Epoch 28, Train-Loss 0.014065136201679707\n",
      "Epoch 29, Train-Loss 0.013613240793347359\n",
      "Epoch 30, Train-Loss 0.012938147410750389\n",
      "Epoch 31, Train-Loss 0.0077162389643490314\n",
      "Epoch 32, Train-Loss 0.01247188076376915\n",
      "Epoch 33, Train-Loss 0.007597203832119703\n",
      "Epoch 34, Train-Loss 0.010569283738732338\n",
      "Epoch 35, Train-Loss 0.014733893796801567\n",
      "Epoch 36, Train-Loss 0.008932295255362988\n",
      "Epoch 37, Train-Loss 0.00970515888184309\n",
      "Epoch 38, Train-Loss 0.00972728244960308\n",
      "Epoch 39, Train-Loss 0.005376758053898811\n",
      "Epoch 40, Train-Loss 0.008367277681827545\n",
      "Epoch 41, Train-Loss 0.010702659375965595\n",
      "Epoch 42, Train-Loss 0.011564349755644798\n",
      "Epoch 43, Train-Loss 0.006080723367631435\n",
      "Epoch 44, Train-Loss 0.009356983937323093\n",
      "Epoch 45, Train-Loss 0.0060019781813025475\n",
      "Epoch 46, Train-Loss 0.010103482753038406\n",
      "Epoch 47, Train-Loss 0.0073071811348199844\n",
      "Epoch 48, Train-Loss 0.007927102036774158\n",
      "Epoch 49, Train-Loss 0.006359311752021313\n",
      "Epoch 50, Train-Loss 0.007603555917739868\n",
      "Epoch 51, Train-Loss 0.008104203268885612\n",
      "Epoch 52, Train-Loss 0.007679069880396128\n",
      "Epoch 53, Train-Loss 0.008307390846312046\n",
      "Epoch 54, Train-Loss 0.009145563468337059\n",
      "Epoch 55, Train-Loss 0.007992471568286419\n",
      "Epoch 56, Train-Loss 0.006544147152453661\n",
      "Epoch 57, Train-Loss 0.005182173103094101\n",
      "Epoch 58, Train-Loss 0.00973284337669611\n",
      "Epoch 59, Train-Loss 0.00982377864420414\n",
      "Epoch 60, Train-Loss 0.006522797513753176\n",
      "Epoch 61, Train-Loss 0.0078365383669734\n",
      "Epoch 62, Train-Loss 0.006933559197932482\n",
      "Epoch 63, Train-Loss 0.007053343579173088\n",
      "Epoch 64, Train-Loss 0.007694094441831112\n",
      "Epoch 65, Train-Loss 0.0067509920336306095\n",
      "Epoch 66, Train-Loss 0.008127463981509209\n",
      "Epoch 67, Train-Loss 0.006574876140803099\n",
      "Epoch 68, Train-Loss 0.007632172666490078\n",
      "Epoch 69, Train-Loss 0.005754075478762388\n",
      "Epoch 70, Train-Loss 0.00644170306622982\n",
      "Epoch 71, Train-Loss 0.007479075808078051\n",
      "Epoch 72, Train-Loss 0.009187944233417511\n",
      "Epoch 73, Train-Loss 0.004970187786966562\n",
      "Epoch 74, Train-Loss 0.012674907222390175\n",
      "Epoch 75, Train-Loss 0.009714964777231216\n",
      "Epoch 76, Train-Loss 0.006511075422167778\n",
      "Epoch 77, Train-Loss 0.006582945119589567\n",
      "Epoch 78, Train-Loss 0.006223877426236868\n",
      "Epoch 79, Train-Loss 0.010288338176906109\n",
      "Epoch 80, Train-Loss 0.006077111233025789\n",
      "Epoch 81, Train-Loss 0.006576067302376032\n",
      "Epoch 82, Train-Loss 0.007459055632352829\n",
      "Epoch 83, Train-Loss 0.012222793884575367\n",
      "Epoch 84, Train-Loss 0.007240752223879099\n",
      "Epoch 85, Train-Loss 0.010675323195755482\n",
      "Epoch 86, Train-Loss 0.005136478692293167\n",
      "Epoch 87, Train-Loss 0.0073325978592038155\n",
      "Epoch 88, Train-Loss 0.00640123151242733\n",
      "Epoch 89, Train-Loss 0.008772301487624645\n",
      "Epoch 90, Train-Loss 0.006475026719272137\n",
      "Epoch 91, Train-Loss 0.005317828617990017\n",
      "Epoch 92, Train-Loss 0.006272289901971817\n",
      "Epoch 93, Train-Loss 0.007682927418500185\n",
      "Epoch 94, Train-Loss 0.005949684418737888\n",
      "Epoch 95, Train-Loss 0.007362449076026678\n",
      "Epoch 96, Train-Loss 0.005763842724263668\n",
      "Epoch 97, Train-Loss 0.004361056722700596\n",
      "Epoch 98, Train-Loss 0.00685963174328208\n",
      "Epoch 99, Train-Loss 0.007728265598416328\n",
      "Epoch 100, Train-Loss 0.006109565496444702\n",
      "Epoch 101, Train-Loss 0.0040556900203228\n",
      "Epoch 102, Train-Loss 0.008260643109679222\n",
      "Epoch 103, Train-Loss 0.007708356250077486\n",
      "Epoch 104, Train-Loss 0.0070522259920835495\n",
      "Epoch 105, Train-Loss 0.004917818121612072\n",
      "Epoch 106, Train-Loss 0.006511692889034748\n",
      "Epoch 107, Train-Loss 0.005945977289229631\n",
      "Epoch 108, Train-Loss 0.005418549291789532\n",
      "Epoch 109, Train-Loss 0.004694804549217224\n",
      "Epoch 110, Train-Loss 0.005629535764455795\n",
      "Epoch 111, Train-Loss 0.006422452162951231\n",
      "Epoch 112, Train-Loss 0.005632844287902117\n",
      "Epoch 113, Train-Loss 0.005652579944580793\n",
      "Epoch 114, Train-Loss 0.005982572678476572\n",
      "Epoch 115, Train-Loss 0.0048685879446566105\n",
      "Epoch 116, Train-Loss 0.005668752361088991\n",
      "Epoch 117, Train-Loss 0.004444011952728033\n",
      "Epoch 118, Train-Loss 0.008382955566048622\n",
      "Epoch 119, Train-Loss 0.007015277165919542\n",
      "Epoch 120, Train-Loss 0.005913747940212488\n",
      "Epoch 121, Train-Loss 0.004128671251237392\n",
      "Epoch 122, Train-Loss 0.004736228380352259\n",
      "Epoch 123, Train-Loss 0.0067656864412128925\n",
      "Epoch 124, Train-Loss 0.004495060071349144\n",
      "Epoch 125, Train-Loss 0.007593818940222263\n",
      "Epoch 126, Train-Loss 0.008537817746400833\n",
      "Epoch 127, Train-Loss 0.0035066278651356697\n",
      "Epoch 128, Train-Loss 0.006249736063182354\n",
      "Epoch 129, Train-Loss 0.008259046822786331\n",
      "Epoch 130, Train-Loss 0.0038177960086613894\n",
      "Epoch 131, Train-Loss 0.009719417430460453\n",
      "Epoch 132, Train-Loss 0.00628666253760457\n",
      "Epoch 133, Train-Loss 0.0047439225018024445\n",
      "Epoch 134, Train-Loss 0.005535881966352463\n",
      "Epoch 135, Train-Loss 0.004549351520836353\n",
      "Epoch 136, Train-Loss 0.0069676837883889675\n",
      "Epoch 137, Train-Loss 0.004175952635705471\n",
      "Epoch 138, Train-Loss 0.009729727171361446\n",
      "Epoch 139, Train-Loss 0.006692713592201471\n",
      "Epoch 140, Train-Loss 0.004248631652444601\n",
      "Epoch 141, Train-Loss 0.004317791201174259\n",
      "Epoch 142, Train-Loss 0.004804519936442375\n",
      "Epoch 143, Train-Loss 0.006415167357772589\n",
      "Epoch 144, Train-Loss 0.00631566159427166\n",
      "Epoch 145, Train-Loss 0.007112001534551382\n",
      "Epoch 146, Train-Loss 0.0038801785558462143\n",
      "\n",
      "Early stopping. No validation loss improvement in 80 epochs.\n"
     ]
    },
    {
     "data": {
      "image/png": "[encoded data removed]",
      "text/plain": [
       "<Figure size 432x288 with 1 Axes>"
      ]
     },
     "metadata": {
      "needs_background": "light"
     },
     "output_type": "display_data"
    }
   ],
   "source": [
    "from collections import deque\n",
    "\n",
    "train_dset = tf.data.Dataset.from_tensor_slices((x_train.astype(np.float32), y_train.astype(np.float32)))\n",
    "train_dset = train_dset.shuffle(buffer_size=x_train.shape[0]+256).batch(64)\n",
    "test_losses = []\n",
    "\n",
    "optimizer = tf.optimizers.Adam(1e-3)\n",
    "model = Temporal_Specgram_CNN_Model(optimizer=optimizer)\n",
    "x_val, y_val = x_val.astype(np.float32), y_val.astype(np.float32)\n",
    "\n",
    "early_stopping = 80\n",
    "\n",
    "with tf.device('/device:gpu:2'):\n",
    "#     tf.print('Training Fold {}'.format(index))\n",
    "    #model.load_weights('./temporal_specgram_weights/initial')\n",
    "    \n",
    "    loss_history = deque(maxlen=early_stopping + 1)\n",
    "    for epoch in range(500):\n",
    "        if epoch>250:\n",
    "            model.optimizer.learning_rate=2e-4\n",
    "        for step, train_batch in enumerate(train_dset):\n",
    "            train_loss = model.train_model(train_batch[0], train_batch[1])\n",
    "\n",
    "        tf.print('Epoch {}, Train-Loss {}'.format(epoch, train_loss), output_stream=sys.stdout)\n",
    "        test_losses.append(model.compute_test_loss(x_val, y_val))\n",
    "        \n",
    "        loss_history.append((model.compute_test_loss(x_val, y_val)).numpy())\n",
    "\n",
    "        if len(loss_history) > early_stopping:\n",
    "            if loss_history.popleft() < min(loss_history):\n",
    "                print(f'\\nEarly stopping. No validation loss '\n",
    "                      f'improvement in {early_stopping} epochs.')\n",
    "                break\n",
    "        \n",
    "    plt.plot(test_losses)\n",
    "    plt.xlabel('Epochs')\n",
    "    plt.ylabel('Test Loss')\n",
    "    plt.title('Test Loss by Epoch: {} units'.format(256))\n",
    "    #plt.savefig('mnt/cube/srrudrar/temporal_model/loss_plots/{}units_loss.png'.format(256))"
   ]
  },
  {
   "cell_type": "code",
   "execution_count": 10,
   "metadata": {},
   "outputs": [
    {
     "name": "stdout",
     "output_type": "stream",
     "text": [
      "TensorShape([15000, 256])\n",
      "TensorShape([15000, 256])\n",
      "TensorShape([15000, 256])\n",
      "TensorShape([5706, 256])\n"
     ]
    }
   ],
   "source": [
    "with tf.device('/device:gpu:2'):\n",
    "    #model.save_weights('/mnt/cube/srrudrar/temporal_model/temporal_model_weights/temp_256_l1_3_5_500epoch_64batch.h5')\n",
    "    #predicted = model.full_model(x_val)\n",
    "    enc_train1 = model.enc_dropout(model.enc_1(x_train[:15000,:,:][:,:,:,np.newaxis]))\n",
    "    enc_train2 = model.enc_dropout(model.enc_1(x_train[15000:30000,:,:][:,:,:,np.newaxis]))\n",
    "    enc_train3 = model.enc_dropout(model.enc_1(x_train[30000:45000,:,:][:,:,:,np.newaxis]))\n",
    "    enc_train4 = model.enc_dropout(model.enc_1(x_train[45000:,:,:][:,:,:,np.newaxis]))\n",
    "    enc_val = model.enc_dropout(model.enc_1(x_val[:,:,:,np.newaxis]))\n",
    "    #tf.print(predicted.shape)\n",
    "    tf.print(enc_train1.shape)\n",
    "    tf.print(enc_train2.shape)\n",
    "    tf.print(enc_train3.shape)\n",
    "    tf.print(enc_val.shape)"
   ]
  },
  {
   "cell_type": "code",
   "execution_count": 11,
   "metadata": {},
   "outputs": [
    {
     "name": "stdout",
     "output_type": "stream",
     "text": [
      "TensorShape([5706, 32])\n"
     ]
    }
   ],
   "source": [
    "with tf.device('/device:gpu:2'):\n",
    "    #model.save_weights('/mnt/cube/srrudrar/temporal_model/temporal_model_weights/temp_256_l1_3_5_500epoch_64batch.h5')\n",
    "    #predicted = model.full_model(x_val)\n",
    "    dec_val = model.dec_pred(model.enc_dropout(model.enc_1(x_val[:,:,:,np.newaxis])))\n",
    "    #tf.print(predicted.shape)\n",
    "    tf.print(dec_val.shape)"
   ]
  },
  {
   "cell_type": "code",
   "execution_count": 12,
   "metadata": {},
   "outputs": [],
   "source": [
    "enc_train = np.vstack([enc_train1, enc_train2, enc_train3, enc_train4])\n",
    "enc_val = np.vstack([enc_val])\n",
    "\n",
    "enc_train_reshape = np.reshape(enc_train, (len(enc_train),16,16))"
   ]
  },
  {
   "cell_type": "code",
   "execution_count": 13,
   "metadata": {},
   "outputs": [
    {
     "data": {
      "text/plain": [
       "((51357, 256), (51357, 32, 32), (5706, 256), (5706, 32, 32))"
      ]
     },
     "execution_count": 13,
     "metadata": {},
     "output_type": "execute_result"
    }
   ],
   "source": [
    "np.shape(enc_train), np.shape(x_train), np.shape(enc_val), np.shape(x_val)"
   ]
  },
  {
   "cell_type": "code",
   "execution_count": 14,
   "metadata": {},
   "outputs": [
    {
     "data": {
      "text/plain": [
       "Text(0.5, 1.05, 'Mel Spectrogram')"
      ]
     },
     "execution_count": 14,
     "metadata": {},
     "output_type": "execute_result"
    },
    {
     "data": {
      "image/png": "[encoded data removed]",
      "text/plain": [
       "<Figure size 288x360 with 2 Axes>"
      ]
     },
     "metadata": {
      "needs_background": "light"
     },
     "output_type": "display_data"
    }
   ],
   "source": [
    "fig, ax = plt.subplots(nrows=1,ncols=1, figsize=(4,5))\n",
    "cax = ax.matshow(x_train[100], interpolation='nearest', aspect='auto', cmap=plt.cm.afmhot, origin='lower')\n",
    "fig.colorbar(cax)\n",
    "plt.title('Mel Spectrogram')"
   ]
  },
  {
   "cell_type": "code",
   "execution_count": 15,
   "metadata": {},
   "outputs": [
    {
     "data": {
      "text/plain": [
       "Text(0.5, 1.05, 'Mel Spectrogram')"
      ]
     },
     "execution_count": 15,
     "metadata": {},
     "output_type": "execute_result"
    },
    {
     "data": {
      "image/png": "[encoded data removed]",
      "text/plain": [
       "<Figure size 288x360 with 2 Axes>"
      ]
     },
     "metadata": {
      "needs_background": "light"
     },
     "output_type": "display_data"
    }
   ],
   "source": [
    "fig, ax = plt.subplots(nrows=1,ncols=1, figsize=(4,5))\n",
    "cax = ax.matshow(enc_train_reshape[100], interpolation='nearest', aspect='auto', cmap=plt.cm.afmhot, origin='lower')\n",
    "fig.colorbar(cax)\n",
    "plt.title('Mel Spectrogram')"
   ]
  },
  {
   "cell_type": "code",
   "execution_count": null,
   "metadata": {},
   "outputs": [],
   "source": []
  },
  {
   "cell_type": "code",
   "execution_count": 16,
   "metadata": {},
   "outputs": [],
   "source": [
    "resp_train = x_train1[:, 32:, :]\n",
    "spec_train = [x.flatten() for x in x_train]\n",
    "#enc_train\n",
    "\n",
    "resp_test = x_val1[:, 32:, :]\n",
    "spec_test = [x.flatten() for x in x_val]\n",
    "#enc_test = enc_val\n",
    "#x_val = x_val[:, :16, :]\n",
    "#y_train = y_train[:, :16]\n",
    "#y_val = y_val[:, :16]"
   ]
  },
  {
   "cell_type": "code",
   "execution_count": 17,
   "metadata": {},
   "outputs": [
    {
     "data": {
      "text/plain": [
       "((51357, 1024),\n",
       " (51357, 256),\n",
       " (51357, 214, 32),\n",
       " (5706, 1024),\n",
       " (5706, 256),\n",
       " (5706, 214, 32))"
      ]
     },
     "execution_count": 17,
     "metadata": {},
     "output_type": "execute_result"
    }
   ],
   "source": [
    "np.shape(spec_train), np.shape(enc_train), np.shape(resp_train), np.shape(spec_test), np.shape(enc_val), np.shape(resp_test)"
   ]
  },
  {
   "cell_type": "code",
   "execution_count": 18,
   "metadata": {},
   "outputs": [],
   "source": [
    "d = 256\n",
    "np.save('/mnt/cube/srrudrar/tcm3/B1240/32x32/stim_resp_32x32_{}/spec_train_{}.npy'.format(d,d), spec_train)\n",
    "np.save('/mnt/cube/srrudrar/tcm3/B1240/32x32/stim_resp_32x32_{}/enc_train_{}.npy'.format(d,d), enc_train)\n",
    "np.save('/mnt/cube/srrudrar/tcm3/B1240/32x32/stim_resp_32x32_{}/resp_train_{}.npy'.format(d,d), resp_train)\n",
    "\n",
    "np.save('/mnt/cube/srrudrar/tcm3/B1240/32x32/stim_resp_32x32_{}/spec_test_{}.npy'.format(d,d), spec_test)\n",
    "np.save('/mnt/cube/srrudrar/tcm3/B1240/32x32/stim_resp_32x32_{}/enc_test_{}.npy'.format(d,d), enc_val)\n",
    "np.save('/mnt/cube/srrudrar/tcm3/B1240/32x32/stim_resp_32x32_{}/resp_test_{}.npy'.format(d,d), resp_test)"
   ]
  },
  {
   "cell_type": "code",
   "execution_count": 19,
   "metadata": {},
   "outputs": [],
   "source": [
    "np.save('/mnt/cube/srrudrar/tcm3/B1240/32x32/stim_resp_32x32_{}/y_train_{}.npy'.format(d,d), y_train)\n",
    "np.save('/mnt/cube/srrudrar/tcm3/B1240/32x32/stim_resp_32x32_{}/y_test_{}.npy'.format(d,d), y_val)"
   ]
  },
  {
   "cell_type": "code",
   "execution_count": null,
   "metadata": {},
   "outputs": [],
   "source": []
  }
 ],
 "metadata": {
  "kernelspec": {
   "display_name": "Python 3",
   "language": "python",
   "name": "python3"
  },
  "language_info": {
   "codemirror_mode": {
    "name": "ipython",
    "version": 3
   },
   "file_extension": ".py",
   "mimetype": "text/x-python",
   "name": "python",
   "nbconvert_exporter": "python",
   "pygments_lexer": "ipython3",
   "version": "3.7.5"
  }
 },
 "nbformat": 4,
 "nbformat_minor": 2
}
