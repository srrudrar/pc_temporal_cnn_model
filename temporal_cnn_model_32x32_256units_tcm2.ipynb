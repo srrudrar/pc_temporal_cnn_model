{
 "cells": [
  {
   "cell_type": "code",
   "execution_count": 1,
   "metadata": {},
   "outputs": [],
   "source": [
    "import os\n",
    "\n",
    "gpus = [1]\n",
    "os.environ['CUDA_VISIBLE_DEVICES']=','.join([str(i) for i in gpus])"
   ]
  },
  {
   "cell_type": "code",
   "execution_count": 2,
   "metadata": {},
   "outputs": [],
   "source": [
    "import tensorflow as tf \n",
    "import tensorflow.keras as keras\n",
    "import numpy as np \n",
    "#from oe_acute import MNE\n",
    "import pickle\n",
    "import sys\n",
    "import random\n",
    "#from AE import MDSAE as ae\n",
    "#from network_visualisation import plot_these_aud_weights\n",
    "#import network_visualisation\n",
    "#import quantify_aud_strfs\n",
    "import matplotlib.pyplot as plt"
   ]
  },
  {
   "cell_type": "markdown",
   "metadata": {},
   "source": [
    "### Allocate GPUs"
   ]
  },
  {
   "cell_type": "code",
   "execution_count": 3,
   "metadata": {},
   "outputs": [],
   "source": [
    "gpus = [1] # Here I set CUDA to only see one GPU\n",
    "os.environ[\"CUDA_DEVICE_ORDER\"]=\"PCI_BUS_ID\"   # see issue #152\n",
    "os.environ[\"CUDA_VISIBLE_DEVICES\"]=','.join([str(i) for i in gpus])\n",
    "num_gpus = len(gpus) # number of GPUs to use\n",
    "if len(gpus) < 1:\n",
    "    num_gpus = 1 "
   ]
  },
  {
   "cell_type": "code",
   "execution_count": 4,
   "metadata": {},
   "outputs": [
    {
     "name": "stdout",
     "output_type": "stream",
     "text": [
      "['/device:GPU:0']\n"
     ]
    }
   ],
   "source": [
    "from tensorflow.python.client import device_lib\n",
    "local_device_protos = device_lib.list_local_devices()\n",
    "print( [x.name for x in local_device_protos if x.device_type == 'GPU'] )"
   ]
  },
  {
   "cell_type": "markdown",
   "metadata": {},
   "source": [
    "### Model function"
   ]
  },
  {
   "cell_type": "code",
   "execution_count": 5,
   "metadata": {},
   "outputs": [],
   "source": [
    "class Temporal_Specgram_CNN_Model(keras.Model):\n",
    "    def __init__(self, **kwargs):\n",
    "        super(Temporal_Specgram_CNN_Model, self).__init__()\n",
    "        self.__dict__.update(kwargs)\n",
    "        self.enc_1=keras.Sequential([\n",
    "            keras.Input(shape=(32, 32, 1)),\n",
    "#             keras.layers.Conv2D(filters=32, kernel_size=3, strides=(2, 2), activation=\"relu\",),\n",
    "            keras.layers.Conv2D(filters=64, kernel_size=3, strides=(1, 1), activation=\"relu\",),\n",
    "            tf.keras.layers.Flatten(),\n",
    "        ])\n",
    "        self.enc_dropout=tf.keras.layers.Dropout(0.5)\n",
    "        self.enc_2=tf.keras.layers.Dense(units=512,activation='sigmoid', kernel_regularizer=keras.regularizers.L1(10**-3.5),)\n",
    "        self.dec_pred=keras.Sequential([\n",
    "            tf.keras.layers.Dense(units=8 * 8 * 256, activation=\"relu\", kernel_regularizer=keras.regularizers.L1(10**-3.5)),\n",
    "            tf.keras.layers.Reshape(target_shape=(8, 8, 256)),\n",
    "            tf.keras.layers.Conv2DTranspose(\n",
    "                filters=8, kernel_size=2, strides=(2, 2), activation=\"relu\", kernel_regularizer=keras.regularizers.L1(10**-3.5)\n",
    "            ),\n",
    "            tf.keras.layers.Conv2DTranspose(\n",
    "                filters=1, kernel_size=1, strides=(1, 1), kernel_regularizer=keras.regularizers.L1(10**-3.5)\n",
    "            ),\n",
    "            tf.keras.layers.Flatten(),\n",
    "            tf.keras.layers.Dense(units=32, kernel_regularizer=keras.regularizers.L1(10**-3.5)),\n",
    "        ])\n",
    "        self.pred_losses=[]\n",
    "    @tf.function\n",
    "    def get_loss(self, x_t, y_t):\n",
    "        #print(x_t)#.shape\n",
    "        y_hat = self(tf.expand_dims(x_t, -1))\n",
    "        pred_losses=tf.reduce_mean(tf.square(y_t - y_hat))\n",
    "                \n",
    "        return pred_losses\n",
    "\n",
    "    @tf.function\n",
    "    def get_gradients(self, x_t, y_t):\n",
    "        with tf.GradientTape() as tape:\n",
    "            pred_losses = self.get_loss(x_t, y_t)\n",
    "            #tf.print(pred_losses, recon_losses)\n",
    "            loss=pred_losses\n",
    "            \n",
    "        return loss, tape.gradient(loss, self.enc_1.trainable_variables+self.enc_2.trainable_variables+self.dec_pred.trainable_variables)\n",
    "    \n",
    "    @tf.function\n",
    "    def train_model(self, X_train, y_train):\n",
    "        loss, gradients = self.get_gradients(X_train, y_train)\n",
    "        self.optimizer.apply_gradients(zip(gradients, self.enc_1.trainable_variables+self.enc_2.trainable_variables+self.dec_pred.trainable_variables))\n",
    "        return loss\n",
    "\n",
    "    @tf.function\n",
    "    def compute_test_loss(self, X_test, y_test):\n",
    "        y_hat = self.predict(tf.expand_dims(X_test, -1))\n",
    "        pred_losses=tf.reduce_mean(tf.square(y_test - y_hat))\n",
    "                \n",
    "        return pred_losses\n",
    "\n",
    "    def call(self, input):\n",
    "        latent=self.enc_1(input)\n",
    "        latent=self.enc_dropout(latent, training=True)\n",
    "        latent=self.enc_2(latent)\n",
    "        return self.dec_pred(latent)\n",
    "\n",
    "    def predict(self, input):\n",
    "        latent=self.enc_1(input)\n",
    "        latent=self.enc_dropout(latent, training=False)\n",
    "        latent=self.enc_2(latent)\n",
    "        return self.dec_pred(latent)\n"
   ]
  },
  {
   "cell_type": "code",
   "execution_count": 6,
   "metadata": {},
   "outputs": [],
   "source": [
    "#model.enc."
   ]
  },
  {
   "cell_type": "code",
   "execution_count": 7,
   "metadata": {},
   "outputs": [],
   "source": [
    "#x_t, y_t = train_batch[0], train_batch[1]"
   ]
  },
  {
   "cell_type": "code",
   "execution_count": 8,
   "metadata": {},
   "outputs": [],
   "source": [
    "#pred_losses,recon_losses=model.get_loss(x_t, y_t)"
   ]
  },
  {
   "cell_type": "code",
   "execution_count": 9,
   "metadata": {},
   "outputs": [],
   "source": [
    "#pred_losses"
   ]
  },
  {
   "cell_type": "markdown",
   "metadata": {},
   "source": [
    "### Load data"
   ]
  },
  {
   "cell_type": "code",
   "execution_count": 10,
   "metadata": {},
   "outputs": [],
   "source": [
    "#def extract_spec_data(x_path, y_path, random_seed=None, global_normalize=False):\n",
    "def extract_spec_data(x_path, y_path, random_seed=None):\n",
    "    #all_curr=np.load(x_path,allow_pickle=True)\n",
    "    #all_next=np.load(y_path,allow_pickle=True)\n",
    "    all_curr = pickle.load(open(x_path, 'rb'))\n",
    "    all_next = pickle.load(open(y_path, 'rb'))\n",
    "    \n",
    "    x_array = all_curr\n",
    "    y_array = all_next\n",
    "\n",
    "    #x_array = np.vstack(all_curr)\n",
    "    #y_array = np.vstack(all_next)\n",
    "\n",
    "    if random_seed is None:\n",
    "        rand_idx=np.arange(0, np.shape(x_array)[0])\n",
    "    else:\n",
    "        np.random.seed(random_seed)\n",
    "        rand_idx=np.random.choice(range(np.shape(x_array)[0]), size=np.shape(x_array)[0],replace=False)\n",
    "    \n",
    "    split_train_idx, split_val_idx = rand_idx[np.shape(x_array)[0]//10:],rand_idx[:np.shape(x_array)[0]//10] \n",
    "    x_train, x_val=np.asarray(x_array)[split_train_idx], np.asarray(x_array)[split_val_idx]\n",
    "    y_train, y_val=np.asarray(y_array)[split_train_idx],np.asarray(y_array)[split_val_idx]\n",
    "    \n",
    "    #if global_normalize:\n",
    "    #    x_train=x_train/x_train.max()\n",
    "    #    y_train=y_train/y_train.max()\n",
    "    #    x_val=x_val/x_val.max()\n",
    "    #    y_val=y_val/y_val.max()\n",
    "    return x_train,y_train,x_val,y_val"
   ]
  },
  {
   "cell_type": "code",
   "execution_count": 11,
   "metadata": {},
   "outputs": [],
   "source": [
    "segs_path = '/mnt/cube/srrudrar/stim_preprocess/temporal_model/B1240/segs_list_32.pkl'\n",
    "next_path = '/mnt/cube/srrudrar/stim_preprocess/temporal_model/B1240/next_list_32.pkl'\n",
    "\n",
    "#x_train,y_train,x_val,y_val = extract_spec_data(segs_path, next_path, random_seed=0,global_normalize=True)\n",
    "x_train1,y_train1,x_val1,y_val1 = extract_spec_data(segs_path, next_path, random_seed=0)"
   ]
  },
  {
   "cell_type": "code",
   "execution_count": 12,
   "metadata": {},
   "outputs": [],
   "source": [
    "x_train = x_train1[:, :32, :]\n",
    "x_val = x_val1[:, :32, :]\n",
    "y_train = y_train1[:, :32]\n",
    "y_val = y_val1[:, :32]"
   ]
  },
  {
   "cell_type": "code",
   "execution_count": null,
   "metadata": {},
   "outputs": [],
   "source": []
  },
  {
   "cell_type": "markdown",
   "metadata": {},
   "source": [
    "### Training network"
   ]
  },
  {
   "cell_type": "code",
   "execution_count": 13,
   "metadata": {},
   "outputs": [
    {
     "name": "stdout",
     "output_type": "stream",
     "text": [
      "Epoch 0, Train-Loss 0.02869095280766487\n",
      "Epoch 1, Train-Loss 0.017418688163161278\n",
      "Epoch 2, Train-Loss 0.011210574768483639\n",
      "Epoch 3, Train-Loss 0.016696495935320854\n",
      "Epoch 4, Train-Loss 0.013246229849755764\n",
      "Epoch 5, Train-Loss 0.00828576646745205\n",
      "Epoch 6, Train-Loss 0.008669945411384106\n",
      "Epoch 7, Train-Loss 0.005538996774703264\n",
      "Epoch 8, Train-Loss 0.006762046366930008\n",
      "Epoch 9, Train-Loss 0.006211776286363602\n",
      "Epoch 10, Train-Loss 0.006023433059453964\n",
      "Epoch 11, Train-Loss 0.0047194454818964005\n",
      "Epoch 12, Train-Loss 0.0066724419593811035\n",
      "Epoch 13, Train-Loss 0.004782058764249086\n",
      "Epoch 14, Train-Loss 0.002858032938092947\n",
      "Epoch 15, Train-Loss 0.004403144121170044\n",
      "Epoch 16, Train-Loss 0.003988403361290693\n",
      "Epoch 17, Train-Loss 0.0038643688894808292\n",
      "Epoch 18, Train-Loss 0.0033724308013916016\n",
      "Epoch 19, Train-Loss 0.0028137783519923687\n",
      "Epoch 20, Train-Loss 0.003950168844312429\n",
      "Epoch 21, Train-Loss 0.0032276296988129616\n",
      "Epoch 22, Train-Loss 0.003090781858190894\n",
      "Epoch 23, Train-Loss 0.0026869617868214846\n",
      "Epoch 24, Train-Loss 0.0024680288042873144\n",
      "Epoch 25, Train-Loss 0.0036251931451261044\n",
      "Epoch 26, Train-Loss 0.0020782051142305136\n",
      "Epoch 27, Train-Loss 0.0022697998210787773\n",
      "Epoch 28, Train-Loss 0.0020888010039925575\n",
      "Epoch 29, Train-Loss 0.001802349230274558\n",
      "Epoch 30, Train-Loss 0.0016601078677922487\n",
      "Epoch 31, Train-Loss 0.0021679862402379513\n",
      "Epoch 32, Train-Loss 0.0019446624210104346\n",
      "Epoch 33, Train-Loss 0.00177002081181854\n",
      "Epoch 34, Train-Loss 0.0015161334304139018\n",
      "Epoch 35, Train-Loss 0.0013851545518264174\n",
      "Epoch 36, Train-Loss 0.0019987865816801786\n",
      "Epoch 37, Train-Loss 0.0014786457177251577\n",
      "Epoch 38, Train-Loss 0.0013614705530926585\n",
      "Epoch 39, Train-Loss 0.0020761408377438784\n",
      "Epoch 40, Train-Loss 0.0017792086582630873\n",
      "Epoch 41, Train-Loss 0.001006331411190331\n",
      "Epoch 42, Train-Loss 0.0012990530813112855\n",
      "Epoch 43, Train-Loss 0.0008388342102989554\n",
      "Epoch 44, Train-Loss 0.0014944040449336171\n",
      "Epoch 45, Train-Loss 0.0012521820608526468\n",
      "Epoch 46, Train-Loss 0.0014348718104884028\n",
      "Epoch 47, Train-Loss 0.0009810281917452812\n",
      "Epoch 48, Train-Loss 0.0010604445124045014\n",
      "Epoch 49, Train-Loss 0.0008545756572857499\n",
      "Epoch 50, Train-Loss 0.001423126203007996\n",
      "Epoch 51, Train-Loss 0.0011391595471650362\n",
      "Epoch 52, Train-Loss 0.0008416299824602902\n",
      "Epoch 53, Train-Loss 0.0010137634817510843\n",
      "Epoch 54, Train-Loss 0.0009307712316513062\n",
      "Epoch 55, Train-Loss 0.0008462319383397698\n",
      "Epoch 56, Train-Loss 0.0008258421439677477\n",
      "Epoch 57, Train-Loss 0.0008630980155430734\n",
      "Epoch 58, Train-Loss 0.0008165639592334628\n",
      "Epoch 59, Train-Loss 0.0005080908304080367\n",
      "Epoch 60, Train-Loss 0.0010259465780109167\n",
      "Epoch 61, Train-Loss 0.0006233626045286655\n",
      "Epoch 62, Train-Loss 0.0008745272643864155\n",
      "Epoch 63, Train-Loss 0.0007572046015411615\n",
      "Epoch 64, Train-Loss 0.0008876093197613955\n",
      "Epoch 65, Train-Loss 0.0007463083602488041\n",
      "Epoch 66, Train-Loss 0.0008690511458553374\n",
      "Epoch 67, Train-Loss 0.0007858723402023315\n",
      "Epoch 68, Train-Loss 0.0010007725795730948\n",
      "Epoch 69, Train-Loss 0.0008727217209525406\n",
      "Epoch 70, Train-Loss 0.000751729472540319\n",
      "Epoch 71, Train-Loss 0.0007465315866284072\n",
      "Epoch 72, Train-Loss 0.0006089016678743064\n",
      "Epoch 73, Train-Loss 0.0008271384285762906\n",
      "Epoch 74, Train-Loss 0.0006404548184946179\n",
      "Epoch 75, Train-Loss 0.0007419022731482983\n",
      "Epoch 76, Train-Loss 0.0007209852919913828\n",
      "Epoch 77, Train-Loss 0.0005499549442902207\n",
      "Epoch 78, Train-Loss 0.0007201969274319708\n",
      "Epoch 79, Train-Loss 0.0006009466014802456\n",
      "Epoch 80, Train-Loss 0.0006709718727506697\n",
      "Epoch 81, Train-Loss 0.000787021650467068\n",
      "Epoch 82, Train-Loss 0.0009378562099300325\n",
      "Epoch 83, Train-Loss 0.0005369074642658234\n",
      "Epoch 84, Train-Loss 0.0006119859172031283\n",
      "Epoch 85, Train-Loss 0.002099941484630108\n",
      "Epoch 86, Train-Loss 0.0006933065014891326\n",
      "Epoch 87, Train-Loss 0.0005519899423234165\n",
      "Epoch 88, Train-Loss 0.0005663578049279749\n",
      "Epoch 89, Train-Loss 0.0005391816957853734\n",
      "Epoch 90, Train-Loss 0.0005881162942387164\n",
      "Epoch 91, Train-Loss 0.0006780300755053759\n",
      "Epoch 92, Train-Loss 0.00047024551895447075\n",
      "Epoch 93, Train-Loss 0.0005530744092538953\n",
      "Epoch 94, Train-Loss 0.0004278716805856675\n",
      "Epoch 95, Train-Loss 0.000533029087819159\n",
      "Epoch 96, Train-Loss 0.0005488913739100099\n",
      "Epoch 97, Train-Loss 0.000591060146689415\n",
      "Epoch 98, Train-Loss 0.0004827669181395322\n",
      "Epoch 99, Train-Loss 0.00043087502126581967\n",
      "Epoch 100, Train-Loss 0.0005119881825521588\n",
      "Epoch 101, Train-Loss 0.0004624142893590033\n",
      "Epoch 102, Train-Loss 0.000519460765644908\n",
      "Epoch 103, Train-Loss 0.00037993292789906263\n",
      "Epoch 104, Train-Loss 0.0004972027381882071\n",
      "Epoch 105, Train-Loss 0.0005300360498949885\n",
      "Epoch 106, Train-Loss 0.0005680604372173548\n",
      "Epoch 107, Train-Loss 0.0003251228481531143\n",
      "Epoch 108, Train-Loss 0.0004735689435619861\n",
      "Epoch 109, Train-Loss 0.0005305593949742615\n",
      "Epoch 110, Train-Loss 0.000545873015653342\n",
      "Epoch 111, Train-Loss 0.0004607131704688072\n",
      "Epoch 112, Train-Loss 0.0005002651014365256\n",
      "Epoch 113, Train-Loss 0.00093505484983325\n",
      "Epoch 114, Train-Loss 0.0003464002220425755\n",
      "Epoch 115, Train-Loss 0.00043052484397776425\n",
      "Epoch 116, Train-Loss 0.00034557527396827936\n",
      "Epoch 117, Train-Loss 0.0003914088010787964\n",
      "Epoch 118, Train-Loss 0.00042800509254448116\n",
      "Epoch 119, Train-Loss 0.0003703491238411516\n",
      "Epoch 120, Train-Loss 0.00047024706145748496\n",
      "Epoch 121, Train-Loss 0.0003715622588060796\n",
      "Epoch 122, Train-Loss 0.0003529118839651346\n",
      "Epoch 123, Train-Loss 0.0003519366728141904\n",
      "Epoch 124, Train-Loss 0.00041377334855496883\n",
      "Epoch 125, Train-Loss 0.0003290243330411613\n",
      "Epoch 126, Train-Loss 0.00034435203997418284\n",
      "Epoch 127, Train-Loss 0.000430928950663656\n",
      "Epoch 128, Train-Loss 0.0003100041940342635\n",
      "Epoch 129, Train-Loss 0.000349456473486498\n",
      "Epoch 130, Train-Loss 0.000511836726218462\n",
      "Epoch 131, Train-Loss 0.0004562552203424275\n",
      "Epoch 132, Train-Loss 0.0003654810425359756\n",
      "Epoch 133, Train-Loss 0.00034064773353748024\n",
      "Epoch 134, Train-Loss 0.00042638141894713044\n",
      "Epoch 135, Train-Loss 0.0003883230092469603\n",
      "Epoch 136, Train-Loss 0.0003988185781054199\n",
      "Epoch 137, Train-Loss 0.0004444293736014515\n",
      "Epoch 138, Train-Loss 0.00037049458478577435\n",
      "Epoch 139, Train-Loss 0.0003219395293854177\n",
      "Epoch 140, Train-Loss 0.0003686190175358206\n",
      "Epoch 141, Train-Loss 0.00041857900214381516\n",
      "Epoch 142, Train-Loss 0.0002722757635638118\n",
      "Epoch 143, Train-Loss 0.0003845312457997352\n",
      "Epoch 144, Train-Loss 0.0004405021609272808\n",
      "Epoch 145, Train-Loss 0.0003884261241182685\n",
      "Epoch 146, Train-Loss 0.00035058005596511066\n",
      "Epoch 147, Train-Loss 0.00024164604838006198\n",
      "Epoch 148, Train-Loss 0.0003305574064143002\n",
      "Epoch 149, Train-Loss 0.00030079574207775295\n",
      "Epoch 150, Train-Loss 0.00032022412051446736\n",
      "Epoch 151, Train-Loss 0.0005313977017067373\n",
      "Epoch 152, Train-Loss 0.000334335258230567\n",
      "Epoch 153, Train-Loss 0.0003319084644317627\n",
      "Epoch 154, Train-Loss 0.0002701606717891991\n",
      "Epoch 155, Train-Loss 0.00028563535306602716\n",
      "Epoch 156, Train-Loss 0.00039801927050575614\n",
      "Epoch 157, Train-Loss 0.00033368932781741023\n",
      "Epoch 158, Train-Loss 0.00030626956140622497\n",
      "Epoch 159, Train-Loss 0.0003554957511369139\n",
      "Epoch 160, Train-Loss 0.00028640360687859356\n",
      "Epoch 161, Train-Loss 0.0002789509599097073\n",
      "Epoch 162, Train-Loss 0.0002939709520433098\n",
      "Epoch 163, Train-Loss 0.0003702231915667653\n",
      "Epoch 164, Train-Loss 0.00026341111515648663\n",
      "Epoch 165, Train-Loss 0.0002931669296231121\n",
      "Epoch 166, Train-Loss 0.00027529511135071516\n",
      "Epoch 167, Train-Loss 0.0002770506835076958\n",
      "Epoch 168, Train-Loss 0.00026672607054933906\n",
      "Epoch 169, Train-Loss 0.00024531345115974545\n",
      "Epoch 170, Train-Loss 0.000329425442032516\n",
      "Epoch 171, Train-Loss 0.00035492703318595886\n",
      "Epoch 172, Train-Loss 0.0001941768714459613\n",
      "Epoch 173, Train-Loss 0.00026220842846669257\n",
      "Epoch 174, Train-Loss 0.0003337932866998017\n",
      "Epoch 175, Train-Loss 0.00024175572616513819\n",
      "Epoch 176, Train-Loss 0.0002871027390938252\n",
      "Epoch 177, Train-Loss 0.00023005394905339926\n",
      "Epoch 178, Train-Loss 0.0003486133646219969\n",
      "Epoch 179, Train-Loss 0.00031526846578344703\n",
      "Epoch 180, Train-Loss 0.00026280569727532566\n",
      "Epoch 181, Train-Loss 0.00021779097733087838\n",
      "Epoch 182, Train-Loss 0.00028528718394227326\n",
      "Epoch 183, Train-Loss 0.00028320070123299956\n",
      "Epoch 184, Train-Loss 0.00028898066375404596\n",
      "Epoch 185, Train-Loss 0.00027471594512462616\n",
      "Epoch 186, Train-Loss 0.00023498407972510904\n",
      "Epoch 187, Train-Loss 0.00028666737489402294\n",
      "Epoch 188, Train-Loss 0.0002044030698016286\n"
     ]
    },
    {
     "name": "stdout",
     "output_type": "stream",
     "text": [
      "Epoch 189, Train-Loss 0.00021468376507982612\n",
      "Epoch 190, Train-Loss 0.0002674461284186691\n",
      "Epoch 191, Train-Loss 0.00022732173965778202\n",
      "Epoch 192, Train-Loss 0.00022726159659214318\n",
      "Epoch 193, Train-Loss 0.0002257819432998076\n",
      "Epoch 194, Train-Loss 0.00029398774495348334\n",
      "Epoch 195, Train-Loss 0.00027193943969905376\n",
      "Epoch 196, Train-Loss 0.00027154231793247163\n",
      "Epoch 197, Train-Loss 0.0002696723095141351\n",
      "Epoch 198, Train-Loss 0.00024244854284916073\n",
      "Epoch 199, Train-Loss 0.0003205662942491472\n",
      "Epoch 200, Train-Loss 0.00026758667081594467\n",
      "Epoch 201, Train-Loss 0.00020344303629826754\n",
      "Epoch 202, Train-Loss 0.00028264804859645665\n",
      "Epoch 203, Train-Loss 0.00022267302847467363\n",
      "Epoch 204, Train-Loss 0.0002042149571934715\n",
      "Epoch 205, Train-Loss 0.00025608931900933385\n",
      "Epoch 206, Train-Loss 0.00020329539256636053\n",
      "Epoch 207, Train-Loss 0.00020669646619353443\n",
      "Epoch 208, Train-Loss 0.00031185097759589553\n",
      "Epoch 209, Train-Loss 0.0003069799277000129\n",
      "Epoch 210, Train-Loss 0.00022057686874177307\n",
      "Epoch 211, Train-Loss 0.0002517607936169952\n",
      "Epoch 212, Train-Loss 0.00028211899916641414\n",
      "Epoch 213, Train-Loss 0.0001806531217880547\n",
      "Epoch 214, Train-Loss 0.0002427443687338382\n",
      "Epoch 215, Train-Loss 0.0002101086574839428\n",
      "Epoch 216, Train-Loss 0.0002138883137376979\n",
      "Epoch 217, Train-Loss 0.00018239981727674603\n",
      "Epoch 218, Train-Loss 0.0002514320076443255\n",
      "Epoch 219, Train-Loss 0.00022840082237962633\n",
      "Epoch 220, Train-Loss 0.00029315572464838624\n",
      "Epoch 221, Train-Loss 0.00022132555022835732\n",
      "Epoch 222, Train-Loss 0.0001669945486355573\n",
      "Epoch 223, Train-Loss 0.0002806954435072839\n",
      "Epoch 224, Train-Loss 0.00020280091848690063\n",
      "Epoch 225, Train-Loss 0.00021245887910481542\n",
      "Epoch 226, Train-Loss 0.0002066174492938444\n",
      "Epoch 227, Train-Loss 0.000213912469916977\n",
      "Epoch 228, Train-Loss 0.00018944821204058826\n",
      "Epoch 229, Train-Loss 0.00025521114002913237\n",
      "Epoch 230, Train-Loss 0.0002481794508639723\n",
      "Epoch 231, Train-Loss 0.00020368599507492036\n",
      "Epoch 232, Train-Loss 0.0001987364375963807\n",
      "Epoch 233, Train-Loss 0.0002141089498763904\n",
      "Epoch 234, Train-Loss 0.0004063827800564468\n",
      "Epoch 235, Train-Loss 0.00025021613691933453\n",
      "Epoch 236, Train-Loss 0.0005143265007063746\n",
      "Epoch 237, Train-Loss 0.00017340543854516\n",
      "Epoch 238, Train-Loss 0.0001549051230540499\n",
      "Epoch 239, Train-Loss 0.00019700831035152078\n",
      "Epoch 240, Train-Loss 0.00019520771456882358\n",
      "Epoch 241, Train-Loss 0.00019720301497727633\n",
      "Epoch 242, Train-Loss 0.0002485187433194369\n",
      "Epoch 243, Train-Loss 0.00015717274800408632\n",
      "Epoch 244, Train-Loss 0.00015421056014019996\n",
      "Epoch 245, Train-Loss 0.00016843000776134431\n",
      "Epoch 246, Train-Loss 0.0001768023066688329\n",
      "Epoch 247, Train-Loss 0.00025752748479135334\n",
      "Epoch 248, Train-Loss 0.00018803682178258896\n",
      "Epoch 249, Train-Loss 0.00028052402194589376\n",
      "Epoch 250, Train-Loss 0.000187885103514418\n",
      "Epoch 251, Train-Loss 0.00015625030209776014\n",
      "Epoch 252, Train-Loss 0.0001607363810762763\n",
      "Epoch 253, Train-Loss 0.00013391257380135357\n",
      "Epoch 254, Train-Loss 0.00010309673234587535\n",
      "Epoch 255, Train-Loss 0.0001418519241269678\n",
      "Epoch 256, Train-Loss 0.00011407623969716951\n",
      "Epoch 257, Train-Loss 9.239304199581966e-05\n",
      "Epoch 258, Train-Loss 0.00011326323146931827\n",
      "Epoch 259, Train-Loss 0.0001362037000944838\n",
      "Epoch 260, Train-Loss 0.000147433063830249\n",
      "Epoch 261, Train-Loss 0.00012318826338741928\n",
      "Epoch 262, Train-Loss 9.693187166703865e-05\n",
      "Epoch 263, Train-Loss 0.00011820641520898789\n",
      "Epoch 264, Train-Loss 0.00011916895164176822\n",
      "Epoch 265, Train-Loss 0.00012618604523595423\n",
      "Epoch 266, Train-Loss 0.00013451413542497903\n",
      "Epoch 267, Train-Loss 0.00011958530376432464\n",
      "Epoch 268, Train-Loss 0.00012135144061176106\n",
      "Epoch 269, Train-Loss 0.00011945056030526757\n",
      "Epoch 270, Train-Loss 0.00010210840991931036\n",
      "Epoch 271, Train-Loss 0.00013543527165893465\n",
      "Epoch 272, Train-Loss 0.00010802832548506558\n",
      "Epoch 273, Train-Loss 0.00012053553655277938\n",
      "Epoch 274, Train-Loss 0.00011663094483083114\n",
      "Epoch 275, Train-Loss 9.603525541024283e-05\n",
      "Epoch 276, Train-Loss 9.309824963565916e-05\n",
      "Epoch 277, Train-Loss 0.00013198105443734676\n",
      "Epoch 278, Train-Loss 0.00011385638936189935\n",
      "Epoch 279, Train-Loss 0.00010984815162373707\n",
      "Epoch 280, Train-Loss 9.842644794844091e-05\n",
      "Epoch 281, Train-Loss 0.00014151938376016915\n",
      "Epoch 282, Train-Loss 0.00011483699199743569\n",
      "Epoch 283, Train-Loss 0.00010970181756420061\n",
      "Epoch 284, Train-Loss 7.58083479013294e-05\n",
      "Epoch 285, Train-Loss 0.00012728289584629238\n",
      "Epoch 286, Train-Loss 8.73434473760426e-05\n",
      "Epoch 287, Train-Loss 7.127769640646875e-05\n",
      "Epoch 288, Train-Loss 0.00011652295506792143\n",
      "Epoch 289, Train-Loss 0.00013728442718274891\n",
      "Epoch 290, Train-Loss 8.582481677876785e-05\n",
      "Epoch 291, Train-Loss 9.914686233969405e-05\n",
      "Epoch 292, Train-Loss 0.00036276300670579076\n",
      "Epoch 293, Train-Loss 0.00011238658771617338\n",
      "Epoch 294, Train-Loss 0.00011679853196255863\n",
      "Epoch 295, Train-Loss 9.111662075156346e-05\n",
      "Epoch 296, Train-Loss 7.969461876200512e-05\n",
      "Epoch 297, Train-Loss 8.345411333721131e-05\n",
      "Epoch 298, Train-Loss 6.791593477828428e-05\n",
      "Epoch 299, Train-Loss 0.00011030089081032202\n",
      "Epoch 300, Train-Loss 0.00013196644431445748\n",
      "Epoch 301, Train-Loss 0.00010606808791635558\n",
      "Epoch 302, Train-Loss 0.00011676176654873416\n",
      "Epoch 303, Train-Loss 0.00011128737969556823\n",
      "Epoch 304, Train-Loss 0.000132418455905281\n",
      "Epoch 305, Train-Loss 7.739436841802672e-05\n",
      "Epoch 306, Train-Loss 0.00010083448432851583\n",
      "Epoch 307, Train-Loss 0.00013358384603634477\n",
      "Epoch 308, Train-Loss 0.0001255087263416499\n",
      "Epoch 309, Train-Loss 0.00010363876208430156\n",
      "Epoch 310, Train-Loss 7.712603837717324e-05\n",
      "Epoch 311, Train-Loss 9.475824481341988e-05\n",
      "Epoch 312, Train-Loss 9.944824705598876e-05\n",
      "Epoch 313, Train-Loss 0.00010433371062390506\n",
      "Epoch 314, Train-Loss 0.00010710117203416303\n",
      "Epoch 315, Train-Loss 0.00011104200530098751\n",
      "Epoch 316, Train-Loss 9.600295015843585e-05\n",
      "Epoch 317, Train-Loss 9.680601942818612e-05\n",
      "Epoch 318, Train-Loss 7.57797752157785e-05\n",
      "Epoch 319, Train-Loss 4.755291956826113e-05\n",
      "Epoch 320, Train-Loss 0.00011076864757342264\n",
      "Epoch 321, Train-Loss 9.246866829926148e-05\n",
      "Epoch 322, Train-Loss 0.00018411486234981567\n",
      "Epoch 323, Train-Loss 7.801512401783839e-05\n",
      "Epoch 324, Train-Loss 0.00010556822235230356\n",
      "Epoch 325, Train-Loss 9.682674863142893e-05\n",
      "Epoch 326, Train-Loss 8.25074894237332e-05\n",
      "Epoch 327, Train-Loss 7.161140820244327e-05\n",
      "Epoch 328, Train-Loss 9.50492758420296e-05\n",
      "Epoch 329, Train-Loss 7.21629403415136e-05\n",
      "Epoch 330, Train-Loss 0.00010835743887582794\n",
      "Epoch 331, Train-Loss 9.745994611876085e-05\n",
      "Epoch 332, Train-Loss 0.00010552226740401238\n",
      "Epoch 333, Train-Loss 8.434311166638508e-05\n",
      "Epoch 334, Train-Loss 9.768403106136248e-05\n",
      "Epoch 335, Train-Loss 7.595279021188617e-05\n",
      "Epoch 336, Train-Loss 0.00010885435767704621\n",
      "Epoch 337, Train-Loss 9.628581028664485e-05\n",
      "Epoch 338, Train-Loss 0.000102021120255813\n",
      "Epoch 339, Train-Loss 8.680014434503391e-05\n",
      "Epoch 340, Train-Loss 8.452604379272088e-05\n",
      "Epoch 341, Train-Loss 0.00011455138883320615\n",
      "Epoch 342, Train-Loss 9.525901259621605e-05\n",
      "Epoch 343, Train-Loss 8.772320143179968e-05\n",
      "Epoch 344, Train-Loss 0.0001121059394790791\n",
      "Epoch 345, Train-Loss 0.00010108940477948636\n",
      "Epoch 346, Train-Loss 7.73156643845141e-05\n",
      "Epoch 347, Train-Loss 0.00011664064368233085\n",
      "Epoch 348, Train-Loss 9.347452578367665e-05\n",
      "Epoch 349, Train-Loss 0.00010949556599371135\n",
      "Epoch 350, Train-Loss 9.608433902030811e-05\n",
      "Epoch 351, Train-Loss 7.934260793263093e-05\n",
      "Epoch 352, Train-Loss 0.00010020097397500649\n",
      "Epoch 353, Train-Loss 9.753652557265013e-05\n",
      "Epoch 354, Train-Loss 9.151511039817706e-05\n",
      "Epoch 355, Train-Loss 7.059146446408704e-05\n",
      "Epoch 356, Train-Loss 8.58444909681566e-05\n",
      "Epoch 357, Train-Loss 9.31019167182967e-05\n",
      "Epoch 358, Train-Loss 6.061412932467647e-05\n",
      "Epoch 359, Train-Loss 7.614369678776711e-05\n",
      "Epoch 360, Train-Loss 8.809853898128495e-05\n",
      "Epoch 361, Train-Loss 0.00011515475489431992\n",
      "Epoch 362, Train-Loss 6.833648512838408e-05\n",
      "Epoch 363, Train-Loss 0.0001024552111630328\n",
      "Epoch 364, Train-Loss 7.327939965762198e-05\n",
      "Epoch 365, Train-Loss 8.689005335327238e-05\n",
      "Epoch 366, Train-Loss 7.32016924303025e-05\n",
      "Epoch 367, Train-Loss 0.0001086335614672862\n",
      "Epoch 368, Train-Loss 5.977266846457496e-05\n",
      "Epoch 369, Train-Loss 0.00011032669863197953\n",
      "Epoch 370, Train-Loss 6.023794048815034e-05\n",
      "Epoch 371, Train-Loss 6.632574513787404e-05\n",
      "Epoch 372, Train-Loss 0.00010674876102712005\n",
      "Epoch 373, Train-Loss 8.903957495931536e-05\n"
     ]
    },
    {
     "name": "stdout",
     "output_type": "stream",
     "text": [
      "Epoch 374, Train-Loss 9.618492185836658e-05\n",
      "Epoch 375, Train-Loss 0.00010402915359009057\n",
      "Epoch 376, Train-Loss 0.00011243152403039858\n",
      "Epoch 377, Train-Loss 9.657946065999568e-05\n",
      "Epoch 378, Train-Loss 9.9105694971513e-05\n",
      "Epoch 379, Train-Loss 8.87339556356892e-05\n",
      "Epoch 380, Train-Loss 9.504630725132301e-05\n",
      "Epoch 381, Train-Loss 8.833349420456216e-05\n",
      "Epoch 382, Train-Loss 0.00012580263137351722\n",
      "Epoch 383, Train-Loss 7.392810948658735e-05\n",
      "Epoch 384, Train-Loss 8.299177716253325e-05\n",
      "Epoch 385, Train-Loss 9.191723802359775e-05\n",
      "Epoch 386, Train-Loss 9.861015860224143e-05\n",
      "Epoch 387, Train-Loss 7.606791041325778e-05\n",
      "Epoch 388, Train-Loss 0.00011733482824638486\n",
      "Epoch 389, Train-Loss 9.043863974511623e-05\n",
      "Epoch 390, Train-Loss 8.435207564616576e-05\n",
      "Epoch 391, Train-Loss 6.45104082650505e-05\n",
      "Epoch 392, Train-Loss 0.00013546005357056856\n",
      "Epoch 393, Train-Loss 6.147236126707867e-05\n",
      "Epoch 394, Train-Loss 8.076210360741243e-05\n",
      "Epoch 395, Train-Loss 0.0006109030218794942\n",
      "Epoch 396, Train-Loss 7.75222506490536e-05\n",
      "Epoch 397, Train-Loss 7.630747131770477e-05\n",
      "Epoch 398, Train-Loss 0.00010264498996548355\n",
      "Epoch 399, Train-Loss 0.00010486152314115316\n",
      "Epoch 400, Train-Loss 0.00010065684909932315\n",
      "Epoch 401, Train-Loss 8.529013575753197e-05\n",
      "Epoch 402, Train-Loss 6.199565541464835e-05\n",
      "Epoch 403, Train-Loss 0.0001441698259441182\n",
      "Epoch 404, Train-Loss 8.23224545456469e-05\n",
      "Epoch 405, Train-Loss 9.32282127905637e-05\n",
      "Epoch 406, Train-Loss 7.563554390799254e-05\n",
      "Epoch 407, Train-Loss 7.899670163169503e-05\n",
      "Epoch 408, Train-Loss 6.225816468941048e-05\n",
      "Epoch 409, Train-Loss 0.00012948639050591737\n",
      "Epoch 410, Train-Loss 7.34862987883389e-05\n",
      "Epoch 411, Train-Loss 8.187781349988654e-05\n",
      "Epoch 412, Train-Loss 0.00011351201828802004\n",
      "Epoch 413, Train-Loss 9.353553468827158e-05\n",
      "Epoch 414, Train-Loss 0.00010413713607704267\n",
      "Epoch 415, Train-Loss 6.992678390815854e-05\n",
      "Epoch 416, Train-Loss 7.46285222703591e-05\n",
      "Epoch 417, Train-Loss 6.556179869221523e-05\n",
      "Epoch 418, Train-Loss 6.528442463604733e-05\n",
      "Epoch 419, Train-Loss 6.665212276857346e-05\n",
      "Epoch 420, Train-Loss 7.713584636803716e-05\n",
      "Epoch 421, Train-Loss 9.590210538590327e-05\n",
      "Epoch 422, Train-Loss 7.98040782683529e-05\n",
      "Epoch 423, Train-Loss 8.749902190174907e-05\n",
      "Epoch 424, Train-Loss 7.022037607384846e-05\n",
      "Epoch 425, Train-Loss 7.216590893222019e-05\n",
      "Epoch 426, Train-Loss 7.424307841574773e-05\n",
      "Epoch 427, Train-Loss 9.416659304406494e-05\n",
      "Epoch 428, Train-Loss 7.692409417359158e-05\n",
      "Epoch 429, Train-Loss 0.0001472473086323589\n",
      "Epoch 430, Train-Loss 0.00034943438367918134\n",
      "Epoch 431, Train-Loss 7.422136695822701e-05\n",
      "Epoch 432, Train-Loss 6.779471004847437e-05\n",
      "Epoch 433, Train-Loss 7.027741958154365e-05\n",
      "Epoch 434, Train-Loss 9.638046321924776e-05\n",
      "Epoch 435, Train-Loss 0.00013621219841297716\n",
      "Epoch 436, Train-Loss 9.284036786993966e-05\n",
      "Epoch 437, Train-Loss 8.019069355214015e-05\n",
      "Epoch 438, Train-Loss 0.00011971317871939391\n",
      "Epoch 439, Train-Loss 6.994109571678564e-05\n",
      "Epoch 440, Train-Loss 6.898747233208269e-05\n",
      "Epoch 441, Train-Loss 7.583469414385036e-05\n",
      "Epoch 442, Train-Loss 7.87235185271129e-05\n",
      "Epoch 443, Train-Loss 6.780619878554717e-05\n",
      "Epoch 444, Train-Loss 7.457236642949283e-05\n",
      "Epoch 445, Train-Loss 6.98497096891515e-05\n",
      "Epoch 446, Train-Loss 9.066845814231783e-05\n",
      "Epoch 447, Train-Loss 9.322619007434696e-05\n",
      "Epoch 448, Train-Loss 8.646897913422436e-05\n",
      "Epoch 449, Train-Loss 0.00011335960152791813\n",
      "Epoch 450, Train-Loss 0.00010218575334874913\n",
      "Epoch 451, Train-Loss 6.87331921653822e-05\n",
      "Epoch 452, Train-Loss 6.381040293490514e-05\n",
      "Epoch 453, Train-Loss 9.275125921703875e-05\n",
      "Epoch 454, Train-Loss 0.0001064656680682674\n",
      "Epoch 455, Train-Loss 0.00012730831804219633\n",
      "Epoch 456, Train-Loss 7.62058625696227e-05\n",
      "Epoch 457, Train-Loss 7.125949196051806e-05\n",
      "Epoch 458, Train-Loss 9.05313208932057e-05\n",
      "Epoch 459, Train-Loss 7.070872379699722e-05\n",
      "Epoch 460, Train-Loss 8.748715481488034e-05\n",
      "Epoch 461, Train-Loss 7.126723357941955e-05\n",
      "Epoch 462, Train-Loss 5.7590532378526405e-05\n",
      "Epoch 463, Train-Loss 8.010994497453794e-05\n",
      "Epoch 464, Train-Loss 7.13672416168265e-05\n",
      "Epoch 465, Train-Loss 0.00042244288488291204\n",
      "Epoch 466, Train-Loss 6.474475230788812e-05\n",
      "Epoch 467, Train-Loss 6.962499901419505e-05\n",
      "Epoch 468, Train-Loss 0.00012819790572393686\n",
      "Epoch 469, Train-Loss 9.255365876015276e-05\n",
      "Epoch 470, Train-Loss 0.00019338697893545032\n",
      "Epoch 471, Train-Loss 6.101708277128637e-05\n",
      "Epoch 472, Train-Loss 6.468819628935307e-05\n",
      "Epoch 473, Train-Loss 7.891387940617278e-05\n",
      "Epoch 474, Train-Loss 8.370810246560723e-05\n",
      "Epoch 475, Train-Loss 7.517405902035534e-05\n",
      "Epoch 476, Train-Loss 0.0001147785151260905\n",
      "Epoch 477, Train-Loss 6.177357136039063e-05\n",
      "Epoch 478, Train-Loss 9.325188148068264e-05\n",
      "Epoch 479, Train-Loss 8.608288771938533e-05\n",
      "Epoch 480, Train-Loss 6.507545185741037e-05\n",
      "Epoch 481, Train-Loss 6.705457053612918e-05\n",
      "Epoch 482, Train-Loss 0.00011895052739419043\n",
      "Epoch 483, Train-Loss 6.329290044959635e-05\n",
      "Epoch 484, Train-Loss 7.334018300753087e-05\n",
      "Epoch 485, Train-Loss 9.748161392053589e-05\n",
      "Epoch 486, Train-Loss 8.27777330414392e-05\n",
      "Epoch 487, Train-Loss 5.042779594077729e-05\n",
      "Epoch 488, Train-Loss 8.370252180611715e-05\n",
      "Epoch 489, Train-Loss 5.441477333079092e-05\n",
      "Epoch 490, Train-Loss 4.3806790927192196e-05\n",
      "Epoch 491, Train-Loss 0.00010709381604101509\n",
      "Epoch 492, Train-Loss 8.591906225774437e-05\n",
      "Epoch 493, Train-Loss 4.876780076301657e-05\n",
      "Epoch 494, Train-Loss 8.20781642687507e-05\n",
      "Epoch 495, Train-Loss 8.557351247873157e-05\n",
      "Epoch 496, Train-Loss 9.588127431925386e-05\n",
      "Epoch 497, Train-Loss 9.18337536859326e-05\n",
      "Epoch 498, Train-Loss 7.5612697401084e-05\n",
      "Epoch 499, Train-Loss 8.66146365297027e-05\n"
     ]
    },
    {
     "data": {
      "image/png": "[encoded data removed]",
      "text/plain": [
       "<Figure size 432x288 with 1 Axes>"
      ]
     },
     "metadata": {
      "needs_background": "light"
     },
     "output_type": "display_data"
    }
   ],
   "source": [
    "train_dset = tf.data.Dataset.from_tensor_slices((x_train.astype(np.float32), y_train.astype(np.float32)))\n",
    "train_dset = train_dset.shuffle(buffer_size=x_train.shape[0]+256).batch(64)\n",
    "test_losses = []\n",
    "\n",
    "optimizer = tf.optimizers.Adam(1e-3)\n",
    "model = Temporal_Specgram_CNN_Model(optimizer=optimizer)\n",
    "x_val, y_val = x_val.astype(np.float32), y_val.astype(np.float32)\n",
    "with tf.device('/device:gpu:1'):\n",
    "#     tf.print('Training Fold {}'.format(index))\n",
    "    #model.load_weights('./temporal_specgram_weights/initial')\n",
    "    for epoch in range(500):\n",
    "        if epoch>250:\n",
    "            model.optimizer.learning_rate=2e-4\n",
    "        for step, train_batch in enumerate(train_dset):\n",
    "            train_loss = model.train_model(train_batch[0], train_batch[1])\n",
    "\n",
    "        tf.print('Epoch {}, Train-Loss {}'.format(epoch, train_loss), output_stream=sys.stdout)\n",
    "        test_losses.append(model.compute_test_loss(x_val, y_val))\n",
    "        \n",
    "    plt.plot(test_losses)\n",
    "    plt.xlabel('Epochs')\n",
    "    plt.ylabel('Test Loss')\n",
    "    plt.title('Test Loss by Epoch: {} units'.format(256))\n",
    "    #plt.savefig('mnt/cube/srrudrar/temporal_model/loss_plots/{}units_loss.png'.format(256))"
   ]
  },
  {
   "cell_type": "code",
   "execution_count": 14,
   "metadata": {},
   "outputs": [
    {
     "name": "stdout",
     "output_type": "stream",
     "text": [
      "TensorShape([15000, 512])\n",
      "TensorShape([15000, 512])\n",
      "TensorShape([21357, 512])\n",
      "TensorShape([5706, 512])\n"
     ]
    }
   ],
   "source": [
    "with tf.device('/device:gpu:1'):\n",
    "    #model.save_weights('/mnt/cube/srrudrar/temporal_model/temporal_model_weights/temp_256_l1_3_5_500epoch_64batch.h5')\n",
    "    #predicted = model.full_model(x_val)\n",
    "    enc_train1 = model.enc_2(model.enc_dropout(model.enc_1(x_train[:15000,:,:][:,:,:,np.newaxis])))\n",
    "    enc_train2 = model.enc_2(model.enc_dropout(model.enc_1(x_train[15000:30000,:,:][:,:,:,np.newaxis])))\n",
    "    enc_train3 = model.enc_2(model.enc_dropout(model.enc_1(x_train[30000:,:,:][:,:,:,np.newaxis])))\n",
    "    enc_val = model.enc_2(model.enc_dropout(model.enc_1(x_val[:,:,:,np.newaxis])))\n",
    "    #tf.print(predicted.shape)\n",
    "    tf.print(enc_train1.shape)\n",
    "    tf.print(enc_train2.shape)\n",
    "    tf.print(enc_train3.shape)\n",
    "    tf.print(enc_val.shape)"
   ]
  },
  {
   "cell_type": "code",
   "execution_count": 15,
   "metadata": {},
   "outputs": [
    {
     "name": "stdout",
     "output_type": "stream",
     "text": [
      "TensorShape([5706, 32])\n"
     ]
    }
   ],
   "source": [
    "with tf.device('/device:gpu:1'):\n",
    "    #model.save_weights('/mnt/cube/srrudrar/temporal_model/temporal_model_weights/temp_256_l1_3_5_500epoch_64batch.h5')\n",
    "    #predicted = model.full_model(x_val)\n",
    "    dec_val = model.dec_pred(model.enc_2(model.enc_dropout(model.enc_1(x_val[:,:,:,np.newaxis]))))\n",
    "    #tf.print(predicted.shape)\n",
    "    tf.print(dec_val.shape)"
   ]
  },
  {
   "cell_type": "code",
   "execution_count": 16,
   "metadata": {},
   "outputs": [],
   "source": [
    "enc_train = np.vstack([enc_train1, enc_train2, enc_train3])\n",
    "enc_val = np.vstack([enc_val])\n",
    "\n",
    "enc_train_reshape = np.reshape(enc_train, (len(enc_train),32,16))"
   ]
  },
  {
   "cell_type": "code",
   "execution_count": 17,
   "metadata": {},
   "outputs": [
    {
     "data": {
      "text/plain": [
       "((51357, 512), (51357, 32, 32), (5706, 512), (5706, 32, 32))"
      ]
     },
     "execution_count": 17,
     "metadata": {},
     "output_type": "execute_result"
    }
   ],
   "source": [
    "np.shape(enc_train), np.shape(x_train), np.shape(enc_val), np.shape(x_val)"
   ]
  },
  {
   "cell_type": "code",
   "execution_count": 18,
   "metadata": {},
   "outputs": [
    {
     "data": {
      "text/plain": [
       "Text(0.5, 1.05, 'Mel Spectrogram')"
      ]
     },
     "execution_count": 18,
     "metadata": {},
     "output_type": "execute_result"
    },
    {
     "data": {
      "image/png": "[encoded data removed]",
      "text/plain": [
       "<Figure size 288x360 with 2 Axes>"
      ]
     },
     "metadata": {
      "needs_background": "light"
     },
     "output_type": "display_data"
    }
   ],
   "source": [
    "fig, ax = plt.subplots(nrows=1,ncols=1, figsize=(4,5))\n",
    "cax = ax.matshow(x_train[100], interpolation='nearest', aspect='auto', cmap=plt.cm.afmhot, origin='lower')\n",
    "fig.colorbar(cax)\n",
    "plt.title('Mel Spectrogram')"
   ]
  },
  {
   "cell_type": "code",
   "execution_count": 19,
   "metadata": {},
   "outputs": [
    {
     "data": {
      "text/plain": [
       "Text(0.5, 1.05, 'Mel Spectrogram')"
      ]
     },
     "execution_count": 19,
     "metadata": {},
     "output_type": "execute_result"
    },
    {
     "data": {
      "image/png": "[encoded data removed]",
      "text/plain": [
       "<Figure size 288x360 with 2 Axes>"
      ]
     },
     "metadata": {
      "needs_background": "light"
     },
     "output_type": "display_data"
    }
   ],
   "source": [
    "fig, ax = plt.subplots(nrows=1,ncols=1, figsize=(4,5))\n",
    "cax = ax.matshow(enc_train_reshape[100], interpolation='nearest', aspect='auto', cmap=plt.cm.afmhot, origin='lower')\n",
    "fig.colorbar(cax)\n",
    "plt.title('Mel Spectrogram')"
   ]
  },
  {
   "cell_type": "code",
   "execution_count": null,
   "metadata": {},
   "outputs": [],
   "source": []
  },
  {
   "cell_type": "code",
   "execution_count": 20,
   "metadata": {},
   "outputs": [],
   "source": [
    "resp_train = x_train1[:, 32:, :]\n",
    "spec_train = [x.flatten() for x in x_train]\n",
    "#enc_train\n",
    "\n",
    "resp_test = x_val1[:, 32:, :]\n",
    "spec_test = [x.flatten() for x in x_val]\n",
    "#enc_test = enc_val\n",
    "#x_val = x_val[:, :16, :]\n",
    "#y_train = y_train[:, :16]\n",
    "#y_val = y_val[:, :16]"
   ]
  },
  {
   "cell_type": "code",
   "execution_count": 21,
   "metadata": {},
   "outputs": [
    {
     "data": {
      "text/plain": [
       "((51357, 1024),\n",
       " (51357, 512),\n",
       " (51357, 214, 32),\n",
       " (5706, 1024),\n",
       " (5706, 512),\n",
       " (5706, 214, 32))"
      ]
     },
     "execution_count": 21,
     "metadata": {},
     "output_type": "execute_result"
    }
   ],
   "source": [
    "np.shape(spec_train), np.shape(enc_train), np.shape(resp_train), np.shape(spec_test), np.shape(enc_val), np.shape(resp_test)"
   ]
  },
  {
   "cell_type": "code",
   "execution_count": 22,
   "metadata": {},
   "outputs": [],
   "source": [
    "np.save('/mnt/cube/srrudrar/tcm2/B1240/32x32/stim_resp_32x32_512/spec_train_512.npy', spec_train)\n",
    "np.save('/mnt/cube/srrudrar/tcm2/B1240/32x32/stim_resp_32x32_512/enc_train_512.npy', enc_train)\n",
    "np.save('/mnt/cube/srrudrar/tcm2/B1240/32x32/stim_resp_32x32_512/resp_train_512.npy', resp_train)\n",
    "\n",
    "np.save('/mnt/cube/srrudrar/tcm2/B1240/32x32/stim_resp_32x32_512/spec_test_512.npy', spec_test)\n",
    "np.save('/mnt/cube/srrudrar/tcm2/B1240/32x32/stim_resp_32x32_512/enc_test_512.npy', enc_val)\n",
    "np.save('/mnt/cube/srrudrar/tcm2/B1240/32x32/stim_resp_32x32_512/resp_test_512.npy', resp_test)"
   ]
  },
  {
   "cell_type": "code",
   "execution_count": 23,
   "metadata": {},
   "outputs": [],
   "source": [
    "np.save('/mnt/cube/srrudrar/tcm2/B1240/32x32/stim_resp_32x32_512/y_train_512.npy', y_train)\n",
    "np.save('/mnt/cube/srrudrar/tcm2/B1240/32x32/stim_resp_32x32_512/y_test_512.npy', y_val)"
   ]
  },
  {
   "cell_type": "code",
   "execution_count": null,
   "metadata": {},
   "outputs": [],
   "source": [
    "import json"
   ]
  },
  {
   "cell_type": "code",
   "execution_count": null,
   "metadata": {},
   "outputs": [],
   "source": [
    "json.dump([float(i[0].numpy()) for i in test_losses],open('pred_only_64_channels_dropout_test_loss.json', 'w'))"
   ]
  },
  {
   "cell_type": "code",
   "execution_count": null,
   "metadata": {},
   "outputs": [],
   "source": []
  }
 ],
 "metadata": {
  "kernelspec": {
   "display_name": "Python 3",
   "language": "python",
   "name": "python3"
  },
  "language_info": {
   "codemirror_mode": {
    "name": "ipython",
    "version": 3
   },
   "file_extension": ".py",
   "mimetype": "text/x-python",
   "name": "python",
   "nbconvert_exporter": "python",
   "pygments_lexer": "ipython3",
   "version": "3.7.5"
  }
 },
 "nbformat": 4,
 "nbformat_minor": 2
}
