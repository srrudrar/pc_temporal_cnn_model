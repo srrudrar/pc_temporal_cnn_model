{
 "cells": [
  {
   "cell_type": "code",
   "execution_count": 1,
   "metadata": {},
   "outputs": [],
   "source": [
    "import os\n",
    "\n",
    "gpus = [3]\n",
    "os.environ['CUDA_VISIBLE_DEVICES']=','.join([str(i) for i in gpus])"
   ]
  },
  {
   "cell_type": "code",
   "execution_count": 2,
   "metadata": {},
   "outputs": [],
   "source": [
    "import tensorflow as tf \n",
    "import tensorflow.keras as keras\n",
    "import numpy as np \n",
    "#from oe_acute import MNE\n",
    "import pickle\n",
    "import sys\n",
    "import random\n",
    "#from AE import MDSAE as ae\n",
    "#from network_visualisation import plot_these_aud_weights\n",
    "#import network_visualisation\n",
    "#import quantify_aud_strfs\n",
    "import matplotlib.pyplot as plt"
   ]
  },
  {
   "cell_type": "markdown",
   "metadata": {},
   "source": [
    "### Allocate GPUs"
   ]
  },
  {
   "cell_type": "code",
   "execution_count": 3,
   "metadata": {},
   "outputs": [],
   "source": [
    "gpus = [3] # Here I set CUDA to only see one GPU\n",
    "os.environ[\"CUDA_DEVICE_ORDER\"]=\"PCI_BUS_ID\"   # see issue #152\n",
    "os.environ[\"CUDA_VISIBLE_DEVICES\"]=','.join([str(i) for i in gpus])\n",
    "num_gpus = len(gpus) # number of GPUs to use\n",
    "if len(gpus) < 1:\n",
    "    num_gpus = 1 "
   ]
  },
  {
   "cell_type": "code",
   "execution_count": 4,
   "metadata": {},
   "outputs": [
    {
     "name": "stdout",
     "output_type": "stream",
     "text": [
      "['/device:GPU:0']\n"
     ]
    }
   ],
   "source": [
    "from tensorflow.python.client import device_lib\n",
    "local_device_protos = device_lib.list_local_devices()\n",
    "print( [x.name for x in local_device_protos if x.device_type == 'GPU'] )"
   ]
  },
  {
   "cell_type": "markdown",
   "metadata": {},
   "source": [
    "### Model function"
   ]
  },
  {
   "cell_type": "code",
   "execution_count": 5,
   "metadata": {},
   "outputs": [],
   "source": [
    "class Temporal_Specgram_CNN_Model(keras.Model):\n",
    "    def __init__(self, **kwargs):\n",
    "        super(Temporal_Specgram_CNN_Model, self).__init__()\n",
    "        self.__dict__.update(kwargs)\n",
    "        self.enc_1=keras.Sequential([\n",
    "            keras.Input(shape=(32, 32, 1)),\n",
    "#             keras.layers.Conv2D(filters=32, kernel_size=3, strides=(2, 2), activation=\"relu\",),\n",
    "            keras.layers.Conv2D(filters=64, kernel_size=3, strides=(1, 1), activation=\"relu\",),\n",
    "            tf.keras.layers.Flatten(),\n",
    "            \n",
    "            \n",
    "        ])\n",
    "        self.enc_dropout=tf.keras.layers.Dropout(0.5)\n",
    "        self.enc_2=tf.keras.layers.Dense(units=32,activation='sigmoid', kernel_regularizer=keras.regularizers.L1(10**-3.5),)\n",
    "        self.dec_pred=keras.Sequential([\n",
    "            tf.keras.layers.Dense(units=8 * 8 * 256, activation=\"relu\", kernel_regularizer=keras.regularizers.L1(10**-3.5)),\n",
    "            tf.keras.layers.Reshape(target_shape=(8, 8, 256)),\n",
    "            tf.keras.layers.Conv2DTranspose(\n",
    "                filters=8, kernel_size=2, strides=(2, 2), activation=\"relu\", kernel_regularizer=keras.regularizers.L1(10**-3.5)\n",
    "            ),\n",
    "            tf.keras.layers.Conv2DTranspose(\n",
    "                filters=1, kernel_size=1, strides=(1, 1), kernel_regularizer=keras.regularizers.L1(10**-3.5)\n",
    "            ),\n",
    "            tf.keras.layers.Flatten(),\n",
    "            tf.keras.layers.Dense(units=32, kernel_regularizer=keras.regularizers.L1(10**-3.5)),\n",
    "        ])\n",
    "        self.pred_losses=[]\n",
    "    @tf.function\n",
    "    def get_loss(self, x_t, y_t):\n",
    "        #print(x_t)#.shape\n",
    "        y_hat = self(tf.expand_dims(x_t, -1))\n",
    "        pred_losses=tf.reduce_mean(tf.square(y_t - y_hat))\n",
    "                \n",
    "        return pred_losses\n",
    "\n",
    "    @tf.function\n",
    "    def get_gradients(self, x_t, y_t):\n",
    "        with tf.GradientTape() as tape:\n",
    "            pred_losses = self.get_loss(x_t, y_t)\n",
    "            #tf.print(pred_losses, recon_losses)\n",
    "            loss=pred_losses\n",
    "            \n",
    "        return loss, tape.gradient(loss, self.enc_1.trainable_variables+self.enc_2.trainable_variables+self.dec_pred.trainable_variables)\n",
    "    \n",
    "    @tf.function\n",
    "    def train_model(self, X_train, y_train):\n",
    "        loss, gradients = self.get_gradients(X_train, y_train)\n",
    "        self.optimizer.apply_gradients(zip(gradients, self.enc_1.trainable_variables+self.enc_2.trainable_variables+self.dec_pred.trainable_variables))\n",
    "        return loss\n",
    "\n",
    "    @tf.function\n",
    "    def compute_test_loss(self, X_test, y_test):\n",
    "        y_hat = self.predict(tf.expand_dims(X_test, -1))\n",
    "        pred_losses=tf.reduce_mean(tf.square(y_test - y_hat))\n",
    "                \n",
    "        return pred_losses\n",
    "\n",
    "    def call(self, input):\n",
    "        latent=self.enc_1(input)\n",
    "        latent=self.enc_dropout(latent, training=True)\n",
    "        latent=self.enc_2(latent)\n",
    "        return self.dec_pred(latent)\n",
    "\n",
    "    def predict(self, input):\n",
    "        latent=self.enc_1(input)\n",
    "        latent=self.enc_dropout(latent, training=False)\n",
    "        latent=self.enc_2(latent)\n",
    "        return self.dec_pred(latent)\n"
   ]
  },
  {
   "cell_type": "code",
   "execution_count": 6,
   "metadata": {},
   "outputs": [],
   "source": [
    "#model.enc."
   ]
  },
  {
   "cell_type": "code",
   "execution_count": 7,
   "metadata": {},
   "outputs": [],
   "source": [
    "#x_t, y_t = train_batch[0], train_batch[1]"
   ]
  },
  {
   "cell_type": "code",
   "execution_count": 8,
   "metadata": {},
   "outputs": [],
   "source": [
    "#pred_losses,recon_losses=model.get_loss(x_t, y_t)"
   ]
  },
  {
   "cell_type": "code",
   "execution_count": 9,
   "metadata": {},
   "outputs": [],
   "source": [
    "#pred_losses"
   ]
  },
  {
   "cell_type": "markdown",
   "metadata": {},
   "source": [
    "### Load data"
   ]
  },
  {
   "cell_type": "code",
   "execution_count": 10,
   "metadata": {},
   "outputs": [],
   "source": [
    "#def extract_spec_data(x_path, y_path, random_seed=None, global_normalize=False):\n",
    "def extract_spec_data(x_path, y_path, random_seed=None):\n",
    "    #all_curr=np.load(x_path,allow_pickle=True)\n",
    "    #all_next=np.load(y_path,allow_pickle=True)\n",
    "    all_curr = pickle.load(open(x_path, 'rb'))\n",
    "    all_next = pickle.load(open(y_path, 'rb'))\n",
    "    \n",
    "    x_array = all_curr\n",
    "    y_array = all_next\n",
    "\n",
    "    #x_array = np.vstack(all_curr)\n",
    "    #y_array = np.vstack(all_next)\n",
    "\n",
    "    if random_seed is None:\n",
    "        rand_idx=np.arange(0, np.shape(x_array)[0])\n",
    "    else:\n",
    "        np.random.seed(random_seed)\n",
    "        rand_idx=np.random.choice(range(np.shape(x_array)[0]), size=np.shape(x_array)[0],replace=False)\n",
    "    \n",
    "    split_train_idx, split_val_idx = rand_idx[np.shape(x_array)[0]//10:],rand_idx[:np.shape(x_array)[0]//10] \n",
    "    x_train, x_val=np.asarray(x_array)[split_train_idx], np.asarray(x_array)[split_val_idx]\n",
    "    y_train, y_val=np.asarray(y_array)[split_train_idx],np.asarray(y_array)[split_val_idx]\n",
    "    \n",
    "    #if global_normalize:\n",
    "    #    x_train=x_train/x_train.max()\n",
    "    #    y_train=y_train/y_train.max()\n",
    "    #    x_val=x_val/x_val.max()\n",
    "    #    y_val=y_val/y_val.max()\n",
    "    return x_train,y_train,x_val,y_val"
   ]
  },
  {
   "cell_type": "code",
   "execution_count": 11,
   "metadata": {},
   "outputs": [],
   "source": [
    "segs_path = '/mnt/cube/srrudrar/stim_preprocess/temporal_model/B1240/segs_list_32.pkl'\n",
    "next_path = '/mnt/cube/srrudrar/stim_preprocess/temporal_model/B1240/next_list_32.pkl'\n",
    "\n",
    "#x_train,y_train,x_val,y_val = extract_spec_data(segs_path, next_path, random_seed=0,global_normalize=True)\n",
    "x_train1,y_train1,x_val1,y_val1 = extract_spec_data(segs_path, next_path, random_seed=0)"
   ]
  },
  {
   "cell_type": "code",
   "execution_count": 12,
   "metadata": {},
   "outputs": [],
   "source": [
    "x_train = x_train1[:, :32, :]\n",
    "x_val = x_val1[:, :32, :]\n",
    "y_train = y_train1[:, :32]\n",
    "y_val = y_val1[:, :32]"
   ]
  },
  {
   "cell_type": "code",
   "execution_count": null,
   "metadata": {},
   "outputs": [],
   "source": []
  },
  {
   "cell_type": "markdown",
   "metadata": {},
   "source": [
    "### Training network"
   ]
  },
  {
   "cell_type": "code",
   "execution_count": 13,
   "metadata": {},
   "outputs": [
    {
     "name": "stdout",
     "output_type": "stream",
     "text": [
      "Epoch 0, Train-Loss 0.026943238452076912\n",
      "Epoch 1, Train-Loss 0.024106768891215324\n",
      "Epoch 2, Train-Loss 0.022109253332018852\n",
      "Epoch 3, Train-Loss 0.021426619961857796\n",
      "Epoch 4, Train-Loss 0.013974093832075596\n",
      "Epoch 5, Train-Loss 0.016522958874702454\n",
      "Epoch 6, Train-Loss 0.02282862551510334\n",
      "Epoch 7, Train-Loss 0.011892208829522133\n",
      "Epoch 8, Train-Loss 0.010313163511455059\n",
      "Epoch 9, Train-Loss 0.012899789959192276\n",
      "Epoch 10, Train-Loss 0.028169041499495506\n",
      "Epoch 11, Train-Loss 0.011126020923256874\n",
      "Epoch 12, Train-Loss 0.008411139249801636\n",
      "Epoch 13, Train-Loss 0.016573868691921234\n",
      "Epoch 14, Train-Loss 0.011694836430251598\n",
      "Epoch 15, Train-Loss 0.01425368431955576\n",
      "Epoch 16, Train-Loss 0.012409504503011703\n",
      "Epoch 17, Train-Loss 0.011793164536356926\n",
      "Epoch 18, Train-Loss 0.01140777301043272\n",
      "Epoch 19, Train-Loss 0.012415687553584576\n",
      "Epoch 20, Train-Loss 0.010039164684712887\n",
      "Epoch 21, Train-Loss 0.012529821135103703\n",
      "Epoch 22, Train-Loss 0.008504247292876244\n",
      "Epoch 23, Train-Loss 0.006657733581960201\n",
      "Epoch 24, Train-Loss 0.008847376331686974\n",
      "Epoch 25, Train-Loss 0.008682974614202976\n",
      "Epoch 26, Train-Loss 0.010771622881293297\n",
      "Epoch 27, Train-Loss 0.007129360921680927\n",
      "Epoch 28, Train-Loss 0.006374106742441654\n",
      "Epoch 29, Train-Loss 0.009807110764086246\n",
      "Epoch 30, Train-Loss 0.007779648993164301\n",
      "Epoch 31, Train-Loss 0.008755303919315338\n",
      "Epoch 32, Train-Loss 0.008895870298147202\n",
      "Epoch 33, Train-Loss 0.009708527475595474\n",
      "Epoch 34, Train-Loss 0.00766359455883503\n",
      "Epoch 35, Train-Loss 0.0067069740034639835\n",
      "Epoch 36, Train-Loss 0.007979512214660645\n",
      "Epoch 37, Train-Loss 0.007498408667743206\n",
      "Epoch 38, Train-Loss 0.006301450543105602\n",
      "Epoch 39, Train-Loss 0.010252168402075768\n",
      "Epoch 40, Train-Loss 0.00590173015370965\n",
      "Epoch 41, Train-Loss 0.006950905546545982\n",
      "Epoch 42, Train-Loss 0.006944581400603056\n",
      "Epoch 43, Train-Loss 0.007521836552768946\n",
      "Epoch 44, Train-Loss 0.007107489742338657\n",
      "Epoch 45, Train-Loss 0.0064984457567334175\n",
      "Epoch 46, Train-Loss 0.0067711784504354\n",
      "Epoch 47, Train-Loss 0.00656238105148077\n",
      "Epoch 48, Train-Loss 0.006289001554250717\n",
      "Epoch 49, Train-Loss 0.006274935323745012\n",
      "Epoch 50, Train-Loss 0.007036080118268728\n",
      "Epoch 51, Train-Loss 0.007865370251238346\n",
      "Epoch 52, Train-Loss 0.0055877347476780415\n",
      "Epoch 53, Train-Loss 0.0048795281909406185\n",
      "Epoch 54, Train-Loss 0.005449633579701185\n",
      "Epoch 55, Train-Loss 0.007590737193822861\n",
      "Epoch 56, Train-Loss 0.005746894516050816\n",
      "Epoch 57, Train-Loss 0.006601449567824602\n",
      "Epoch 58, Train-Loss 0.007377843372523785\n",
      "Epoch 59, Train-Loss 0.007838845252990723\n",
      "Epoch 60, Train-Loss 0.005245158448815346\n",
      "Epoch 61, Train-Loss 0.006528862752020359\n",
      "Epoch 62, Train-Loss 0.005328628234565258\n",
      "Epoch 63, Train-Loss 0.00498467031866312\n",
      "Epoch 64, Train-Loss 0.00617095734924078\n",
      "Epoch 65, Train-Loss 0.006238389294594526\n",
      "Epoch 66, Train-Loss 0.006217381451278925\n",
      "Epoch 67, Train-Loss 0.005379332695156336\n",
      "Epoch 68, Train-Loss 0.007263039238750935\n",
      "Epoch 69, Train-Loss 0.008133141323924065\n",
      "Epoch 70, Train-Loss 0.007934334687888622\n",
      "Epoch 71, Train-Loss 0.005706283263862133\n",
      "Epoch 72, Train-Loss 0.006152246613055468\n",
      "Epoch 73, Train-Loss 0.006368453614413738\n",
      "Epoch 74, Train-Loss 0.0074526844546198845\n",
      "Epoch 75, Train-Loss 0.006373974960297346\n",
      "Epoch 76, Train-Loss 0.004497120622545481\n",
      "Epoch 77, Train-Loss 0.0038565336726605892\n",
      "Epoch 78, Train-Loss 0.005635813344269991\n",
      "Epoch 79, Train-Loss 0.004880428314208984\n",
      "Epoch 80, Train-Loss 0.006233169697225094\n",
      "Epoch 81, Train-Loss 0.00530336145311594\n",
      "Epoch 82, Train-Loss 0.007740626577287912\n",
      "Epoch 83, Train-Loss 0.0077462103217840195\n",
      "Epoch 84, Train-Loss 0.005844932980835438\n",
      "Epoch 85, Train-Loss 0.007426917552947998\n",
      "Epoch 86, Train-Loss 0.005639712326228619\n",
      "Epoch 87, Train-Loss 0.005942579824477434\n",
      "Epoch 88, Train-Loss 0.0062182070687413216\n",
      "Epoch 89, Train-Loss 0.004637789912521839\n",
      "Epoch 90, Train-Loss 0.005243406631052494\n",
      "Epoch 91, Train-Loss 0.0065084099769592285\n",
      "Epoch 92, Train-Loss 0.004416602663695812\n",
      "Epoch 93, Train-Loss 0.006061932537704706\n",
      "Epoch 94, Train-Loss 0.005623903125524521\n",
      "Epoch 95, Train-Loss 0.005447855684906244\n",
      "Epoch 96, Train-Loss 0.005342777352780104\n",
      "Epoch 97, Train-Loss 0.006527465768158436\n",
      "Epoch 98, Train-Loss 0.0038168553728610277\n",
      "Epoch 99, Train-Loss 0.0066201332956552505\n",
      "Epoch 100, Train-Loss 0.0052007283084094524\n",
      "Epoch 101, Train-Loss 0.004688255954533815\n",
      "Epoch 102, Train-Loss 0.004961513448506594\n",
      "Epoch 103, Train-Loss 0.0060091763734817505\n",
      "Epoch 104, Train-Loss 0.005626640282571316\n",
      "Epoch 105, Train-Loss 0.004578418098390102\n",
      "Epoch 106, Train-Loss 0.004458768293261528\n",
      "Epoch 107, Train-Loss 0.004499603062868118\n",
      "Epoch 108, Train-Loss 0.0051122200675308704\n",
      "Epoch 109, Train-Loss 0.005319598596543074\n",
      "Epoch 110, Train-Loss 0.00455597136169672\n",
      "Epoch 111, Train-Loss 0.006109551526606083\n",
      "Epoch 112, Train-Loss 0.004366755951195955\n",
      "Epoch 113, Train-Loss 0.005592135712504387\n",
      "Epoch 114, Train-Loss 0.00576062873005867\n",
      "Epoch 115, Train-Loss 0.005621255841106176\n",
      "Epoch 116, Train-Loss 0.0058451308868825436\n",
      "Epoch 117, Train-Loss 0.004762865137308836\n",
      "Epoch 118, Train-Loss 0.006353203672915697\n",
      "Epoch 119, Train-Loss 0.005165667738765478\n",
      "Epoch 120, Train-Loss 0.00453614816069603\n",
      "Epoch 121, Train-Loss 0.005110376980155706\n",
      "Epoch 122, Train-Loss 0.006471429485827684\n",
      "Epoch 123, Train-Loss 0.00506610469892621\n",
      "Epoch 124, Train-Loss 0.005250864662230015\n",
      "Epoch 125, Train-Loss 0.005689247511327267\n",
      "Epoch 126, Train-Loss 0.0045852940529584885\n",
      "Epoch 127, Train-Loss 0.0032027834095060825\n",
      "Epoch 128, Train-Loss 0.005854759830981493\n",
      "Epoch 129, Train-Loss 0.004304869566112757\n",
      "Epoch 130, Train-Loss 0.004575979895889759\n",
      "Epoch 131, Train-Loss 0.004474704619497061\n",
      "Epoch 132, Train-Loss 0.004033213015645742\n",
      "Epoch 133, Train-Loss 0.006421014666557312\n",
      "Epoch 134, Train-Loss 0.0044510443694889545\n",
      "Epoch 135, Train-Loss 0.004170166328549385\n",
      "Epoch 136, Train-Loss 0.0041785105131566525\n",
      "Epoch 137, Train-Loss 0.0029371881391853094\n",
      "Epoch 138, Train-Loss 0.004869908094406128\n",
      "Epoch 139, Train-Loss 0.00454750657081604\n",
      "Epoch 140, Train-Loss 0.003437111619859934\n",
      "Epoch 141, Train-Loss 0.005123689770698547\n",
      "Epoch 142, Train-Loss 0.0040034344419837\n",
      "Epoch 143, Train-Loss 0.003986322786659002\n",
      "Epoch 144, Train-Loss 0.006026388145983219\n",
      "Epoch 145, Train-Loss 0.005015476606786251\n",
      "Epoch 146, Train-Loss 0.0059767188504338264\n",
      "Epoch 147, Train-Loss 0.005728527903556824\n",
      "Epoch 148, Train-Loss 0.003996699117124081\n",
      "Epoch 149, Train-Loss 0.00520260538905859\n",
      "Epoch 150, Train-Loss 0.004818882327526808\n",
      "Epoch 151, Train-Loss 0.005057428497821093\n",
      "Epoch 152, Train-Loss 0.003988966345787048\n",
      "Epoch 153, Train-Loss 0.003939071204513311\n",
      "Epoch 154, Train-Loss 0.005295968148857355\n",
      "Epoch 155, Train-Loss 0.004879574291408062\n",
      "Epoch 156, Train-Loss 0.0037769454065710306\n",
      "Epoch 157, Train-Loss 0.004589015152305365\n",
      "Epoch 158, Train-Loss 0.00535558769479394\n",
      "Epoch 159, Train-Loss 0.004742206074297428\n",
      "Epoch 160, Train-Loss 0.004846594762057066\n",
      "Epoch 161, Train-Loss 0.004420778248459101\n",
      "Epoch 162, Train-Loss 0.005663878750056028\n",
      "Epoch 163, Train-Loss 0.005071805790066719\n",
      "Epoch 164, Train-Loss 0.00444583548232913\n",
      "Epoch 165, Train-Loss 0.004285052884370089\n",
      "Epoch 166, Train-Loss 0.004204712342470884\n",
      "Epoch 167, Train-Loss 0.004896380938589573\n",
      "Epoch 168, Train-Loss 0.0040389555506408215\n",
      "Epoch 169, Train-Loss 0.004745131358504295\n",
      "Epoch 170, Train-Loss 0.005612120497971773\n",
      "Epoch 171, Train-Loss 0.004065605811774731\n",
      "Epoch 172, Train-Loss 0.0035679682623595\n",
      "Epoch 173, Train-Loss 0.0038845741655677557\n",
      "Epoch 174, Train-Loss 0.005164594855159521\n",
      "Epoch 175, Train-Loss 0.004739423282444477\n",
      "Epoch 176, Train-Loss 0.005279114004224539\n",
      "Epoch 177, Train-Loss 0.004583972506225109\n",
      "Epoch 178, Train-Loss 0.004148528445512056\n",
      "Epoch 179, Train-Loss 0.005110607948154211\n",
      "Epoch 180, Train-Loss 0.004805951379239559\n",
      "Epoch 181, Train-Loss 0.005034472793340683\n",
      "Epoch 182, Train-Loss 0.004400049801915884\n",
      "Epoch 183, Train-Loss 0.004206222016364336\n",
      "Epoch 184, Train-Loss 0.0028269172180444\n",
      "Epoch 185, Train-Loss 0.0040186080150306225\n",
      "Epoch 186, Train-Loss 0.006009146571159363\n",
      "Epoch 187, Train-Loss 0.004721313714981079\n",
      "Epoch 188, Train-Loss 0.005527819041162729\n",
      "Epoch 189, Train-Loss 0.0032059703953564167\n",
      "Epoch 190, Train-Loss 0.004175194073468447\n",
      "Epoch 191, Train-Loss 0.003857396077364683\n",
      "Epoch 192, Train-Loss 0.004775454755872488\n",
      "Epoch 193, Train-Loss 0.004147911909967661\n"
     ]
    },
    {
     "name": "stdout",
     "output_type": "stream",
     "text": [
      "Epoch 194, Train-Loss 0.004173944238573313\n",
      "Epoch 195, Train-Loss 0.0034184923861175776\n",
      "Epoch 196, Train-Loss 0.005254408810287714\n",
      "Epoch 197, Train-Loss 0.0037165996618568897\n",
      "Epoch 198, Train-Loss 0.004920444916933775\n",
      "Epoch 199, Train-Loss 0.004392928443849087\n",
      "Epoch 200, Train-Loss 0.004310880322009325\n",
      "Epoch 201, Train-Loss 0.0052908374927937984\n",
      "Epoch 202, Train-Loss 0.0035640562418848276\n",
      "Epoch 203, Train-Loss 0.0036400659009814262\n",
      "Epoch 204, Train-Loss 0.005147217772901058\n",
      "Epoch 205, Train-Loss 0.0029171688947826624\n",
      "Epoch 206, Train-Loss 0.004510350991040468\n",
      "Epoch 207, Train-Loss 0.004879216197878122\n",
      "Epoch 208, Train-Loss 0.0035897677298635244\n",
      "Epoch 209, Train-Loss 0.004152320791035891\n",
      "Epoch 210, Train-Loss 0.004169432912021875\n",
      "Epoch 211, Train-Loss 0.004528542049229145\n",
      "Epoch 212, Train-Loss 0.004477816633880138\n",
      "Epoch 213, Train-Loss 0.004441604949533939\n",
      "Epoch 214, Train-Loss 0.003148507559671998\n",
      "Epoch 215, Train-Loss 0.004851971752941608\n",
      "Epoch 216, Train-Loss 0.003995575476437807\n",
      "Epoch 217, Train-Loss 0.0038336454890668392\n",
      "Epoch 218, Train-Loss 0.004101256839931011\n",
      "Epoch 219, Train-Loss 0.004318659193813801\n",
      "Epoch 220, Train-Loss 0.005086473189294338\n",
      "Epoch 221, Train-Loss 0.0037025553174316883\n",
      "Epoch 222, Train-Loss 0.004960191436111927\n",
      "Epoch 223, Train-Loss 0.0037815587129443884\n",
      "Epoch 224, Train-Loss 0.0032755807042121887\n",
      "Epoch 225, Train-Loss 0.0039765192195773125\n",
      "Epoch 226, Train-Loss 0.003452601144090295\n",
      "Epoch 227, Train-Loss 0.0022786359768360853\n",
      "Epoch 228, Train-Loss 0.0024354876950383186\n",
      "Epoch 229, Train-Loss 0.003928689286112785\n",
      "Epoch 230, Train-Loss 0.004321197979152203\n",
      "Epoch 231, Train-Loss 0.0038563054986298084\n",
      "Epoch 232, Train-Loss 0.00436366768553853\n",
      "Epoch 233, Train-Loss 0.005196646321564913\n",
      "Epoch 234, Train-Loss 0.004477332346141338\n",
      "Epoch 235, Train-Loss 0.0038366650696843863\n",
      "Epoch 236, Train-Loss 0.005015975330024958\n",
      "Epoch 237, Train-Loss 0.003947463817894459\n",
      "Epoch 238, Train-Loss 0.003660941729322076\n",
      "Epoch 239, Train-Loss 0.004046051297336817\n",
      "Epoch 240, Train-Loss 0.0033591529354453087\n",
      "Epoch 241, Train-Loss 0.004194871988147497\n",
      "Epoch 242, Train-Loss 0.0032819556072354317\n",
      "Epoch 243, Train-Loss 0.003594590350985527\n",
      "Epoch 244, Train-Loss 0.003840148448944092\n",
      "Epoch 245, Train-Loss 0.004177645780146122\n",
      "Epoch 246, Train-Loss 0.00468011200428009\n",
      "Epoch 247, Train-Loss 0.003458993975073099\n",
      "Epoch 248, Train-Loss 0.003944760654121637\n",
      "Epoch 249, Train-Loss 0.004469585604965687\n",
      "Epoch 250, Train-Loss 0.003062168136239052\n",
      "Epoch 251, Train-Loss 0.004099572077393532\n",
      "Epoch 252, Train-Loss 0.0035309093073010445\n",
      "Epoch 253, Train-Loss 0.003526614047586918\n",
      "Epoch 254, Train-Loss 0.003363607684150338\n",
      "Epoch 255, Train-Loss 0.0033606295473873615\n",
      "Epoch 256, Train-Loss 0.0037598293274641037\n",
      "Epoch 257, Train-Loss 0.0037411972880363464\n",
      "Epoch 258, Train-Loss 0.0031306627206504345\n",
      "Epoch 259, Train-Loss 0.003652416169643402\n",
      "Epoch 260, Train-Loss 0.0033677995670586824\n",
      "Epoch 261, Train-Loss 0.0037842723540961742\n",
      "Epoch 262, Train-Loss 0.003043309785425663\n",
      "Epoch 263, Train-Loss 0.003424061695113778\n",
      "Epoch 264, Train-Loss 0.0025611561723053455\n",
      "Epoch 265, Train-Loss 0.002864078152924776\n",
      "Epoch 266, Train-Loss 0.0028853234834969044\n",
      "Epoch 267, Train-Loss 0.0031242389231920242\n",
      "Epoch 268, Train-Loss 0.0029911058954894543\n",
      "Epoch 269, Train-Loss 0.0033807638101279736\n",
      "Epoch 270, Train-Loss 0.0036519800778478384\n",
      "Epoch 271, Train-Loss 0.0036120121367275715\n",
      "Epoch 272, Train-Loss 0.0026673704851418734\n",
      "Epoch 273, Train-Loss 0.0032679634168744087\n",
      "Epoch 274, Train-Loss 0.002853026147931814\n",
      "Epoch 275, Train-Loss 0.003845103085041046\n",
      "Epoch 276, Train-Loss 0.002930524991825223\n",
      "Epoch 277, Train-Loss 0.002346939640119672\n",
      "Epoch 278, Train-Loss 0.0030901627615094185\n",
      "Epoch 279, Train-Loss 0.0033708023838698864\n",
      "Epoch 280, Train-Loss 0.0029661108274012804\n",
      "Epoch 281, Train-Loss 0.0027342606335878372\n",
      "Epoch 282, Train-Loss 0.003356965258717537\n",
      "Epoch 283, Train-Loss 0.0035915919579565525\n",
      "Epoch 284, Train-Loss 0.0036118668504059315\n",
      "Epoch 285, Train-Loss 0.004349942319095135\n",
      "Epoch 286, Train-Loss 0.0034732900094240904\n",
      "Epoch 287, Train-Loss 0.00317388609983027\n",
      "Epoch 288, Train-Loss 0.004268173594027758\n",
      "Epoch 289, Train-Loss 0.00355262472294271\n",
      "Epoch 290, Train-Loss 0.0037913352716714144\n",
      "Epoch 291, Train-Loss 0.002720867283642292\n",
      "Epoch 292, Train-Loss 0.003480916377156973\n",
      "Epoch 293, Train-Loss 0.0031422050669789314\n",
      "Epoch 294, Train-Loss 0.0032252874225378036\n",
      "Epoch 295, Train-Loss 0.0028998986817896366\n",
      "Epoch 296, Train-Loss 0.0035805583465844393\n",
      "Epoch 297, Train-Loss 0.0034102993085980415\n",
      "Epoch 298, Train-Loss 0.0027389368042349815\n",
      "Epoch 299, Train-Loss 0.0039212401024997234\n",
      "Epoch 300, Train-Loss 0.0028620047960430384\n",
      "Epoch 301, Train-Loss 0.0032822322100400925\n",
      "Epoch 302, Train-Loss 0.003003746271133423\n",
      "Epoch 303, Train-Loss 0.0036439741961658\n",
      "Epoch 304, Train-Loss 0.002759355353191495\n",
      "Epoch 305, Train-Loss 0.0029559193644672632\n",
      "Epoch 306, Train-Loss 0.002714410424232483\n",
      "Epoch 307, Train-Loss 0.002960212528705597\n",
      "Epoch 308, Train-Loss 0.005187388509511948\n",
      "Epoch 309, Train-Loss 0.003008959349244833\n",
      "Epoch 310, Train-Loss 0.003191135125234723\n",
      "Epoch 311, Train-Loss 0.0022700654808431864\n",
      "Epoch 312, Train-Loss 0.003632151521742344\n",
      "Epoch 313, Train-Loss 0.0027281229849904776\n",
      "Epoch 314, Train-Loss 0.0035340441390872\n",
      "Epoch 315, Train-Loss 0.004315178841352463\n",
      "Epoch 316, Train-Loss 0.0030163931660354137\n",
      "Epoch 317, Train-Loss 0.002004338428378105\n",
      "Epoch 318, Train-Loss 0.003114105900749564\n",
      "Epoch 319, Train-Loss 0.004078722558915615\n",
      "Epoch 320, Train-Loss 0.002424448961392045\n",
      "Epoch 321, Train-Loss 0.0031800162978470325\n",
      "Epoch 322, Train-Loss 0.0045242165215313435\n",
      "Epoch 323, Train-Loss 0.002834747079759836\n",
      "Epoch 324, Train-Loss 0.0037360633723437786\n",
      "Epoch 325, Train-Loss 0.0038593499921262264\n",
      "Epoch 326, Train-Loss 0.003454486606642604\n",
      "Epoch 327, Train-Loss 0.0027414336800575256\n",
      "Epoch 328, Train-Loss 0.00350686302408576\n",
      "Epoch 329, Train-Loss 0.0031470004469156265\n",
      "Epoch 330, Train-Loss 0.003037654561921954\n",
      "Epoch 331, Train-Loss 0.003404264571145177\n",
      "Epoch 332, Train-Loss 0.0031854088883847\n",
      "Epoch 333, Train-Loss 0.0027067740447819233\n",
      "Epoch 334, Train-Loss 0.003318303031846881\n",
      "Epoch 335, Train-Loss 0.002640238031744957\n",
      "Epoch 336, Train-Loss 0.0035131999757140875\n",
      "Epoch 337, Train-Loss 0.002608953043818474\n",
      "Epoch 338, Train-Loss 0.003267511259764433\n",
      "Epoch 339, Train-Loss 0.0037278966046869755\n",
      "Epoch 340, Train-Loss 0.003039153991267085\n",
      "Epoch 341, Train-Loss 0.0018956157146021724\n",
      "Epoch 342, Train-Loss 0.002856150036677718\n",
      "Epoch 343, Train-Loss 0.002956630429252982\n",
      "Epoch 344, Train-Loss 0.0033803232945501804\n",
      "Epoch 345, Train-Loss 0.0023575020022690296\n",
      "Epoch 346, Train-Loss 0.003468320704996586\n",
      "Epoch 347, Train-Loss 0.0032574511133134365\n",
      "Epoch 348, Train-Loss 0.004055732395499945\n",
      "Epoch 349, Train-Loss 0.003564656712114811\n",
      "Epoch 350, Train-Loss 0.0030249455012381077\n",
      "Epoch 351, Train-Loss 0.002806510077789426\n",
      "Epoch 352, Train-Loss 0.0034795724786818027\n",
      "Epoch 353, Train-Loss 0.00287899118848145\n",
      "Epoch 354, Train-Loss 0.002824700903147459\n",
      "Epoch 355, Train-Loss 0.003037824993953109\n",
      "Epoch 356, Train-Loss 0.004466184414923191\n",
      "Epoch 357, Train-Loss 0.0035678569693118334\n",
      "Epoch 358, Train-Loss 0.0026893315371125937\n",
      "Epoch 359, Train-Loss 0.0032633920200169086\n",
      "Epoch 360, Train-Loss 0.0031573285814374685\n",
      "Epoch 361, Train-Loss 0.0033533198293298483\n",
      "Epoch 362, Train-Loss 0.005217577796429396\n",
      "Epoch 363, Train-Loss 0.0036910385824739933\n",
      "Epoch 364, Train-Loss 0.0032698384020477533\n",
      "Epoch 365, Train-Loss 0.0028710251208394766\n",
      "Epoch 366, Train-Loss 0.003117519896477461\n",
      "Epoch 367, Train-Loss 0.004289712756872177\n",
      "Epoch 368, Train-Loss 0.003102297428995371\n",
      "Epoch 369, Train-Loss 0.002727158833295107\n",
      "Epoch 370, Train-Loss 0.0027418367099016905\n",
      "Epoch 371, Train-Loss 0.0023060909006744623\n",
      "Epoch 372, Train-Loss 0.003984969109296799\n",
      "Epoch 373, Train-Loss 0.003004570957273245\n",
      "Epoch 374, Train-Loss 0.002743239514529705\n",
      "Epoch 375, Train-Loss 0.0024966245982795954\n",
      "Epoch 376, Train-Loss 0.002872366923838854\n",
      "Epoch 377, Train-Loss 0.003716842969879508\n",
      "Epoch 378, Train-Loss 0.0030121176969259977\n",
      "Epoch 379, Train-Loss 0.004289037082344294\n",
      "Epoch 380, Train-Loss 0.003241271246224642\n",
      "Epoch 381, Train-Loss 0.0025979410856962204\n",
      "Epoch 382, Train-Loss 0.00365084339864552\n"
     ]
    },
    {
     "name": "stdout",
     "output_type": "stream",
     "text": [
      "Epoch 383, Train-Loss 0.0036200289614498615\n",
      "Epoch 384, Train-Loss 0.002727805869653821\n",
      "Epoch 385, Train-Loss 0.002719675889238715\n",
      "Epoch 386, Train-Loss 0.0032943030819296837\n",
      "Epoch 387, Train-Loss 0.003313233843073249\n",
      "Epoch 388, Train-Loss 0.0017631996888667345\n",
      "Epoch 389, Train-Loss 0.004004596266895533\n",
      "Epoch 390, Train-Loss 0.004295106511563063\n",
      "Epoch 391, Train-Loss 0.0036252241116017103\n",
      "Epoch 392, Train-Loss 0.0035549483727663755\n",
      "Epoch 393, Train-Loss 0.003572505433112383\n",
      "Epoch 394, Train-Loss 0.0036243596114218235\n",
      "Epoch 395, Train-Loss 0.0029361494816839695\n",
      "Epoch 396, Train-Loss 0.0028128281701356173\n",
      "Epoch 397, Train-Loss 0.0030491978395730257\n",
      "Epoch 398, Train-Loss 0.003887972328811884\n",
      "Epoch 399, Train-Loss 0.003476286306977272\n",
      "Epoch 400, Train-Loss 0.0033588469959795475\n",
      "Epoch 401, Train-Loss 0.0028492300771176815\n",
      "Epoch 402, Train-Loss 0.003992645535618067\n",
      "Epoch 403, Train-Loss 0.003119442379102111\n",
      "Epoch 404, Train-Loss 0.0022297711111605167\n",
      "Epoch 405, Train-Loss 0.003155033802613616\n",
      "Epoch 406, Train-Loss 0.004085120279341936\n",
      "Epoch 407, Train-Loss 0.003920552786439657\n",
      "Epoch 408, Train-Loss 0.00224103475920856\n",
      "Epoch 409, Train-Loss 0.0024124064948409796\n",
      "Epoch 410, Train-Loss 0.004449492320418358\n",
      "Epoch 411, Train-Loss 0.002656784374266863\n",
      "Epoch 412, Train-Loss 0.002909707138314843\n",
      "Epoch 413, Train-Loss 0.003422357374802232\n",
      "Epoch 414, Train-Loss 0.0032721892930567265\n",
      "Epoch 415, Train-Loss 0.0027877481188625097\n",
      "Epoch 416, Train-Loss 0.0033036733511835337\n",
      "Epoch 417, Train-Loss 0.003648933721706271\n",
      "Epoch 418, Train-Loss 0.0034096986055374146\n",
      "Epoch 419, Train-Loss 0.0025730945635586977\n",
      "Epoch 420, Train-Loss 0.003983817994594574\n",
      "Epoch 421, Train-Loss 0.0027680564671754837\n",
      "Epoch 422, Train-Loss 0.0034204742405563593\n",
      "Epoch 423, Train-Loss 0.0035448300186544657\n",
      "Epoch 424, Train-Loss 0.0029270753730088472\n",
      "Epoch 425, Train-Loss 0.0037160073406994343\n",
      "Epoch 426, Train-Loss 0.003301059128716588\n",
      "Epoch 427, Train-Loss 0.0026885168626904488\n",
      "Epoch 428, Train-Loss 0.0038669223431497812\n",
      "Epoch 429, Train-Loss 0.0024904983583837748\n",
      "Epoch 430, Train-Loss 0.002142507815733552\n",
      "Epoch 431, Train-Loss 0.002591959899291396\n",
      "Epoch 432, Train-Loss 0.0033442641142755747\n",
      "Epoch 433, Train-Loss 0.003019933355972171\n",
      "Epoch 434, Train-Loss 0.0034098427277058363\n",
      "Epoch 435, Train-Loss 0.0033826360013335943\n",
      "Epoch 436, Train-Loss 0.002737011993303895\n",
      "Epoch 437, Train-Loss 0.003201161278411746\n",
      "Epoch 438, Train-Loss 0.002766087418422103\n",
      "Epoch 439, Train-Loss 0.0026107425801455975\n",
      "Epoch 440, Train-Loss 0.0031082802452147007\n",
      "Epoch 441, Train-Loss 0.0025534701999276876\n",
      "Epoch 442, Train-Loss 0.00252011907286942\n",
      "Epoch 443, Train-Loss 0.002677608747035265\n",
      "Epoch 444, Train-Loss 0.0024778919760137796\n",
      "Epoch 445, Train-Loss 0.0025149863213300705\n",
      "Epoch 446, Train-Loss 0.0035577386151999235\n",
      "Epoch 447, Train-Loss 0.002503178548067808\n",
      "Epoch 448, Train-Loss 0.0036040812265127897\n",
      "Epoch 449, Train-Loss 0.003399681532755494\n",
      "Epoch 450, Train-Loss 0.0034398550633341074\n",
      "Epoch 451, Train-Loss 0.0035215795505791903\n",
      "Epoch 452, Train-Loss 0.0020996821112930775\n",
      "Epoch 453, Train-Loss 0.003057283814996481\n",
      "Epoch 454, Train-Loss 0.003623415483161807\n",
      "Epoch 455, Train-Loss 0.0038474982138723135\n",
      "Epoch 456, Train-Loss 0.003965173847973347\n",
      "Epoch 457, Train-Loss 0.003151257988065481\n",
      "Epoch 458, Train-Loss 0.003980958368629217\n",
      "Epoch 459, Train-Loss 0.003257056698203087\n",
      "Epoch 460, Train-Loss 0.003160057356581092\n",
      "Epoch 461, Train-Loss 0.002691383007913828\n",
      "Epoch 462, Train-Loss 0.0027364096604287624\n",
      "Epoch 463, Train-Loss 0.002607368165627122\n",
      "Epoch 464, Train-Loss 0.002627055859193206\n",
      "Epoch 465, Train-Loss 0.0029172622598707676\n",
      "Epoch 466, Train-Loss 0.0029598299879580736\n",
      "Epoch 467, Train-Loss 0.002745650941506028\n",
      "Epoch 468, Train-Loss 0.0037151784636080265\n",
      "Epoch 469, Train-Loss 0.0025629582814872265\n",
      "Epoch 470, Train-Loss 0.0028586203698068857\n",
      "Epoch 471, Train-Loss 0.002911507384851575\n",
      "Epoch 472, Train-Loss 0.0032134021166712046\n",
      "Epoch 473, Train-Loss 0.0038044629618525505\n",
      "Epoch 474, Train-Loss 0.00266769016161561\n",
      "Epoch 475, Train-Loss 0.003027586732059717\n",
      "Epoch 476, Train-Loss 0.002394357929006219\n",
      "Epoch 477, Train-Loss 0.0032086095307022333\n",
      "Epoch 478, Train-Loss 0.0036926392931491137\n",
      "Epoch 479, Train-Loss 0.00306698027998209\n",
      "Epoch 480, Train-Loss 0.00392662500962615\n",
      "Epoch 481, Train-Loss 0.0034100133925676346\n",
      "Epoch 482, Train-Loss 0.0027098157443106174\n",
      "Epoch 483, Train-Loss 0.00292534613981843\n",
      "Epoch 484, Train-Loss 0.0035842848010361195\n",
      "Epoch 485, Train-Loss 0.003740256652235985\n",
      "Epoch 486, Train-Loss 0.002645097905769944\n",
      "Epoch 487, Train-Loss 0.0030982850585132837\n",
      "Epoch 488, Train-Loss 0.0033733253367245197\n",
      "Epoch 489, Train-Loss 0.003283118363469839\n",
      "Epoch 490, Train-Loss 0.0020314061548560858\n",
      "Epoch 491, Train-Loss 0.0033218120224773884\n",
      "Epoch 492, Train-Loss 0.0031600205693393946\n",
      "Epoch 493, Train-Loss 0.004613484255969524\n",
      "Epoch 494, Train-Loss 0.0027770455926656723\n",
      "Epoch 495, Train-Loss 0.002296742284670472\n",
      "Epoch 496, Train-Loss 0.002947601256892085\n",
      "Epoch 497, Train-Loss 0.0037336484529078007\n",
      "Epoch 498, Train-Loss 0.0026082932017743587\n",
      "Epoch 499, Train-Loss 0.0027629402466118336\n"
     ]
    },
    {
     "data": {
      "image/png": "[encoded data removed]",
      "text/plain": [
       "<Figure size 432x288 with 1 Axes>"
      ]
     },
     "metadata": {
      "needs_background": "light"
     },
     "output_type": "display_data"
    }
   ],
   "source": [
    "train_dset = tf.data.Dataset.from_tensor_slices((x_train.astype(np.float32), y_train.astype(np.float32)))\n",
    "train_dset = train_dset.shuffle(buffer_size=x_train.shape[0]+256).batch(64)\n",
    "test_losses = []\n",
    "\n",
    "optimizer = tf.optimizers.Adam(1e-3)\n",
    "model = Temporal_Specgram_CNN_Model(optimizer=optimizer)\n",
    "x_val, y_val = x_val.astype(np.float32), y_val.astype(np.float32)\n",
    "with tf.device('/device:gpu:3'):\n",
    "#     tf.print('Training Fold {}'.format(index))\n",
    "    #model.load_weights('./temporal_specgram_weights/initial')\n",
    "    for epoch in range(500):\n",
    "        if epoch>250:\n",
    "            model.optimizer.learning_rate=2e-4\n",
    "        for step, train_batch in enumerate(train_dset):\n",
    "            train_loss = model.train_model(train_batch[0], train_batch[1])\n",
    "\n",
    "        tf.print('Epoch {}, Train-Loss {}'.format(epoch, train_loss), output_stream=sys.stdout)\n",
    "        test_losses.append(model.compute_test_loss(x_val, y_val))\n",
    "        \n",
    "    plt.plot(test_losses)\n",
    "    plt.xlabel('Epochs')\n",
    "    plt.ylabel('Test Loss')\n",
    "    plt.title('Test Loss by Epoch: {} units'.format(256))\n",
    "    #plt.savefig('mnt/cube/srrudrar/temporal_model/loss_plots/{}units_loss.png'.format(256))"
   ]
  },
  {
   "cell_type": "code",
   "execution_count": 14,
   "metadata": {},
   "outputs": [
    {
     "name": "stdout",
     "output_type": "stream",
     "text": [
      "TensorShape([15000, 32])\n",
      "TensorShape([15000, 32])\n",
      "TensorShape([21357, 32])\n",
      "TensorShape([5706, 32])\n"
     ]
    }
   ],
   "source": [
    "with tf.device('/device:gpu:3'):\n",
    "    #model.save_weights('/mnt/cube/srrudrar/temporal_model/temporal_model_weights/temp_256_l1_3_5_500epoch_64batch.h5')\n",
    "    #predicted = model.full_model(x_val)\n",
    "    enc_train1 = model.enc_2(model.enc_dropout(model.enc_1(x_train[:15000,:,:][:,:,:,np.newaxis])))\n",
    "    enc_train2 = model.enc_2(model.enc_dropout(model.enc_1(x_train[15000:30000,:,:][:,:,:,np.newaxis])))\n",
    "    enc_train3 = model.enc_2(model.enc_dropout(model.enc_1(x_train[30000:,:,:][:,:,:,np.newaxis])))\n",
    "    enc_val = model.enc_2(model.enc_dropout(model.enc_1(x_val[:,:,:,np.newaxis])))\n",
    "    #tf.print(predicted.shape)\n",
    "    tf.print(enc_train1.shape)\n",
    "    tf.print(enc_train2.shape)\n",
    "    tf.print(enc_train3.shape)\n",
    "    tf.print(enc_val.shape)"
   ]
  },
  {
   "cell_type": "code",
   "execution_count": 15,
   "metadata": {},
   "outputs": [
    {
     "name": "stdout",
     "output_type": "stream",
     "text": [
      "TensorShape([5706, 32])\n"
     ]
    }
   ],
   "source": [
    "with tf.device('/device:gpu:3'):\n",
    "    #model.save_weights('/mnt/cube/srrudrar/temporal_model/temporal_model_weights/temp_256_l1_3_5_500epoch_64batch.h5')\n",
    "    #predicted = model.full_model(x_val)\n",
    "    dec_val = model.dec_pred(model.enc_2(model.enc_dropout(model.enc_1(x_val[:,:,:,np.newaxis]))))\n",
    "    #tf.print(predicted.shape)\n",
    "    tf.print(dec_val.shape)"
   ]
  },
  {
   "cell_type": "code",
   "execution_count": 17,
   "metadata": {},
   "outputs": [],
   "source": [
    "enc_train = np.vstack([enc_train1, enc_train2, enc_train3])\n",
    "enc_val = np.vstack([enc_val])\n",
    "\n",
    "enc_train_reshape = np.reshape(enc_train, (len(enc_train),4,8))"
   ]
  },
  {
   "cell_type": "code",
   "execution_count": 18,
   "metadata": {},
   "outputs": [
    {
     "data": {
      "text/plain": [
       "((51357, 32), (51357, 32, 32), (5706, 32), (5706, 32, 32))"
      ]
     },
     "execution_count": 18,
     "metadata": {},
     "output_type": "execute_result"
    }
   ],
   "source": [
    "np.shape(enc_train), np.shape(x_train), np.shape(enc_val), np.shape(x_val)"
   ]
  },
  {
   "cell_type": "code",
   "execution_count": 19,
   "metadata": {},
   "outputs": [
    {
     "data": {
      "text/plain": [
       "Text(0.5, 1.05, 'Mel Spectrogram')"
      ]
     },
     "execution_count": 19,
     "metadata": {},
     "output_type": "execute_result"
    },
    {
     "data": {
      "image/png": "[encoded data removed]",
      "text/plain": [
       "<Figure size 288x360 with 2 Axes>"
      ]
     },
     "metadata": {
      "needs_background": "light"
     },
     "output_type": "display_data"
    }
   ],
   "source": [
    "fig, ax = plt.subplots(nrows=1,ncols=1, figsize=(4,5))\n",
    "cax = ax.matshow(x_train[100], interpolation='nearest', aspect='auto', cmap=plt.cm.afmhot, origin='lower')\n",
    "fig.colorbar(cax)\n",
    "plt.title('Mel Spectrogram')"
   ]
  },
  {
   "cell_type": "code",
   "execution_count": 20,
   "metadata": {},
   "outputs": [
    {
     "data": {
      "text/plain": [
       "Text(0.5, 1.05, 'Mel Spectrogram')"
      ]
     },
     "execution_count": 20,
     "metadata": {},
     "output_type": "execute_result"
    },
    {
     "data": {
      "image/png": "[encoded data removed]",
      "text/plain": [
       "<Figure size 288x360 with 2 Axes>"
      ]
     },
     "metadata": {
      "needs_background": "light"
     },
     "output_type": "display_data"
    }
   ],
   "source": [
    "fig, ax = plt.subplots(nrows=1,ncols=1, figsize=(4,5))\n",
    "cax = ax.matshow(enc_train_reshape[100], interpolation='nearest', aspect='auto', cmap=plt.cm.afmhot, origin='lower')\n",
    "fig.colorbar(cax)\n",
    "plt.title('Mel Spectrogram')"
   ]
  },
  {
   "cell_type": "code",
   "execution_count": null,
   "metadata": {},
   "outputs": [],
   "source": []
  },
  {
   "cell_type": "code",
   "execution_count": 21,
   "metadata": {},
   "outputs": [],
   "source": [
    "resp_train = x_train1[:, 32:, :]\n",
    "spec_train = [x.flatten() for x in x_train]\n",
    "#enc_train\n",
    "\n",
    "resp_test = x_val1[:, 32:, :]\n",
    "spec_test = [x.flatten() for x in x_val]\n",
    "#enc_test = enc_val\n",
    "#x_val = x_val[:, :16, :]\n",
    "#y_train = y_train[:, :16]\n",
    "#y_val = y_val[:, :16]"
   ]
  },
  {
   "cell_type": "code",
   "execution_count": 22,
   "metadata": {},
   "outputs": [
    {
     "data": {
      "text/plain": [
       "((51357, 1024),\n",
       " (51357, 32),\n",
       " (51357, 214, 32),\n",
       " (5706, 1024),\n",
       " (5706, 32),\n",
       " (5706, 214, 32))"
      ]
     },
     "execution_count": 22,
     "metadata": {},
     "output_type": "execute_result"
    }
   ],
   "source": [
    "np.shape(spec_train), np.shape(enc_train), np.shape(resp_train), np.shape(spec_test), np.shape(enc_val), np.shape(resp_test)"
   ]
  },
  {
   "cell_type": "code",
   "execution_count": 23,
   "metadata": {},
   "outputs": [],
   "source": [
    "np.save('/mnt/cube/srrudrar/tcm2/B1240/32x32/stim_resp_32x32_32/spec_train_32.npy', spec_train)\n",
    "np.save('/mnt/cube/srrudrar/tcm2/B1240/32x32/stim_resp_32x32_32/enc_train_32.npy', enc_train)\n",
    "np.save('/mnt/cube/srrudrar/tcm2/B1240/32x32/stim_resp_32x32_32/resp_train_32.npy', resp_train)\n",
    "\n",
    "np.save('/mnt/cube/srrudrar/tcm2/B1240/32x32/stim_resp_32x32_32/spec_test_32.npy', spec_test)\n",
    "np.save('/mnt/cube/srrudrar/tcm2/B1240/32x32/stim_resp_32x32_32/enc_test_32.npy', enc_val)\n",
    "np.save('/mnt/cube/srrudrar/tcm2/B1240/32x32/stim_resp_32x32_32/resp_test_32.npy', resp_test)"
   ]
  },
  {
   "cell_type": "code",
   "execution_count": 24,
   "metadata": {},
   "outputs": [],
   "source": [
    "np.save('/mnt/cube/srrudrar/tcm2/B1240/32x32/stim_resp_32x32_32/y_train_32.npy', y_train)\n",
    "np.save('/mnt/cube/srrudrar/tcm2/B1240/32x32/stim_resp_32x32_32/y_test_32.npy', y_val)"
   ]
  },
  {
   "cell_type": "code",
   "execution_count": null,
   "metadata": {},
   "outputs": [],
   "source": [
    "import json"
   ]
  },
  {
   "cell_type": "code",
   "execution_count": null,
   "metadata": {},
   "outputs": [],
   "source": [
    "json.dump([float(i[0].numpy()) for i in test_losses],open('pred_only_64_channels_dropout_test_loss.json', 'w'))"
   ]
  },
  {
   "cell_type": "code",
   "execution_count": null,
   "metadata": {},
   "outputs": [],
   "source": []
  }
 ],
 "metadata": {
  "kernelspec": {
   "display_name": "Python 3",
   "language": "python",
   "name": "python3"
  },
  "language_info": {
   "codemirror_mode": {
    "name": "ipython",
    "version": 3
   },
   "file_extension": ".py",
   "mimetype": "text/x-python",
   "name": "python",
   "nbconvert_exporter": "python",
   "pygments_lexer": "ipython3",
   "version": "3.7.5"
  }
 },
 "nbformat": 4,
 "nbformat_minor": 2
}
